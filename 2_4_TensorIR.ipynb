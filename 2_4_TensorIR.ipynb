{
  "nbformat": 4,
  "nbformat_minor": 0,
  "metadata": {
    "colab": {
      "provenance": [],
      "authorship_tag": "ABX9TyPvG+hzAMWvN1XbLtGPowNC",
      "include_colab_link": true
    },
    "kernelspec": {
      "name": "python3",
      "display_name": "Python 3"
    },
    "language_info": {
      "name": "python"
    }
  },
  "cells": [
    {
      "cell_type": "markdown",
      "metadata": {
        "id": "view-in-github",
        "colab_type": "text"
      },
      "source": [
        "<a href=\"https://colab.research.google.com/github/yingtongxiong/MLCnotebooks/blob/xytExercise/2_4_TensorIR.ipynb\" target=\"_parent\"><img src=\"https://colab.research.google.com/assets/colab-badge.svg\" alt=\"Open In Colab\"/></a>"
      ]
    },
    {
      "cell_type": "code",
      "execution_count": 1,
      "metadata": {
        "colab": {
          "base_uri": "https://localhost:8080/"
        },
        "id": "EnnrfRlkVDNB",
        "outputId": "35d35ba6-607b-4c87-d81d-2e70b0760761"
      },
      "outputs": [
        {
          "output_type": "stream",
          "name": "stdout",
          "text": [
            "Looking in indexes: https://pypi.org/simple, https://us-python.pkg.dev/colab-wheels/public/simple/\n",
            "Looking in links: https://mlc.ai/wheels\n",
            "Collecting mlc-ai-nightly\n",
            "  Downloading https://github.com/mlc-ai/utils/releases/download/v0.9.dev0/mlc_ai_nightly-0.9.dev2227%2Bg06c0ef3be-cp37-cp37m-manylinux_2_17_x86_64.manylinux2014_x86_64.whl (45.5 MB)\n",
            "\u001b[K     |████████████████████████████████| 45.5 MB 1.5 MB/s \n",
            "\u001b[?25hRequirement already satisfied: cloudpickle in /usr/local/lib/python3.7/dist-packages (from mlc-ai-nightly) (1.5.0)\n",
            "Requirement already satisfied: attrs in /usr/local/lib/python3.7/dist-packages (from mlc-ai-nightly) (22.1.0)\n",
            "Requirement already satisfied: numpy in /usr/local/lib/python3.7/dist-packages (from mlc-ai-nightly) (1.21.6)\n",
            "Collecting synr==0.6.0\n",
            "  Downloading synr-0.6.0-py3-none-any.whl (18 kB)\n",
            "Requirement already satisfied: tornado in /usr/local/lib/python3.7/dist-packages (from mlc-ai-nightly) (5.1.1)\n",
            "Requirement already satisfied: scipy in /usr/local/lib/python3.7/dist-packages (from mlc-ai-nightly) (1.7.3)\n",
            "Requirement already satisfied: decorator in /usr/local/lib/python3.7/dist-packages (from mlc-ai-nightly) (4.4.2)\n",
            "Requirement already satisfied: psutil in /usr/local/lib/python3.7/dist-packages (from mlc-ai-nightly) (5.4.8)\n",
            "Installing collected packages: synr, mlc-ai-nightly\n",
            "Successfully installed mlc-ai-nightly-0.9.dev2227+g06c0ef3be synr-0.6.0\n"
          ]
        }
      ],
      "source": [
        "!python3 -m  pip install mlc-ai-nightly -f https://mlc.ai/wheels"
      ]
    },
    {
      "cell_type": "code",
      "source": [
        "import numpy as np\n",
        "import tvm\n",
        "from tvm.ir.module import IRModule\n",
        "from tvm.script import tir as T"
      ],
      "metadata": {
        "id": "4xw2LPs1VsUN"
      },
      "execution_count": 2,
      "outputs": []
    },
    {
      "cell_type": "code",
      "source": [
        "dtype = \"float32\"\n",
        "a_np = np.random.rand(128, 128).astype(dtype)\n",
        "b_np = np.random.rand(128, 128).astype(dtype)\n",
        "# a @ b is equal to np.matmul(a, b)\n",
        "c_mm_relu = np.maximum(a_np @ b_np, 0)"
      ],
      "metadata": {
        "id": "hz28f86DlKo_"
      },
      "execution_count": 3,
      "outputs": []
    },
    {
      "cell_type": "code",
      "source": [
        "def lnumpy_mm_relu(A: np.ndarray, B: np.ndarray, C: np.ndarray):\n",
        "  Y = np.empty((128, 128), dtype=\"float32\")\n",
        "  for i in range(128):\n",
        "    for j in range(128):\n",
        "      for k in range(128):\n",
        "        if k == 0:\n",
        "          Y[i, j] = 0\n",
        "        Y[i, j] = Y[i, j] + A[i, k] * B[k, j]\n",
        "  for i in range(128):\n",
        "    for j in range(128):\n",
        "      C[i, j] = max(Y[i, j], 0)"
      ],
      "metadata": {
        "id": "81kPhuIVl4TW"
      },
      "execution_count": 4,
      "outputs": []
    },
    {
      "cell_type": "code",
      "source": [
        "c_np = np.empty((128, 128), dtype=dtype)\n",
        "lnumpy_mm_relu(a_np, b_np, c_np)\n",
        "np.testing.assert_allclose(c_mm_relu, c_np, rtol=1e-5)"
      ],
      "metadata": {
        "id": "iSfXpoZynXRL"
      },
      "execution_count": 5,
      "outputs": []
    },
    {
      "cell_type": "code",
      "source": [],
      "metadata": {
        "id": "wTdxoewOnzKH"
      },
      "execution_count": null,
      "outputs": []
    }
  ]
}