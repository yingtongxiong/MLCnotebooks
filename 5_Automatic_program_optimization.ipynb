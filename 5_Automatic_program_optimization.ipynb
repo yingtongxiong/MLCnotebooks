{
  "nbformat": 4,
  "nbformat_minor": 0,
  "metadata": {
    "colab": {
      "provenance": [],
      "authorship_tag": "ABX9TyN+rXIDCgwu/Aeoldx0zqc+",
      "include_colab_link": true
    },
    "kernelspec": {
      "name": "python3",
      "display_name": "Python 3"
    },
    "language_info": {
      "name": "python"
    },
    "widgets": {
      "application/vnd.jupyter.widget-state+json": {
        "83612dcf1ee14339b83459e1716c01ec": {
          "model_module": "@jupyter-widgets/controls",
          "model_name": "HBoxModel",
          "model_module_version": "1.5.0",
          "state": {
            "_dom_classes": [],
            "_model_module": "@jupyter-widgets/controls",
            "_model_module_version": "1.5.0",
            "_model_name": "HBoxModel",
            "_view_count": null,
            "_view_module": "@jupyter-widgets/controls",
            "_view_module_version": "1.5.0",
            "_view_name": "HBoxView",
            "box_style": "",
            "children": [
              "IPY_MODEL_709a8536d84943dd9769e5aef27d1ead",
              "IPY_MODEL_79598fc1ac024c5eb807fef6abac3aac",
              "IPY_MODEL_59651582efb340cc968ef6b8f81f8b61"
            ],
            "layout": "IPY_MODEL_1be3cc48eef64afc9b1ad3625bac9dfc"
          }
        },
        "709a8536d84943dd9769e5aef27d1ead": {
          "model_module": "@jupyter-widgets/controls",
          "model_name": "HTMLModel",
          "model_module_version": "1.5.0",
          "state": {
            "_dom_classes": [],
            "_model_module": "@jupyter-widgets/controls",
            "_model_module_version": "1.5.0",
            "_model_name": "HTMLModel",
            "_view_count": null,
            "_view_module": "@jupyter-widgets/controls",
            "_view_module_version": "1.5.0",
            "_view_name": "HTMLView",
            "description": "",
            "description_tooltip": null,
            "layout": "IPY_MODEL_b6b9baadd916427aad8510a70fe97659",
            "placeholder": "​",
            "style": "IPY_MODEL_4d24675cc8284c7ab1fc977f110c1203",
            "value": "100%"
          }
        },
        "79598fc1ac024c5eb807fef6abac3aac": {
          "model_module": "@jupyter-widgets/controls",
          "model_name": "FloatProgressModel",
          "model_module_version": "1.5.0",
          "state": {
            "_dom_classes": [],
            "_model_module": "@jupyter-widgets/controls",
            "_model_module_version": "1.5.0",
            "_model_name": "FloatProgressModel",
            "_view_count": null,
            "_view_module": "@jupyter-widgets/controls",
            "_view_module_version": "1.5.0",
            "_view_name": "ProgressView",
            "bar_style": "success",
            "description": "",
            "description_tooltip": null,
            "layout": "IPY_MODEL_e952b3f93dda4026a856ed3daeea32ef",
            "max": 26421880,
            "min": 0,
            "orientation": "horizontal",
            "style": "IPY_MODEL_fb60cd6edf07457ab6fca2ca80cef6ad",
            "value": 26421880
          }
        },
        "59651582efb340cc968ef6b8f81f8b61": {
          "model_module": "@jupyter-widgets/controls",
          "model_name": "HTMLModel",
          "model_module_version": "1.5.0",
          "state": {
            "_dom_classes": [],
            "_model_module": "@jupyter-widgets/controls",
            "_model_module_version": "1.5.0",
            "_model_name": "HTMLModel",
            "_view_count": null,
            "_view_module": "@jupyter-widgets/controls",
            "_view_module_version": "1.5.0",
            "_view_name": "HTMLView",
            "description": "",
            "description_tooltip": null,
            "layout": "IPY_MODEL_a8846e20ec3d41c5ba9cd38c86b8d233",
            "placeholder": "​",
            "style": "IPY_MODEL_fc9fc4475af9475e8e4027e3be1a02ac",
            "value": " 26421880/26421880 [00:02&lt;00:00, 19234058.24it/s]"
          }
        },
        "1be3cc48eef64afc9b1ad3625bac9dfc": {
          "model_module": "@jupyter-widgets/base",
          "model_name": "LayoutModel",
          "model_module_version": "1.2.0",
          "state": {
            "_model_module": "@jupyter-widgets/base",
            "_model_module_version": "1.2.0",
            "_model_name": "LayoutModel",
            "_view_count": null,
            "_view_module": "@jupyter-widgets/base",
            "_view_module_version": "1.2.0",
            "_view_name": "LayoutView",
            "align_content": null,
            "align_items": null,
            "align_self": null,
            "border": null,
            "bottom": null,
            "display": null,
            "flex": null,
            "flex_flow": null,
            "grid_area": null,
            "grid_auto_columns": null,
            "grid_auto_flow": null,
            "grid_auto_rows": null,
            "grid_column": null,
            "grid_gap": null,
            "grid_row": null,
            "grid_template_areas": null,
            "grid_template_columns": null,
            "grid_template_rows": null,
            "height": null,
            "justify_content": null,
            "justify_items": null,
            "left": null,
            "margin": null,
            "max_height": null,
            "max_width": null,
            "min_height": null,
            "min_width": null,
            "object_fit": null,
            "object_position": null,
            "order": null,
            "overflow": null,
            "overflow_x": null,
            "overflow_y": null,
            "padding": null,
            "right": null,
            "top": null,
            "visibility": null,
            "width": null
          }
        },
        "b6b9baadd916427aad8510a70fe97659": {
          "model_module": "@jupyter-widgets/base",
          "model_name": "LayoutModel",
          "model_module_version": "1.2.0",
          "state": {
            "_model_module": "@jupyter-widgets/base",
            "_model_module_version": "1.2.0",
            "_model_name": "LayoutModel",
            "_view_count": null,
            "_view_module": "@jupyter-widgets/base",
            "_view_module_version": "1.2.0",
            "_view_name": "LayoutView",
            "align_content": null,
            "align_items": null,
            "align_self": null,
            "border": null,
            "bottom": null,
            "display": null,
            "flex": null,
            "flex_flow": null,
            "grid_area": null,
            "grid_auto_columns": null,
            "grid_auto_flow": null,
            "grid_auto_rows": null,
            "grid_column": null,
            "grid_gap": null,
            "grid_row": null,
            "grid_template_areas": null,
            "grid_template_columns": null,
            "grid_template_rows": null,
            "height": null,
            "justify_content": null,
            "justify_items": null,
            "left": null,
            "margin": null,
            "max_height": null,
            "max_width": null,
            "min_height": null,
            "min_width": null,
            "object_fit": null,
            "object_position": null,
            "order": null,
            "overflow": null,
            "overflow_x": null,
            "overflow_y": null,
            "padding": null,
            "right": null,
            "top": null,
            "visibility": null,
            "width": null
          }
        },
        "4d24675cc8284c7ab1fc977f110c1203": {
          "model_module": "@jupyter-widgets/controls",
          "model_name": "DescriptionStyleModel",
          "model_module_version": "1.5.0",
          "state": {
            "_model_module": "@jupyter-widgets/controls",
            "_model_module_version": "1.5.0",
            "_model_name": "DescriptionStyleModel",
            "_view_count": null,
            "_view_module": "@jupyter-widgets/base",
            "_view_module_version": "1.2.0",
            "_view_name": "StyleView",
            "description_width": ""
          }
        },
        "e952b3f93dda4026a856ed3daeea32ef": {
          "model_module": "@jupyter-widgets/base",
          "model_name": "LayoutModel",
          "model_module_version": "1.2.0",
          "state": {
            "_model_module": "@jupyter-widgets/base",
            "_model_module_version": "1.2.0",
            "_model_name": "LayoutModel",
            "_view_count": null,
            "_view_module": "@jupyter-widgets/base",
            "_view_module_version": "1.2.0",
            "_view_name": "LayoutView",
            "align_content": null,
            "align_items": null,
            "align_self": null,
            "border": null,
            "bottom": null,
            "display": null,
            "flex": null,
            "flex_flow": null,
            "grid_area": null,
            "grid_auto_columns": null,
            "grid_auto_flow": null,
            "grid_auto_rows": null,
            "grid_column": null,
            "grid_gap": null,
            "grid_row": null,
            "grid_template_areas": null,
            "grid_template_columns": null,
            "grid_template_rows": null,
            "height": null,
            "justify_content": null,
            "justify_items": null,
            "left": null,
            "margin": null,
            "max_height": null,
            "max_width": null,
            "min_height": null,
            "min_width": null,
            "object_fit": null,
            "object_position": null,
            "order": null,
            "overflow": null,
            "overflow_x": null,
            "overflow_y": null,
            "padding": null,
            "right": null,
            "top": null,
            "visibility": null,
            "width": null
          }
        },
        "fb60cd6edf07457ab6fca2ca80cef6ad": {
          "model_module": "@jupyter-widgets/controls",
          "model_name": "ProgressStyleModel",
          "model_module_version": "1.5.0",
          "state": {
            "_model_module": "@jupyter-widgets/controls",
            "_model_module_version": "1.5.0",
            "_model_name": "ProgressStyleModel",
            "_view_count": null,
            "_view_module": "@jupyter-widgets/base",
            "_view_module_version": "1.2.0",
            "_view_name": "StyleView",
            "bar_color": null,
            "description_width": ""
          }
        },
        "a8846e20ec3d41c5ba9cd38c86b8d233": {
          "model_module": "@jupyter-widgets/base",
          "model_name": "LayoutModel",
          "model_module_version": "1.2.0",
          "state": {
            "_model_module": "@jupyter-widgets/base",
            "_model_module_version": "1.2.0",
            "_model_name": "LayoutModel",
            "_view_count": null,
            "_view_module": "@jupyter-widgets/base",
            "_view_module_version": "1.2.0",
            "_view_name": "LayoutView",
            "align_content": null,
            "align_items": null,
            "align_self": null,
            "border": null,
            "bottom": null,
            "display": null,
            "flex": null,
            "flex_flow": null,
            "grid_area": null,
            "grid_auto_columns": null,
            "grid_auto_flow": null,
            "grid_auto_rows": null,
            "grid_column": null,
            "grid_gap": null,
            "grid_row": null,
            "grid_template_areas": null,
            "grid_template_columns": null,
            "grid_template_rows": null,
            "height": null,
            "justify_content": null,
            "justify_items": null,
            "left": null,
            "margin": null,
            "max_height": null,
            "max_width": null,
            "min_height": null,
            "min_width": null,
            "object_fit": null,
            "object_position": null,
            "order": null,
            "overflow": null,
            "overflow_x": null,
            "overflow_y": null,
            "padding": null,
            "right": null,
            "top": null,
            "visibility": null,
            "width": null
          }
        },
        "fc9fc4475af9475e8e4027e3be1a02ac": {
          "model_module": "@jupyter-widgets/controls",
          "model_name": "DescriptionStyleModel",
          "model_module_version": "1.5.0",
          "state": {
            "_model_module": "@jupyter-widgets/controls",
            "_model_module_version": "1.5.0",
            "_model_name": "DescriptionStyleModel",
            "_view_count": null,
            "_view_module": "@jupyter-widgets/base",
            "_view_module_version": "1.2.0",
            "_view_name": "StyleView",
            "description_width": ""
          }
        },
        "522c15ea084147a8b9c48ec73f240b56": {
          "model_module": "@jupyter-widgets/controls",
          "model_name": "HBoxModel",
          "model_module_version": "1.5.0",
          "state": {
            "_dom_classes": [],
            "_model_module": "@jupyter-widgets/controls",
            "_model_module_version": "1.5.0",
            "_model_name": "HBoxModel",
            "_view_count": null,
            "_view_module": "@jupyter-widgets/controls",
            "_view_module_version": "1.5.0",
            "_view_name": "HBoxView",
            "box_style": "",
            "children": [
              "IPY_MODEL_f0051ec8e1f34b6890e1588f1efea3af",
              "IPY_MODEL_67d3ca0aad8d4ba48c33922aeeec6ca6",
              "IPY_MODEL_31f278d77356434fb9b8026077b76527"
            ],
            "layout": "IPY_MODEL_cf3d4fd4966a45fda51eeae32f7742a3"
          }
        },
        "f0051ec8e1f34b6890e1588f1efea3af": {
          "model_module": "@jupyter-widgets/controls",
          "model_name": "HTMLModel",
          "model_module_version": "1.5.0",
          "state": {
            "_dom_classes": [],
            "_model_module": "@jupyter-widgets/controls",
            "_model_module_version": "1.5.0",
            "_model_name": "HTMLModel",
            "_view_count": null,
            "_view_module": "@jupyter-widgets/controls",
            "_view_module_version": "1.5.0",
            "_view_name": "HTMLView",
            "description": "",
            "description_tooltip": null,
            "layout": "IPY_MODEL_db10bcda76664eaab0c79f540f7a0cd9",
            "placeholder": "​",
            "style": "IPY_MODEL_1deb984e5dae4560a312f09e3e01f2eb",
            "value": "100%"
          }
        },
        "67d3ca0aad8d4ba48c33922aeeec6ca6": {
          "model_module": "@jupyter-widgets/controls",
          "model_name": "FloatProgressModel",
          "model_module_version": "1.5.0",
          "state": {
            "_dom_classes": [],
            "_model_module": "@jupyter-widgets/controls",
            "_model_module_version": "1.5.0",
            "_model_name": "FloatProgressModel",
            "_view_count": null,
            "_view_module": "@jupyter-widgets/controls",
            "_view_module_version": "1.5.0",
            "_view_name": "ProgressView",
            "bar_style": "success",
            "description": "",
            "description_tooltip": null,
            "layout": "IPY_MODEL_0a6bd2cb7fe94d82a7464830e77397d1",
            "max": 29515,
            "min": 0,
            "orientation": "horizontal",
            "style": "IPY_MODEL_efcd14543fbd4193a740642ca8110837",
            "value": 29515
          }
        },
        "31f278d77356434fb9b8026077b76527": {
          "model_module": "@jupyter-widgets/controls",
          "model_name": "HTMLModel",
          "model_module_version": "1.5.0",
          "state": {
            "_dom_classes": [],
            "_model_module": "@jupyter-widgets/controls",
            "_model_module_version": "1.5.0",
            "_model_name": "HTMLModel",
            "_view_count": null,
            "_view_module": "@jupyter-widgets/controls",
            "_view_module_version": "1.5.0",
            "_view_name": "HTMLView",
            "description": "",
            "description_tooltip": null,
            "layout": "IPY_MODEL_25aa34690b714ee58ddda0363acd4973",
            "placeholder": "​",
            "style": "IPY_MODEL_b896a34d15bd4160a706f7687cb53cde",
            "value": " 29515/29515 [00:00&lt;00:00, 210477.17it/s]"
          }
        },
        "cf3d4fd4966a45fda51eeae32f7742a3": {
          "model_module": "@jupyter-widgets/base",
          "model_name": "LayoutModel",
          "model_module_version": "1.2.0",
          "state": {
            "_model_module": "@jupyter-widgets/base",
            "_model_module_version": "1.2.0",
            "_model_name": "LayoutModel",
            "_view_count": null,
            "_view_module": "@jupyter-widgets/base",
            "_view_module_version": "1.2.0",
            "_view_name": "LayoutView",
            "align_content": null,
            "align_items": null,
            "align_self": null,
            "border": null,
            "bottom": null,
            "display": null,
            "flex": null,
            "flex_flow": null,
            "grid_area": null,
            "grid_auto_columns": null,
            "grid_auto_flow": null,
            "grid_auto_rows": null,
            "grid_column": null,
            "grid_gap": null,
            "grid_row": null,
            "grid_template_areas": null,
            "grid_template_columns": null,
            "grid_template_rows": null,
            "height": null,
            "justify_content": null,
            "justify_items": null,
            "left": null,
            "margin": null,
            "max_height": null,
            "max_width": null,
            "min_height": null,
            "min_width": null,
            "object_fit": null,
            "object_position": null,
            "order": null,
            "overflow": null,
            "overflow_x": null,
            "overflow_y": null,
            "padding": null,
            "right": null,
            "top": null,
            "visibility": null,
            "width": null
          }
        },
        "db10bcda76664eaab0c79f540f7a0cd9": {
          "model_module": "@jupyter-widgets/base",
          "model_name": "LayoutModel",
          "model_module_version": "1.2.0",
          "state": {
            "_model_module": "@jupyter-widgets/base",
            "_model_module_version": "1.2.0",
            "_model_name": "LayoutModel",
            "_view_count": null,
            "_view_module": "@jupyter-widgets/base",
            "_view_module_version": "1.2.0",
            "_view_name": "LayoutView",
            "align_content": null,
            "align_items": null,
            "align_self": null,
            "border": null,
            "bottom": null,
            "display": null,
            "flex": null,
            "flex_flow": null,
            "grid_area": null,
            "grid_auto_columns": null,
            "grid_auto_flow": null,
            "grid_auto_rows": null,
            "grid_column": null,
            "grid_gap": null,
            "grid_row": null,
            "grid_template_areas": null,
            "grid_template_columns": null,
            "grid_template_rows": null,
            "height": null,
            "justify_content": null,
            "justify_items": null,
            "left": null,
            "margin": null,
            "max_height": null,
            "max_width": null,
            "min_height": null,
            "min_width": null,
            "object_fit": null,
            "object_position": null,
            "order": null,
            "overflow": null,
            "overflow_x": null,
            "overflow_y": null,
            "padding": null,
            "right": null,
            "top": null,
            "visibility": null,
            "width": null
          }
        },
        "1deb984e5dae4560a312f09e3e01f2eb": {
          "model_module": "@jupyter-widgets/controls",
          "model_name": "DescriptionStyleModel",
          "model_module_version": "1.5.0",
          "state": {
            "_model_module": "@jupyter-widgets/controls",
            "_model_module_version": "1.5.0",
            "_model_name": "DescriptionStyleModel",
            "_view_count": null,
            "_view_module": "@jupyter-widgets/base",
            "_view_module_version": "1.2.0",
            "_view_name": "StyleView",
            "description_width": ""
          }
        },
        "0a6bd2cb7fe94d82a7464830e77397d1": {
          "model_module": "@jupyter-widgets/base",
          "model_name": "LayoutModel",
          "model_module_version": "1.2.0",
          "state": {
            "_model_module": "@jupyter-widgets/base",
            "_model_module_version": "1.2.0",
            "_model_name": "LayoutModel",
            "_view_count": null,
            "_view_module": "@jupyter-widgets/base",
            "_view_module_version": "1.2.0",
            "_view_name": "LayoutView",
            "align_content": null,
            "align_items": null,
            "align_self": null,
            "border": null,
            "bottom": null,
            "display": null,
            "flex": null,
            "flex_flow": null,
            "grid_area": null,
            "grid_auto_columns": null,
            "grid_auto_flow": null,
            "grid_auto_rows": null,
            "grid_column": null,
            "grid_gap": null,
            "grid_row": null,
            "grid_template_areas": null,
            "grid_template_columns": null,
            "grid_template_rows": null,
            "height": null,
            "justify_content": null,
            "justify_items": null,
            "left": null,
            "margin": null,
            "max_height": null,
            "max_width": null,
            "min_height": null,
            "min_width": null,
            "object_fit": null,
            "object_position": null,
            "order": null,
            "overflow": null,
            "overflow_x": null,
            "overflow_y": null,
            "padding": null,
            "right": null,
            "top": null,
            "visibility": null,
            "width": null
          }
        },
        "efcd14543fbd4193a740642ca8110837": {
          "model_module": "@jupyter-widgets/controls",
          "model_name": "ProgressStyleModel",
          "model_module_version": "1.5.0",
          "state": {
            "_model_module": "@jupyter-widgets/controls",
            "_model_module_version": "1.5.0",
            "_model_name": "ProgressStyleModel",
            "_view_count": null,
            "_view_module": "@jupyter-widgets/base",
            "_view_module_version": "1.2.0",
            "_view_name": "StyleView",
            "bar_color": null,
            "description_width": ""
          }
        },
        "25aa34690b714ee58ddda0363acd4973": {
          "model_module": "@jupyter-widgets/base",
          "model_name": "LayoutModel",
          "model_module_version": "1.2.0",
          "state": {
            "_model_module": "@jupyter-widgets/base",
            "_model_module_version": "1.2.0",
            "_model_name": "LayoutModel",
            "_view_count": null,
            "_view_module": "@jupyter-widgets/base",
            "_view_module_version": "1.2.0",
            "_view_name": "LayoutView",
            "align_content": null,
            "align_items": null,
            "align_self": null,
            "border": null,
            "bottom": null,
            "display": null,
            "flex": null,
            "flex_flow": null,
            "grid_area": null,
            "grid_auto_columns": null,
            "grid_auto_flow": null,
            "grid_auto_rows": null,
            "grid_column": null,
            "grid_gap": null,
            "grid_row": null,
            "grid_template_areas": null,
            "grid_template_columns": null,
            "grid_template_rows": null,
            "height": null,
            "justify_content": null,
            "justify_items": null,
            "left": null,
            "margin": null,
            "max_height": null,
            "max_width": null,
            "min_height": null,
            "min_width": null,
            "object_fit": null,
            "object_position": null,
            "order": null,
            "overflow": null,
            "overflow_x": null,
            "overflow_y": null,
            "padding": null,
            "right": null,
            "top": null,
            "visibility": null,
            "width": null
          }
        },
        "b896a34d15bd4160a706f7687cb53cde": {
          "model_module": "@jupyter-widgets/controls",
          "model_name": "DescriptionStyleModel",
          "model_module_version": "1.5.0",
          "state": {
            "_model_module": "@jupyter-widgets/controls",
            "_model_module_version": "1.5.0",
            "_model_name": "DescriptionStyleModel",
            "_view_count": null,
            "_view_module": "@jupyter-widgets/base",
            "_view_module_version": "1.2.0",
            "_view_name": "StyleView",
            "description_width": ""
          }
        },
        "9609c05696e147e1a4baf64f36272094": {
          "model_module": "@jupyter-widgets/controls",
          "model_name": "HBoxModel",
          "model_module_version": "1.5.0",
          "state": {
            "_dom_classes": [],
            "_model_module": "@jupyter-widgets/controls",
            "_model_module_version": "1.5.0",
            "_model_name": "HBoxModel",
            "_view_count": null,
            "_view_module": "@jupyter-widgets/controls",
            "_view_module_version": "1.5.0",
            "_view_name": "HBoxView",
            "box_style": "",
            "children": [
              "IPY_MODEL_bb7ae42f4f2b4754866672f670e36f5c",
              "IPY_MODEL_7f08e2f5aa2c49d2ab7358d29b43adcf",
              "IPY_MODEL_44b349403eb04c669b43921e516f2aa3"
            ],
            "layout": "IPY_MODEL_ec0b985639a54929a4a3ee5578de2070"
          }
        },
        "bb7ae42f4f2b4754866672f670e36f5c": {
          "model_module": "@jupyter-widgets/controls",
          "model_name": "HTMLModel",
          "model_module_version": "1.5.0",
          "state": {
            "_dom_classes": [],
            "_model_module": "@jupyter-widgets/controls",
            "_model_module_version": "1.5.0",
            "_model_name": "HTMLModel",
            "_view_count": null,
            "_view_module": "@jupyter-widgets/controls",
            "_view_module_version": "1.5.0",
            "_view_name": "HTMLView",
            "description": "",
            "description_tooltip": null,
            "layout": "IPY_MODEL_1cd069392b99400d9307ed498219ee44",
            "placeholder": "​",
            "style": "IPY_MODEL_01c4363875f44091bb1fe16b18f404ec",
            "value": "100%"
          }
        },
        "7f08e2f5aa2c49d2ab7358d29b43adcf": {
          "model_module": "@jupyter-widgets/controls",
          "model_name": "FloatProgressModel",
          "model_module_version": "1.5.0",
          "state": {
            "_dom_classes": [],
            "_model_module": "@jupyter-widgets/controls",
            "_model_module_version": "1.5.0",
            "_model_name": "FloatProgressModel",
            "_view_count": null,
            "_view_module": "@jupyter-widgets/controls",
            "_view_module_version": "1.5.0",
            "_view_name": "ProgressView",
            "bar_style": "success",
            "description": "",
            "description_tooltip": null,
            "layout": "IPY_MODEL_ef13a5162bb24679b9a30eb3038bb511",
            "max": 4422102,
            "min": 0,
            "orientation": "horizontal",
            "style": "IPY_MODEL_3cb18e4b9a0a49be89aa6ebfcfd5f03c",
            "value": 4422102
          }
        },
        "44b349403eb04c669b43921e516f2aa3": {
          "model_module": "@jupyter-widgets/controls",
          "model_name": "HTMLModel",
          "model_module_version": "1.5.0",
          "state": {
            "_dom_classes": [],
            "_model_module": "@jupyter-widgets/controls",
            "_model_module_version": "1.5.0",
            "_model_name": "HTMLModel",
            "_view_count": null,
            "_view_module": "@jupyter-widgets/controls",
            "_view_module_version": "1.5.0",
            "_view_name": "HTMLView",
            "description": "",
            "description_tooltip": null,
            "layout": "IPY_MODEL_c71137c906d3452f9f7f07609b8e1c0a",
            "placeholder": "​",
            "style": "IPY_MODEL_af7c0099b21b442d9a6fe2fc7c24ebfd",
            "value": " 4422102/4422102 [00:01&lt;00:00, 6685692.51it/s]"
          }
        },
        "ec0b985639a54929a4a3ee5578de2070": {
          "model_module": "@jupyter-widgets/base",
          "model_name": "LayoutModel",
          "model_module_version": "1.2.0",
          "state": {
            "_model_module": "@jupyter-widgets/base",
            "_model_module_version": "1.2.0",
            "_model_name": "LayoutModel",
            "_view_count": null,
            "_view_module": "@jupyter-widgets/base",
            "_view_module_version": "1.2.0",
            "_view_name": "LayoutView",
            "align_content": null,
            "align_items": null,
            "align_self": null,
            "border": null,
            "bottom": null,
            "display": null,
            "flex": null,
            "flex_flow": null,
            "grid_area": null,
            "grid_auto_columns": null,
            "grid_auto_flow": null,
            "grid_auto_rows": null,
            "grid_column": null,
            "grid_gap": null,
            "grid_row": null,
            "grid_template_areas": null,
            "grid_template_columns": null,
            "grid_template_rows": null,
            "height": null,
            "justify_content": null,
            "justify_items": null,
            "left": null,
            "margin": null,
            "max_height": null,
            "max_width": null,
            "min_height": null,
            "min_width": null,
            "object_fit": null,
            "object_position": null,
            "order": null,
            "overflow": null,
            "overflow_x": null,
            "overflow_y": null,
            "padding": null,
            "right": null,
            "top": null,
            "visibility": null,
            "width": null
          }
        },
        "1cd069392b99400d9307ed498219ee44": {
          "model_module": "@jupyter-widgets/base",
          "model_name": "LayoutModel",
          "model_module_version": "1.2.0",
          "state": {
            "_model_module": "@jupyter-widgets/base",
            "_model_module_version": "1.2.0",
            "_model_name": "LayoutModel",
            "_view_count": null,
            "_view_module": "@jupyter-widgets/base",
            "_view_module_version": "1.2.0",
            "_view_name": "LayoutView",
            "align_content": null,
            "align_items": null,
            "align_self": null,
            "border": null,
            "bottom": null,
            "display": null,
            "flex": null,
            "flex_flow": null,
            "grid_area": null,
            "grid_auto_columns": null,
            "grid_auto_flow": null,
            "grid_auto_rows": null,
            "grid_column": null,
            "grid_gap": null,
            "grid_row": null,
            "grid_template_areas": null,
            "grid_template_columns": null,
            "grid_template_rows": null,
            "height": null,
            "justify_content": null,
            "justify_items": null,
            "left": null,
            "margin": null,
            "max_height": null,
            "max_width": null,
            "min_height": null,
            "min_width": null,
            "object_fit": null,
            "object_position": null,
            "order": null,
            "overflow": null,
            "overflow_x": null,
            "overflow_y": null,
            "padding": null,
            "right": null,
            "top": null,
            "visibility": null,
            "width": null
          }
        },
        "01c4363875f44091bb1fe16b18f404ec": {
          "model_module": "@jupyter-widgets/controls",
          "model_name": "DescriptionStyleModel",
          "model_module_version": "1.5.0",
          "state": {
            "_model_module": "@jupyter-widgets/controls",
            "_model_module_version": "1.5.0",
            "_model_name": "DescriptionStyleModel",
            "_view_count": null,
            "_view_module": "@jupyter-widgets/base",
            "_view_module_version": "1.2.0",
            "_view_name": "StyleView",
            "description_width": ""
          }
        },
        "ef13a5162bb24679b9a30eb3038bb511": {
          "model_module": "@jupyter-widgets/base",
          "model_name": "LayoutModel",
          "model_module_version": "1.2.0",
          "state": {
            "_model_module": "@jupyter-widgets/base",
            "_model_module_version": "1.2.0",
            "_model_name": "LayoutModel",
            "_view_count": null,
            "_view_module": "@jupyter-widgets/base",
            "_view_module_version": "1.2.0",
            "_view_name": "LayoutView",
            "align_content": null,
            "align_items": null,
            "align_self": null,
            "border": null,
            "bottom": null,
            "display": null,
            "flex": null,
            "flex_flow": null,
            "grid_area": null,
            "grid_auto_columns": null,
            "grid_auto_flow": null,
            "grid_auto_rows": null,
            "grid_column": null,
            "grid_gap": null,
            "grid_row": null,
            "grid_template_areas": null,
            "grid_template_columns": null,
            "grid_template_rows": null,
            "height": null,
            "justify_content": null,
            "justify_items": null,
            "left": null,
            "margin": null,
            "max_height": null,
            "max_width": null,
            "min_height": null,
            "min_width": null,
            "object_fit": null,
            "object_position": null,
            "order": null,
            "overflow": null,
            "overflow_x": null,
            "overflow_y": null,
            "padding": null,
            "right": null,
            "top": null,
            "visibility": null,
            "width": null
          }
        },
        "3cb18e4b9a0a49be89aa6ebfcfd5f03c": {
          "model_module": "@jupyter-widgets/controls",
          "model_name": "ProgressStyleModel",
          "model_module_version": "1.5.0",
          "state": {
            "_model_module": "@jupyter-widgets/controls",
            "_model_module_version": "1.5.0",
            "_model_name": "ProgressStyleModel",
            "_view_count": null,
            "_view_module": "@jupyter-widgets/base",
            "_view_module_version": "1.2.0",
            "_view_name": "StyleView",
            "bar_color": null,
            "description_width": ""
          }
        },
        "c71137c906d3452f9f7f07609b8e1c0a": {
          "model_module": "@jupyter-widgets/base",
          "model_name": "LayoutModel",
          "model_module_version": "1.2.0",
          "state": {
            "_model_module": "@jupyter-widgets/base",
            "_model_module_version": "1.2.0",
            "_model_name": "LayoutModel",
            "_view_count": null,
            "_view_module": "@jupyter-widgets/base",
            "_view_module_version": "1.2.0",
            "_view_name": "LayoutView",
            "align_content": null,
            "align_items": null,
            "align_self": null,
            "border": null,
            "bottom": null,
            "display": null,
            "flex": null,
            "flex_flow": null,
            "grid_area": null,
            "grid_auto_columns": null,
            "grid_auto_flow": null,
            "grid_auto_rows": null,
            "grid_column": null,
            "grid_gap": null,
            "grid_row": null,
            "grid_template_areas": null,
            "grid_template_columns": null,
            "grid_template_rows": null,
            "height": null,
            "justify_content": null,
            "justify_items": null,
            "left": null,
            "margin": null,
            "max_height": null,
            "max_width": null,
            "min_height": null,
            "min_width": null,
            "object_fit": null,
            "object_position": null,
            "order": null,
            "overflow": null,
            "overflow_x": null,
            "overflow_y": null,
            "padding": null,
            "right": null,
            "top": null,
            "visibility": null,
            "width": null
          }
        },
        "af7c0099b21b442d9a6fe2fc7c24ebfd": {
          "model_module": "@jupyter-widgets/controls",
          "model_name": "DescriptionStyleModel",
          "model_module_version": "1.5.0",
          "state": {
            "_model_module": "@jupyter-widgets/controls",
            "_model_module_version": "1.5.0",
            "_model_name": "DescriptionStyleModel",
            "_view_count": null,
            "_view_module": "@jupyter-widgets/base",
            "_view_module_version": "1.2.0",
            "_view_name": "StyleView",
            "description_width": ""
          }
        },
        "3065bd597b0f4fd4a90e5cdf85509c16": {
          "model_module": "@jupyter-widgets/controls",
          "model_name": "HBoxModel",
          "model_module_version": "1.5.0",
          "state": {
            "_dom_classes": [],
            "_model_module": "@jupyter-widgets/controls",
            "_model_module_version": "1.5.0",
            "_model_name": "HBoxModel",
            "_view_count": null,
            "_view_module": "@jupyter-widgets/controls",
            "_view_module_version": "1.5.0",
            "_view_name": "HBoxView",
            "box_style": "",
            "children": [
              "IPY_MODEL_fe689d72185c4a428c13af013ba1fec1",
              "IPY_MODEL_ec52f9990b5f4b3095a803e0c2162d52",
              "IPY_MODEL_cc5e4984d6c74d56803452f1afd21f7d"
            ],
            "layout": "IPY_MODEL_d8a1b1a2a4fb4ae190fc9a3ad2338a47"
          }
        },
        "fe689d72185c4a428c13af013ba1fec1": {
          "model_module": "@jupyter-widgets/controls",
          "model_name": "HTMLModel",
          "model_module_version": "1.5.0",
          "state": {
            "_dom_classes": [],
            "_model_module": "@jupyter-widgets/controls",
            "_model_module_version": "1.5.0",
            "_model_name": "HTMLModel",
            "_view_count": null,
            "_view_module": "@jupyter-widgets/controls",
            "_view_module_version": "1.5.0",
            "_view_name": "HTMLView",
            "description": "",
            "description_tooltip": null,
            "layout": "IPY_MODEL_f8e60d68711d4663ba5a86d80b0c8678",
            "placeholder": "​",
            "style": "IPY_MODEL_cdbb0aa34f5f4d2f8d874470bb966818",
            "value": "100%"
          }
        },
        "ec52f9990b5f4b3095a803e0c2162d52": {
          "model_module": "@jupyter-widgets/controls",
          "model_name": "FloatProgressModel",
          "model_module_version": "1.5.0",
          "state": {
            "_dom_classes": [],
            "_model_module": "@jupyter-widgets/controls",
            "_model_module_version": "1.5.0",
            "_model_name": "FloatProgressModel",
            "_view_count": null,
            "_view_module": "@jupyter-widgets/controls",
            "_view_module_version": "1.5.0",
            "_view_name": "ProgressView",
            "bar_style": "success",
            "description": "",
            "description_tooltip": null,
            "layout": "IPY_MODEL_fab5af694ee044d3a6fd919b10302a17",
            "max": 5148,
            "min": 0,
            "orientation": "horizontal",
            "style": "IPY_MODEL_8b90523a75f34beba1b3c2843e188b8f",
            "value": 5148
          }
        },
        "cc5e4984d6c74d56803452f1afd21f7d": {
          "model_module": "@jupyter-widgets/controls",
          "model_name": "HTMLModel",
          "model_module_version": "1.5.0",
          "state": {
            "_dom_classes": [],
            "_model_module": "@jupyter-widgets/controls",
            "_model_module_version": "1.5.0",
            "_model_name": "HTMLModel",
            "_view_count": null,
            "_view_module": "@jupyter-widgets/controls",
            "_view_module_version": "1.5.0",
            "_view_name": "HTMLView",
            "description": "",
            "description_tooltip": null,
            "layout": "IPY_MODEL_53f8f5737f744edba6a83851165fb085",
            "placeholder": "​",
            "style": "IPY_MODEL_e7df80bba4754da7a83650f8367c7b77",
            "value": " 5148/5148 [00:00&lt;00:00, 165908.11it/s]"
          }
        },
        "d8a1b1a2a4fb4ae190fc9a3ad2338a47": {
          "model_module": "@jupyter-widgets/base",
          "model_name": "LayoutModel",
          "model_module_version": "1.2.0",
          "state": {
            "_model_module": "@jupyter-widgets/base",
            "_model_module_version": "1.2.0",
            "_model_name": "LayoutModel",
            "_view_count": null,
            "_view_module": "@jupyter-widgets/base",
            "_view_module_version": "1.2.0",
            "_view_name": "LayoutView",
            "align_content": null,
            "align_items": null,
            "align_self": null,
            "border": null,
            "bottom": null,
            "display": null,
            "flex": null,
            "flex_flow": null,
            "grid_area": null,
            "grid_auto_columns": null,
            "grid_auto_flow": null,
            "grid_auto_rows": null,
            "grid_column": null,
            "grid_gap": null,
            "grid_row": null,
            "grid_template_areas": null,
            "grid_template_columns": null,
            "grid_template_rows": null,
            "height": null,
            "justify_content": null,
            "justify_items": null,
            "left": null,
            "margin": null,
            "max_height": null,
            "max_width": null,
            "min_height": null,
            "min_width": null,
            "object_fit": null,
            "object_position": null,
            "order": null,
            "overflow": null,
            "overflow_x": null,
            "overflow_y": null,
            "padding": null,
            "right": null,
            "top": null,
            "visibility": null,
            "width": null
          }
        },
        "f8e60d68711d4663ba5a86d80b0c8678": {
          "model_module": "@jupyter-widgets/base",
          "model_name": "LayoutModel",
          "model_module_version": "1.2.0",
          "state": {
            "_model_module": "@jupyter-widgets/base",
            "_model_module_version": "1.2.0",
            "_model_name": "LayoutModel",
            "_view_count": null,
            "_view_module": "@jupyter-widgets/base",
            "_view_module_version": "1.2.0",
            "_view_name": "LayoutView",
            "align_content": null,
            "align_items": null,
            "align_self": null,
            "border": null,
            "bottom": null,
            "display": null,
            "flex": null,
            "flex_flow": null,
            "grid_area": null,
            "grid_auto_columns": null,
            "grid_auto_flow": null,
            "grid_auto_rows": null,
            "grid_column": null,
            "grid_gap": null,
            "grid_row": null,
            "grid_template_areas": null,
            "grid_template_columns": null,
            "grid_template_rows": null,
            "height": null,
            "justify_content": null,
            "justify_items": null,
            "left": null,
            "margin": null,
            "max_height": null,
            "max_width": null,
            "min_height": null,
            "min_width": null,
            "object_fit": null,
            "object_position": null,
            "order": null,
            "overflow": null,
            "overflow_x": null,
            "overflow_y": null,
            "padding": null,
            "right": null,
            "top": null,
            "visibility": null,
            "width": null
          }
        },
        "cdbb0aa34f5f4d2f8d874470bb966818": {
          "model_module": "@jupyter-widgets/controls",
          "model_name": "DescriptionStyleModel",
          "model_module_version": "1.5.0",
          "state": {
            "_model_module": "@jupyter-widgets/controls",
            "_model_module_version": "1.5.0",
            "_model_name": "DescriptionStyleModel",
            "_view_count": null,
            "_view_module": "@jupyter-widgets/base",
            "_view_module_version": "1.2.0",
            "_view_name": "StyleView",
            "description_width": ""
          }
        },
        "fab5af694ee044d3a6fd919b10302a17": {
          "model_module": "@jupyter-widgets/base",
          "model_name": "LayoutModel",
          "model_module_version": "1.2.0",
          "state": {
            "_model_module": "@jupyter-widgets/base",
            "_model_module_version": "1.2.0",
            "_model_name": "LayoutModel",
            "_view_count": null,
            "_view_module": "@jupyter-widgets/base",
            "_view_module_version": "1.2.0",
            "_view_name": "LayoutView",
            "align_content": null,
            "align_items": null,
            "align_self": null,
            "border": null,
            "bottom": null,
            "display": null,
            "flex": null,
            "flex_flow": null,
            "grid_area": null,
            "grid_auto_columns": null,
            "grid_auto_flow": null,
            "grid_auto_rows": null,
            "grid_column": null,
            "grid_gap": null,
            "grid_row": null,
            "grid_template_areas": null,
            "grid_template_columns": null,
            "grid_template_rows": null,
            "height": null,
            "justify_content": null,
            "justify_items": null,
            "left": null,
            "margin": null,
            "max_height": null,
            "max_width": null,
            "min_height": null,
            "min_width": null,
            "object_fit": null,
            "object_position": null,
            "order": null,
            "overflow": null,
            "overflow_x": null,
            "overflow_y": null,
            "padding": null,
            "right": null,
            "top": null,
            "visibility": null,
            "width": null
          }
        },
        "8b90523a75f34beba1b3c2843e188b8f": {
          "model_module": "@jupyter-widgets/controls",
          "model_name": "ProgressStyleModel",
          "model_module_version": "1.5.0",
          "state": {
            "_model_module": "@jupyter-widgets/controls",
            "_model_module_version": "1.5.0",
            "_model_name": "ProgressStyleModel",
            "_view_count": null,
            "_view_module": "@jupyter-widgets/base",
            "_view_module_version": "1.2.0",
            "_view_name": "StyleView",
            "bar_color": null,
            "description_width": ""
          }
        },
        "53f8f5737f744edba6a83851165fb085": {
          "model_module": "@jupyter-widgets/base",
          "model_name": "LayoutModel",
          "model_module_version": "1.2.0",
          "state": {
            "_model_module": "@jupyter-widgets/base",
            "_model_module_version": "1.2.0",
            "_model_name": "LayoutModel",
            "_view_count": null,
            "_view_module": "@jupyter-widgets/base",
            "_view_module_version": "1.2.0",
            "_view_name": "LayoutView",
            "align_content": null,
            "align_items": null,
            "align_self": null,
            "border": null,
            "bottom": null,
            "display": null,
            "flex": null,
            "flex_flow": null,
            "grid_area": null,
            "grid_auto_columns": null,
            "grid_auto_flow": null,
            "grid_auto_rows": null,
            "grid_column": null,
            "grid_gap": null,
            "grid_row": null,
            "grid_template_areas": null,
            "grid_template_columns": null,
            "grid_template_rows": null,
            "height": null,
            "justify_content": null,
            "justify_items": null,
            "left": null,
            "margin": null,
            "max_height": null,
            "max_width": null,
            "min_height": null,
            "min_width": null,
            "object_fit": null,
            "object_position": null,
            "order": null,
            "overflow": null,
            "overflow_x": null,
            "overflow_y": null,
            "padding": null,
            "right": null,
            "top": null,
            "visibility": null,
            "width": null
          }
        },
        "e7df80bba4754da7a83650f8367c7b77": {
          "model_module": "@jupyter-widgets/controls",
          "model_name": "DescriptionStyleModel",
          "model_module_version": "1.5.0",
          "state": {
            "_model_module": "@jupyter-widgets/controls",
            "_model_module_version": "1.5.0",
            "_model_name": "DescriptionStyleModel",
            "_view_count": null,
            "_view_module": "@jupyter-widgets/base",
            "_view_module_version": "1.2.0",
            "_view_name": "StyleView",
            "description_width": ""
          }
        }
      }
    }
  },
  "cells": [
    {
      "cell_type": "markdown",
      "metadata": {
        "id": "view-in-github",
        "colab_type": "text"
      },
      "source": [
        "<a href=\"https://colab.research.google.com/github/yingtongxiong/MLCnotebooks/blob/xytExercise/5_Automatic_program_optimization.ipynb\" target=\"_parent\"><img src=\"https://colab.research.google.com/assets/colab-badge.svg\" alt=\"Open In Colab\"/></a>"
      ]
    },
    {
      "cell_type": "code",
      "execution_count": 1,
      "metadata": {
        "colab": {
          "base_uri": "https://localhost:8080/"
        },
        "id": "uJ0Eshw7jCX6",
        "outputId": "fe090ecf-fa02-427d-8674-22c170cfbc7c"
      },
      "outputs": [
        {
          "output_type": "stream",
          "name": "stdout",
          "text": [
            "Looking in indexes: https://pypi.org/simple, https://us-python.pkg.dev/colab-wheels/public/simple/\n",
            "Looking in links: https://mlc.ai/wheels\n",
            "Collecting mlc-ai-nightly\n",
            "  Downloading https://github.com/mlc-ai/utils/releases/download/v0.9.dev0/mlc_ai_nightly-0.9.dev2227%2Bg06c0ef3be-cp37-cp37m-manylinux_2_17_x86_64.manylinux2014_x86_64.whl (45.5 MB)\n",
            "\u001b[K     |████████████████████████████████| 45.5 MB 3.1 MB/s \n",
            "\u001b[?25hRequirement already satisfied: decorator in /usr/local/lib/python3.7/dist-packages (from mlc-ai-nightly) (4.4.2)\n",
            "Requirement already satisfied: cloudpickle in /usr/local/lib/python3.7/dist-packages (from mlc-ai-nightly) (1.5.0)\n",
            "Requirement already satisfied: scipy in /usr/local/lib/python3.7/dist-packages (from mlc-ai-nightly) (1.7.3)\n",
            "Requirement already satisfied: tornado in /usr/local/lib/python3.7/dist-packages (from mlc-ai-nightly) (5.1.1)\n",
            "Requirement already satisfied: psutil in /usr/local/lib/python3.7/dist-packages (from mlc-ai-nightly) (5.4.8)\n",
            "Requirement already satisfied: numpy in /usr/local/lib/python3.7/dist-packages (from mlc-ai-nightly) (1.21.6)\n",
            "Collecting synr==0.6.0\n",
            "  Downloading synr-0.6.0-py3-none-any.whl (18 kB)\n",
            "Requirement already satisfied: attrs in /usr/local/lib/python3.7/dist-packages (from mlc-ai-nightly) (22.1.0)\n",
            "Installing collected packages: synr, mlc-ai-nightly\n",
            "Successfully installed mlc-ai-nightly-0.9.dev2227+g06c0ef3be synr-0.6.0\n"
          ]
        }
      ],
      "source": [
        "!python3 -m  pip install mlc-ai-nightly -f https://mlc.ai/wheels"
      ]
    },
    {
      "cell_type": "code",
      "source": [
        "# This is needed for deferring annotation parsing in TVMScript\n",
        "from __future__ import annotations\n",
        "import numpy as np\n",
        "import tvm\n",
        "from tvm import relax\n",
        "from tvm.ir.module import IRModule\n",
        "from tvm.script import relax as R\n",
        "from tvm.script import tir as T"
      ],
      "metadata": {
        "id": "Cua0ye2BjM4k"
      },
      "execution_count": 2,
      "outputs": []
    },
    {
      "cell_type": "code",
      "source": [
        "import IPython\n",
        "\n",
        "\n",
        "def code2html(code):\n",
        "    \"\"\"Helper function to use pygments to turn the code string into highlighted html.\"\"\"\n",
        "    import pygments\n",
        "    from pygments.formatters import HtmlFormatter\n",
        "    from pygments.lexers import Python3Lexer\n",
        "    formatter = HtmlFormatter()\n",
        "    html = pygments.highlight(code, Python3Lexer(), formatter)\n",
        "    return \"<style>%s</style>%s\\n\" % (formatter.get_style_defs(\".highlight\"), html)"
      ],
      "metadata": {
        "id": "UjD-pcjsjUFf"
      },
      "execution_count": 3,
      "outputs": []
    },
    {
      "cell_type": "code",
      "source": [
        "@tvm.script.ir_module\n",
        "class MyModule:\n",
        "  @T.prim_func\n",
        "  def main(A: T.Buffer[(128, 128), \"float32\"],\n",
        "           B: T.Buffer[(128, 128), \"float32\"],\n",
        "           C: T.Buffer[(128, 128), \"float32\"]):\n",
        "    T.func_attr({\"global_symbol\":\"main\", \"tir.noalias\":True})\n",
        "    for i, j, k in T.grid(128, 128, 128):\n",
        "      with T.block(\"C\"):\n",
        "        vi, vj, vk = T.axis.remap(\"SSR\", [i, j, k])\n",
        "        with T.init():\n",
        "          C[vi, vj] = 0.0\n",
        "        C[vi, vj] = C[vi, vj] + A[vi, vk] * B[vk, vj]\n",
        "        "
      ],
      "metadata": {
        "id": "tPD0wmA2jWTg"
      },
      "execution_count": 4,
      "outputs": []
    },
    {
      "cell_type": "code",
      "source": [
        "dtype = \"float32\"\n",
        "a_np = np.random.rand(128, 128).astype(dtype)\n",
        "b_np = np.random.rand(128, 128).astype(dtype)\n",
        "c_mm = a_np @ b_np"
      ],
      "metadata": {
        "id": "3Pln6ZxbkAie"
      },
      "execution_count": 5,
      "outputs": []
    },
    {
      "cell_type": "code",
      "source": [
        "a_nd = tvm.nd.array(a_np)\n",
        "b_nd = tvm.nd.array(b_np)\n",
        "c_nd = tvm.nd.empty((128, 128), dtype=\"float32\")\n",
        "\n",
        "lib = tvm.build(MyModule, target=\"llvm\")\n",
        "f_timer_before = lib.time_evaluator(\"main\", tvm.cpu())\n",
        "print(\"Time cost of MyModule: %.3f ms\" % (f_timer_before(a_nd, b_nd, c_nd).mean * 1000))"
      ],
      "metadata": {
        "colab": {
          "base_uri": "https://localhost:8080/"
        },
        "id": "qXk0PXglkLsN",
        "outputId": "ec106893-f5f1-4503-b090-02319af0cec2"
      },
      "execution_count": 6,
      "outputs": [
        {
          "output_type": "stream",
          "name": "stdout",
          "text": [
            "Time cost of MyModule: 3.042 ms\n"
          ]
        }
      ]
    },
    {
      "cell_type": "code",
      "source": [
        "def schedule_mm(sch: tvm.tir.Schedule, jfactor=4):\n",
        "    block_C = sch.get_block(\"C\", \"main\")\n",
        "    i, j, k = sch.get_loops(block=block_C)\n",
        "    j_0, j_1 = sch.split(loop=j, factors=[None, jfactor])\n",
        "    sch.reorder(i, j_0, k, j_1)\n",
        "    sch.decompose_reduction(block_C, k)\n",
        "    return sch"
      ],
      "metadata": {
        "id": "gjNpoi62kijW"
      },
      "execution_count": 10,
      "outputs": []
    },
    {
      "cell_type": "code",
      "source": [
        "sch = tvm.tir.Schedule(MyModule)\n",
        "sch = schedule_mm(sch)\n",
        "IPython.display.HTML(code2html(sch.mod.script()))"
      ],
      "metadata": {
        "colab": {
          "base_uri": "https://localhost:8080/",
          "height": 451
        },
        "id": "F73Rsdbmk8tD",
        "outputId": "2f6e4e12-73e8-4205-81cc-bcf917be009a"
      },
      "execution_count": 11,
      "outputs": [
        {
          "output_type": "execute_result",
          "data": {
            "text/plain": [
              "<IPython.core.display.HTML object>"
            ],
            "text/html": [
              "<style>.highlight .hll { background-color: #ffffcc }\n",
              ".highlight  { background: #f8f8f8; }\n",
              ".highlight .c { color: #408080; font-style: italic } /* Comment */\n",
              ".highlight .err { border: 1px solid #FF0000 } /* Error */\n",
              ".highlight .k { color: #008000; font-weight: bold } /* Keyword */\n",
              ".highlight .o { color: #666666 } /* Operator */\n",
              ".highlight .ch { color: #408080; font-style: italic } /* Comment.Hashbang */\n",
              ".highlight .cm { color: #408080; font-style: italic } /* Comment.Multiline */\n",
              ".highlight .cp { color: #BC7A00 } /* Comment.Preproc */\n",
              ".highlight .cpf { color: #408080; font-style: italic } /* Comment.PreprocFile */\n",
              ".highlight .c1 { color: #408080; font-style: italic } /* Comment.Single */\n",
              ".highlight .cs { color: #408080; font-style: italic } /* Comment.Special */\n",
              ".highlight .gd { color: #A00000 } /* Generic.Deleted */\n",
              ".highlight .ge { font-style: italic } /* Generic.Emph */\n",
              ".highlight .gr { color: #FF0000 } /* Generic.Error */\n",
              ".highlight .gh { color: #000080; font-weight: bold } /* Generic.Heading */\n",
              ".highlight .gi { color: #00A000 } /* Generic.Inserted */\n",
              ".highlight .go { color: #888888 } /* Generic.Output */\n",
              ".highlight .gp { color: #000080; font-weight: bold } /* Generic.Prompt */\n",
              ".highlight .gs { font-weight: bold } /* Generic.Strong */\n",
              ".highlight .gu { color: #800080; font-weight: bold } /* Generic.Subheading */\n",
              ".highlight .gt { color: #0044DD } /* Generic.Traceback */\n",
              ".highlight .kc { color: #008000; font-weight: bold } /* Keyword.Constant */\n",
              ".highlight .kd { color: #008000; font-weight: bold } /* Keyword.Declaration */\n",
              ".highlight .kn { color: #008000; font-weight: bold } /* Keyword.Namespace */\n",
              ".highlight .kp { color: #008000 } /* Keyword.Pseudo */\n",
              ".highlight .kr { color: #008000; font-weight: bold } /* Keyword.Reserved */\n",
              ".highlight .kt { color: #B00040 } /* Keyword.Type */\n",
              ".highlight .m { color: #666666 } /* Literal.Number */\n",
              ".highlight .s { color: #BA2121 } /* Literal.String */\n",
              ".highlight .na { color: #7D9029 } /* Name.Attribute */\n",
              ".highlight .nb { color: #008000 } /* Name.Builtin */\n",
              ".highlight .nc { color: #0000FF; font-weight: bold } /* Name.Class */\n",
              ".highlight .no { color: #880000 } /* Name.Constant */\n",
              ".highlight .nd { color: #AA22FF } /* Name.Decorator */\n",
              ".highlight .ni { color: #999999; font-weight: bold } /* Name.Entity */\n",
              ".highlight .ne { color: #D2413A; font-weight: bold } /* Name.Exception */\n",
              ".highlight .nf { color: #0000FF } /* Name.Function */\n",
              ".highlight .nl { color: #A0A000 } /* Name.Label */\n",
              ".highlight .nn { color: #0000FF; font-weight: bold } /* Name.Namespace */\n",
              ".highlight .nt { color: #008000; font-weight: bold } /* Name.Tag */\n",
              ".highlight .nv { color: #19177C } /* Name.Variable */\n",
              ".highlight .ow { color: #AA22FF; font-weight: bold } /* Operator.Word */\n",
              ".highlight .w { color: #bbbbbb } /* Text.Whitespace */\n",
              ".highlight .mb { color: #666666 } /* Literal.Number.Bin */\n",
              ".highlight .mf { color: #666666 } /* Literal.Number.Float */\n",
              ".highlight .mh { color: #666666 } /* Literal.Number.Hex */\n",
              ".highlight .mi { color: #666666 } /* Literal.Number.Integer */\n",
              ".highlight .mo { color: #666666 } /* Literal.Number.Oct */\n",
              ".highlight .sa { color: #BA2121 } /* Literal.String.Affix */\n",
              ".highlight .sb { color: #BA2121 } /* Literal.String.Backtick */\n",
              ".highlight .sc { color: #BA2121 } /* Literal.String.Char */\n",
              ".highlight .dl { color: #BA2121 } /* Literal.String.Delimiter */\n",
              ".highlight .sd { color: #BA2121; font-style: italic } /* Literal.String.Doc */\n",
              ".highlight .s2 { color: #BA2121 } /* Literal.String.Double */\n",
              ".highlight .se { color: #BB6622; font-weight: bold } /* Literal.String.Escape */\n",
              ".highlight .sh { color: #BA2121 } /* Literal.String.Heredoc */\n",
              ".highlight .si { color: #BB6688; font-weight: bold } /* Literal.String.Interpol */\n",
              ".highlight .sx { color: #008000 } /* Literal.String.Other */\n",
              ".highlight .sr { color: #BB6688 } /* Literal.String.Regex */\n",
              ".highlight .s1 { color: #BA2121 } /* Literal.String.Single */\n",
              ".highlight .ss { color: #19177C } /* Literal.String.Symbol */\n",
              ".highlight .bp { color: #008000 } /* Name.Builtin.Pseudo */\n",
              ".highlight .fm { color: #0000FF } /* Name.Function.Magic */\n",
              ".highlight .vc { color: #19177C } /* Name.Variable.Class */\n",
              ".highlight .vg { color: #19177C } /* Name.Variable.Global */\n",
              ".highlight .vi { color: #19177C } /* Name.Variable.Instance */\n",
              ".highlight .vm { color: #19177C } /* Name.Variable.Magic */\n",
              ".highlight .il { color: #666666 } /* Literal.Number.Integer.Long */</style><div class=\"highlight\"><pre><span></span><span class=\"nd\">@tvm</span><span class=\"o\">.</span><span class=\"n\">script</span><span class=\"o\">.</span><span class=\"n\">ir_module</span>\n",
              "<span class=\"k\">class</span> <span class=\"nc\">Module</span><span class=\"p\">:</span>\n",
              "    <span class=\"nd\">@T</span><span class=\"o\">.</span><span class=\"n\">prim_func</span>\n",
              "    <span class=\"k\">def</span> <span class=\"nf\">main</span><span class=\"p\">(</span><span class=\"n\">A</span><span class=\"p\">:</span> <span class=\"n\">T</span><span class=\"o\">.</span><span class=\"n\">Buffer</span><span class=\"p\">[(</span><span class=\"mi\">128</span><span class=\"p\">,</span> <span class=\"mi\">128</span><span class=\"p\">),</span> <span class=\"s2\">&quot;float32&quot;</span><span class=\"p\">],</span> <span class=\"n\">B</span><span class=\"p\">:</span> <span class=\"n\">T</span><span class=\"o\">.</span><span class=\"n\">Buffer</span><span class=\"p\">[(</span><span class=\"mi\">128</span><span class=\"p\">,</span> <span class=\"mi\">128</span><span class=\"p\">),</span> <span class=\"s2\">&quot;float32&quot;</span><span class=\"p\">],</span> <span class=\"n\">C</span><span class=\"p\">:</span> <span class=\"n\">T</span><span class=\"o\">.</span><span class=\"n\">Buffer</span><span class=\"p\">[(</span><span class=\"mi\">128</span><span class=\"p\">,</span> <span class=\"mi\">128</span><span class=\"p\">),</span> <span class=\"s2\">&quot;float32&quot;</span><span class=\"p\">])</span> <span class=\"o\">-&gt;</span> <span class=\"kc\">None</span><span class=\"p\">:</span>\n",
              "        <span class=\"c1\"># function attr dict</span>\n",
              "        <span class=\"n\">T</span><span class=\"o\">.</span><span class=\"n\">func_attr</span><span class=\"p\">({</span><span class=\"s2\">&quot;global_symbol&quot;</span><span class=\"p\">:</span> <span class=\"s2\">&quot;main&quot;</span><span class=\"p\">,</span> <span class=\"s2\">&quot;tir.noalias&quot;</span><span class=\"p\">:</span> <span class=\"kc\">True</span><span class=\"p\">})</span>\n",
              "        <span class=\"c1\"># body</span>\n",
              "        <span class=\"c1\"># with T.block(&quot;root&quot;)</span>\n",
              "        <span class=\"k\">for</span> <span class=\"n\">i</span><span class=\"p\">,</span> <span class=\"n\">j_0</span> <span class=\"ow\">in</span> <span class=\"n\">T</span><span class=\"o\">.</span><span class=\"n\">grid</span><span class=\"p\">(</span><span class=\"mi\">128</span><span class=\"p\">,</span> <span class=\"mi\">32</span><span class=\"p\">):</span>\n",
              "            <span class=\"k\">for</span> <span class=\"n\">j_1_init</span> <span class=\"ow\">in</span> <span class=\"n\">T</span><span class=\"o\">.</span><span class=\"n\">serial</span><span class=\"p\">(</span><span class=\"mi\">4</span><span class=\"p\">):</span>\n",
              "                <span class=\"k\">with</span> <span class=\"n\">T</span><span class=\"o\">.</span><span class=\"n\">block</span><span class=\"p\">(</span><span class=\"s2\">&quot;C_init&quot;</span><span class=\"p\">):</span>\n",
              "                    <span class=\"n\">vi</span> <span class=\"o\">=</span> <span class=\"n\">T</span><span class=\"o\">.</span><span class=\"n\">axis</span><span class=\"o\">.</span><span class=\"n\">spatial</span><span class=\"p\">(</span><span class=\"mi\">128</span><span class=\"p\">,</span> <span class=\"n\">i</span><span class=\"p\">)</span>\n",
              "                    <span class=\"n\">vj</span> <span class=\"o\">=</span> <span class=\"n\">T</span><span class=\"o\">.</span><span class=\"n\">axis</span><span class=\"o\">.</span><span class=\"n\">spatial</span><span class=\"p\">(</span><span class=\"mi\">128</span><span class=\"p\">,</span> <span class=\"n\">j_0</span> <span class=\"o\">*</span> <span class=\"mi\">4</span> <span class=\"o\">+</span> <span class=\"n\">j_1_init</span><span class=\"p\">)</span>\n",
              "                    <span class=\"n\">T</span><span class=\"o\">.</span><span class=\"n\">reads</span><span class=\"p\">()</span>\n",
              "                    <span class=\"n\">T</span><span class=\"o\">.</span><span class=\"n\">writes</span><span class=\"p\">(</span><span class=\"n\">C</span><span class=\"p\">[</span><span class=\"n\">vi</span><span class=\"p\">,</span> <span class=\"n\">vj</span><span class=\"p\">])</span>\n",
              "                    <span class=\"n\">C</span><span class=\"p\">[</span><span class=\"n\">vi</span><span class=\"p\">,</span> <span class=\"n\">vj</span><span class=\"p\">]</span> <span class=\"o\">=</span> <span class=\"n\">T</span><span class=\"o\">.</span><span class=\"n\">float32</span><span class=\"p\">(</span><span class=\"mi\">0</span><span class=\"p\">)</span>\n",
              "            <span class=\"k\">for</span> <span class=\"n\">k</span><span class=\"p\">,</span> <span class=\"n\">j_1</span> <span class=\"ow\">in</span> <span class=\"n\">T</span><span class=\"o\">.</span><span class=\"n\">grid</span><span class=\"p\">(</span><span class=\"mi\">128</span><span class=\"p\">,</span> <span class=\"mi\">4</span><span class=\"p\">):</span>\n",
              "                <span class=\"k\">with</span> <span class=\"n\">T</span><span class=\"o\">.</span><span class=\"n\">block</span><span class=\"p\">(</span><span class=\"s2\">&quot;C_update&quot;</span><span class=\"p\">):</span>\n",
              "                    <span class=\"n\">vi</span> <span class=\"o\">=</span> <span class=\"n\">T</span><span class=\"o\">.</span><span class=\"n\">axis</span><span class=\"o\">.</span><span class=\"n\">spatial</span><span class=\"p\">(</span><span class=\"mi\">128</span><span class=\"p\">,</span> <span class=\"n\">i</span><span class=\"p\">)</span>\n",
              "                    <span class=\"n\">vj</span> <span class=\"o\">=</span> <span class=\"n\">T</span><span class=\"o\">.</span><span class=\"n\">axis</span><span class=\"o\">.</span><span class=\"n\">spatial</span><span class=\"p\">(</span><span class=\"mi\">128</span><span class=\"p\">,</span> <span class=\"n\">j_0</span> <span class=\"o\">*</span> <span class=\"mi\">4</span> <span class=\"o\">+</span> <span class=\"n\">j_1</span><span class=\"p\">)</span>\n",
              "                    <span class=\"n\">vk</span> <span class=\"o\">=</span> <span class=\"n\">T</span><span class=\"o\">.</span><span class=\"n\">axis</span><span class=\"o\">.</span><span class=\"n\">reduce</span><span class=\"p\">(</span><span class=\"mi\">128</span><span class=\"p\">,</span> <span class=\"n\">k</span><span class=\"p\">)</span>\n",
              "                    <span class=\"n\">T</span><span class=\"o\">.</span><span class=\"n\">reads</span><span class=\"p\">(</span><span class=\"n\">C</span><span class=\"p\">[</span><span class=\"n\">vi</span><span class=\"p\">,</span> <span class=\"n\">vj</span><span class=\"p\">],</span> <span class=\"n\">A</span><span class=\"p\">[</span><span class=\"n\">vi</span><span class=\"p\">,</span> <span class=\"n\">vk</span><span class=\"p\">],</span> <span class=\"n\">B</span><span class=\"p\">[</span><span class=\"n\">vk</span><span class=\"p\">,</span> <span class=\"n\">vj</span><span class=\"p\">])</span>\n",
              "                    <span class=\"n\">T</span><span class=\"o\">.</span><span class=\"n\">writes</span><span class=\"p\">(</span><span class=\"n\">C</span><span class=\"p\">[</span><span class=\"n\">vi</span><span class=\"p\">,</span> <span class=\"n\">vj</span><span class=\"p\">])</span>\n",
              "                    <span class=\"n\">C</span><span class=\"p\">[</span><span class=\"n\">vi</span><span class=\"p\">,</span> <span class=\"n\">vj</span><span class=\"p\">]</span> <span class=\"o\">=</span> <span class=\"n\">C</span><span class=\"p\">[</span><span class=\"n\">vi</span><span class=\"p\">,</span> <span class=\"n\">vj</span><span class=\"p\">]</span> <span class=\"o\">+</span> <span class=\"n\">A</span><span class=\"p\">[</span><span class=\"n\">vi</span><span class=\"p\">,</span> <span class=\"n\">vk</span><span class=\"p\">]</span> <span class=\"o\">*</span> <span class=\"n\">B</span><span class=\"p\">[</span><span class=\"n\">vk</span><span class=\"p\">,</span> <span class=\"n\">vj</span><span class=\"p\">]</span>\n",
              "    \n",
              "</pre></div>\n",
              "\n"
            ]
          },
          "metadata": {},
          "execution_count": 11
        }
      ]
    },
    {
      "cell_type": "code",
      "source": [
        "lib = tvm.build(sch.mod, target=\"llvm\")\n",
        "f_timer_after = lib.time_evaluator(\"main\", tvm.cpu())\n",
        "print(\"Time cost of MyModule=>schedule_mm: %.3f ms\" % (f_timer_after(a_nd, b_nd, c_nd).mean * 1000))"
      ],
      "metadata": {
        "colab": {
          "base_uri": "https://localhost:8080/"
        },
        "id": "O_c4UscKlEgW",
        "outputId": "535bf51a-7b16-4887-f7db-7ebfed8a5d35"
      },
      "execution_count": 12,
      "outputs": [
        {
          "output_type": "stream",
          "name": "stdout",
          "text": [
            "Time cost of MyModule=>schedule_mm: 2.031 ms\n"
          ]
        }
      ]
    },
    {
      "cell_type": "code",
      "source": [
        "print(sch.trace)"
      ],
      "metadata": {
        "colab": {
          "base_uri": "https://localhost:8080/"
        },
        "id": "6-TbpylVlYNq",
        "outputId": "cdaa9295-7d87-4fbe-d958-367310301222"
      },
      "execution_count": 13,
      "outputs": [
        {
          "output_type": "stream",
          "name": "stdout",
          "text": [
            "b0 = sch.get_block(name=\"C\", func_name=\"main\")\n",
            "l1, l2, l3 = sch.get_loops(block=b0)\n",
            "l4, l5 = sch.split(loop=l2, factors=[None, 4], preserve_unit_iters=True)\n",
            "sch.reorder(l1, l4, l3, l5)\n",
            "b6 = sch.decompose_reduction(block=b0, loop=l3)\n"
          ]
        }
      ]
    },
    {
      "cell_type": "markdown",
      "source": [
        "## 随机调度变换"
      ],
      "metadata": {
        "id": "IJnTWBIYmEEV"
      }
    },
    {
      "cell_type": "code",
      "source": [
        "def stochastic_schedule_mm(sch: tvm.tir.Schedule):\n",
        "    block_C = sch.get_block(\"C\", \"main\")\n",
        "    i, j, k = sch.get_loops(block=block_C)\n",
        "    j_factors = sch.sample_perfect_tile(loop=j, n=2)\n",
        "    j_0, j_1 = sch.split(loop=j, factors=j_factors)\n",
        "    sch.reorder(i, j_0, k, j_1)\n",
        "    sch.decompose_reduction(block_C, k)\n",
        "    return sch"
      ],
      "metadata": {
        "id": "Wf8PHsaTlnIG"
      },
      "execution_count": 14,
      "outputs": []
    },
    {
      "cell_type": "code",
      "source": [
        "sch = tvm.tir.Schedule(MyModule)\n",
        "sch = stochastic_schedule_mm(sch)\n",
        "\n",
        "IPython.display.HTML(code2html(sch.mod.script()))"
      ],
      "metadata": {
        "colab": {
          "base_uri": "https://localhost:8080/",
          "height": 451
        },
        "id": "REgfBMtwmHrA",
        "outputId": "09906154-4afa-4949-c866-bcd68e8ad2ce"
      },
      "execution_count": 17,
      "outputs": [
        {
          "output_type": "execute_result",
          "data": {
            "text/plain": [
              "<IPython.core.display.HTML object>"
            ],
            "text/html": [
              "<style>.highlight .hll { background-color: #ffffcc }\n",
              ".highlight  { background: #f8f8f8; }\n",
              ".highlight .c { color: #408080; font-style: italic } /* Comment */\n",
              ".highlight .err { border: 1px solid #FF0000 } /* Error */\n",
              ".highlight .k { color: #008000; font-weight: bold } /* Keyword */\n",
              ".highlight .o { color: #666666 } /* Operator */\n",
              ".highlight .ch { color: #408080; font-style: italic } /* Comment.Hashbang */\n",
              ".highlight .cm { color: #408080; font-style: italic } /* Comment.Multiline */\n",
              ".highlight .cp { color: #BC7A00 } /* Comment.Preproc */\n",
              ".highlight .cpf { color: #408080; font-style: italic } /* Comment.PreprocFile */\n",
              ".highlight .c1 { color: #408080; font-style: italic } /* Comment.Single */\n",
              ".highlight .cs { color: #408080; font-style: italic } /* Comment.Special */\n",
              ".highlight .gd { color: #A00000 } /* Generic.Deleted */\n",
              ".highlight .ge { font-style: italic } /* Generic.Emph */\n",
              ".highlight .gr { color: #FF0000 } /* Generic.Error */\n",
              ".highlight .gh { color: #000080; font-weight: bold } /* Generic.Heading */\n",
              ".highlight .gi { color: #00A000 } /* Generic.Inserted */\n",
              ".highlight .go { color: #888888 } /* Generic.Output */\n",
              ".highlight .gp { color: #000080; font-weight: bold } /* Generic.Prompt */\n",
              ".highlight .gs { font-weight: bold } /* Generic.Strong */\n",
              ".highlight .gu { color: #800080; font-weight: bold } /* Generic.Subheading */\n",
              ".highlight .gt { color: #0044DD } /* Generic.Traceback */\n",
              ".highlight .kc { color: #008000; font-weight: bold } /* Keyword.Constant */\n",
              ".highlight .kd { color: #008000; font-weight: bold } /* Keyword.Declaration */\n",
              ".highlight .kn { color: #008000; font-weight: bold } /* Keyword.Namespace */\n",
              ".highlight .kp { color: #008000 } /* Keyword.Pseudo */\n",
              ".highlight .kr { color: #008000; font-weight: bold } /* Keyword.Reserved */\n",
              ".highlight .kt { color: #B00040 } /* Keyword.Type */\n",
              ".highlight .m { color: #666666 } /* Literal.Number */\n",
              ".highlight .s { color: #BA2121 } /* Literal.String */\n",
              ".highlight .na { color: #7D9029 } /* Name.Attribute */\n",
              ".highlight .nb { color: #008000 } /* Name.Builtin */\n",
              ".highlight .nc { color: #0000FF; font-weight: bold } /* Name.Class */\n",
              ".highlight .no { color: #880000 } /* Name.Constant */\n",
              ".highlight .nd { color: #AA22FF } /* Name.Decorator */\n",
              ".highlight .ni { color: #999999; font-weight: bold } /* Name.Entity */\n",
              ".highlight .ne { color: #D2413A; font-weight: bold } /* Name.Exception */\n",
              ".highlight .nf { color: #0000FF } /* Name.Function */\n",
              ".highlight .nl { color: #A0A000 } /* Name.Label */\n",
              ".highlight .nn { color: #0000FF; font-weight: bold } /* Name.Namespace */\n",
              ".highlight .nt { color: #008000; font-weight: bold } /* Name.Tag */\n",
              ".highlight .nv { color: #19177C } /* Name.Variable */\n",
              ".highlight .ow { color: #AA22FF; font-weight: bold } /* Operator.Word */\n",
              ".highlight .w { color: #bbbbbb } /* Text.Whitespace */\n",
              ".highlight .mb { color: #666666 } /* Literal.Number.Bin */\n",
              ".highlight .mf { color: #666666 } /* Literal.Number.Float */\n",
              ".highlight .mh { color: #666666 } /* Literal.Number.Hex */\n",
              ".highlight .mi { color: #666666 } /* Literal.Number.Integer */\n",
              ".highlight .mo { color: #666666 } /* Literal.Number.Oct */\n",
              ".highlight .sa { color: #BA2121 } /* Literal.String.Affix */\n",
              ".highlight .sb { color: #BA2121 } /* Literal.String.Backtick */\n",
              ".highlight .sc { color: #BA2121 } /* Literal.String.Char */\n",
              ".highlight .dl { color: #BA2121 } /* Literal.String.Delimiter */\n",
              ".highlight .sd { color: #BA2121; font-style: italic } /* Literal.String.Doc */\n",
              ".highlight .s2 { color: #BA2121 } /* Literal.String.Double */\n",
              ".highlight .se { color: #BB6622; font-weight: bold } /* Literal.String.Escape */\n",
              ".highlight .sh { color: #BA2121 } /* Literal.String.Heredoc */\n",
              ".highlight .si { color: #BB6688; font-weight: bold } /* Literal.String.Interpol */\n",
              ".highlight .sx { color: #008000 } /* Literal.String.Other */\n",
              ".highlight .sr { color: #BB6688 } /* Literal.String.Regex */\n",
              ".highlight .s1 { color: #BA2121 } /* Literal.String.Single */\n",
              ".highlight .ss { color: #19177C } /* Literal.String.Symbol */\n",
              ".highlight .bp { color: #008000 } /* Name.Builtin.Pseudo */\n",
              ".highlight .fm { color: #0000FF } /* Name.Function.Magic */\n",
              ".highlight .vc { color: #19177C } /* Name.Variable.Class */\n",
              ".highlight .vg { color: #19177C } /* Name.Variable.Global */\n",
              ".highlight .vi { color: #19177C } /* Name.Variable.Instance */\n",
              ".highlight .vm { color: #19177C } /* Name.Variable.Magic */\n",
              ".highlight .il { color: #666666 } /* Literal.Number.Integer.Long */</style><div class=\"highlight\"><pre><span></span><span class=\"nd\">@tvm</span><span class=\"o\">.</span><span class=\"n\">script</span><span class=\"o\">.</span><span class=\"n\">ir_module</span>\n",
              "<span class=\"k\">class</span> <span class=\"nc\">Module</span><span class=\"p\">:</span>\n",
              "    <span class=\"nd\">@T</span><span class=\"o\">.</span><span class=\"n\">prim_func</span>\n",
              "    <span class=\"k\">def</span> <span class=\"nf\">main</span><span class=\"p\">(</span><span class=\"n\">A</span><span class=\"p\">:</span> <span class=\"n\">T</span><span class=\"o\">.</span><span class=\"n\">Buffer</span><span class=\"p\">[(</span><span class=\"mi\">128</span><span class=\"p\">,</span> <span class=\"mi\">128</span><span class=\"p\">),</span> <span class=\"s2\">&quot;float32&quot;</span><span class=\"p\">],</span> <span class=\"n\">B</span><span class=\"p\">:</span> <span class=\"n\">T</span><span class=\"o\">.</span><span class=\"n\">Buffer</span><span class=\"p\">[(</span><span class=\"mi\">128</span><span class=\"p\">,</span> <span class=\"mi\">128</span><span class=\"p\">),</span> <span class=\"s2\">&quot;float32&quot;</span><span class=\"p\">],</span> <span class=\"n\">C</span><span class=\"p\">:</span> <span class=\"n\">T</span><span class=\"o\">.</span><span class=\"n\">Buffer</span><span class=\"p\">[(</span><span class=\"mi\">128</span><span class=\"p\">,</span> <span class=\"mi\">128</span><span class=\"p\">),</span> <span class=\"s2\">&quot;float32&quot;</span><span class=\"p\">])</span> <span class=\"o\">-&gt;</span> <span class=\"kc\">None</span><span class=\"p\">:</span>\n",
              "        <span class=\"c1\"># function attr dict</span>\n",
              "        <span class=\"n\">T</span><span class=\"o\">.</span><span class=\"n\">func_attr</span><span class=\"p\">({</span><span class=\"s2\">&quot;global_symbol&quot;</span><span class=\"p\">:</span> <span class=\"s2\">&quot;main&quot;</span><span class=\"p\">,</span> <span class=\"s2\">&quot;tir.noalias&quot;</span><span class=\"p\">:</span> <span class=\"kc\">True</span><span class=\"p\">})</span>\n",
              "        <span class=\"c1\"># body</span>\n",
              "        <span class=\"c1\"># with T.block(&quot;root&quot;)</span>\n",
              "        <span class=\"k\">for</span> <span class=\"n\">i</span><span class=\"p\">,</span> <span class=\"n\">j_0</span> <span class=\"ow\">in</span> <span class=\"n\">T</span><span class=\"o\">.</span><span class=\"n\">grid</span><span class=\"p\">(</span><span class=\"mi\">128</span><span class=\"p\">,</span> <span class=\"mi\">8</span><span class=\"p\">):</span>\n",
              "            <span class=\"k\">for</span> <span class=\"n\">j_1_init</span> <span class=\"ow\">in</span> <span class=\"n\">T</span><span class=\"o\">.</span><span class=\"n\">serial</span><span class=\"p\">(</span><span class=\"mi\">16</span><span class=\"p\">):</span>\n",
              "                <span class=\"k\">with</span> <span class=\"n\">T</span><span class=\"o\">.</span><span class=\"n\">block</span><span class=\"p\">(</span><span class=\"s2\">&quot;C_init&quot;</span><span class=\"p\">):</span>\n",
              "                    <span class=\"n\">vi</span> <span class=\"o\">=</span> <span class=\"n\">T</span><span class=\"o\">.</span><span class=\"n\">axis</span><span class=\"o\">.</span><span class=\"n\">spatial</span><span class=\"p\">(</span><span class=\"mi\">128</span><span class=\"p\">,</span> <span class=\"n\">i</span><span class=\"p\">)</span>\n",
              "                    <span class=\"n\">vj</span> <span class=\"o\">=</span> <span class=\"n\">T</span><span class=\"o\">.</span><span class=\"n\">axis</span><span class=\"o\">.</span><span class=\"n\">spatial</span><span class=\"p\">(</span><span class=\"mi\">128</span><span class=\"p\">,</span> <span class=\"n\">j_0</span> <span class=\"o\">*</span> <span class=\"mi\">16</span> <span class=\"o\">+</span> <span class=\"n\">j_1_init</span><span class=\"p\">)</span>\n",
              "                    <span class=\"n\">T</span><span class=\"o\">.</span><span class=\"n\">reads</span><span class=\"p\">()</span>\n",
              "                    <span class=\"n\">T</span><span class=\"o\">.</span><span class=\"n\">writes</span><span class=\"p\">(</span><span class=\"n\">C</span><span class=\"p\">[</span><span class=\"n\">vi</span><span class=\"p\">,</span> <span class=\"n\">vj</span><span class=\"p\">])</span>\n",
              "                    <span class=\"n\">C</span><span class=\"p\">[</span><span class=\"n\">vi</span><span class=\"p\">,</span> <span class=\"n\">vj</span><span class=\"p\">]</span> <span class=\"o\">=</span> <span class=\"n\">T</span><span class=\"o\">.</span><span class=\"n\">float32</span><span class=\"p\">(</span><span class=\"mi\">0</span><span class=\"p\">)</span>\n",
              "            <span class=\"k\">for</span> <span class=\"n\">k</span><span class=\"p\">,</span> <span class=\"n\">j_1</span> <span class=\"ow\">in</span> <span class=\"n\">T</span><span class=\"o\">.</span><span class=\"n\">grid</span><span class=\"p\">(</span><span class=\"mi\">128</span><span class=\"p\">,</span> <span class=\"mi\">16</span><span class=\"p\">):</span>\n",
              "                <span class=\"k\">with</span> <span class=\"n\">T</span><span class=\"o\">.</span><span class=\"n\">block</span><span class=\"p\">(</span><span class=\"s2\">&quot;C_update&quot;</span><span class=\"p\">):</span>\n",
              "                    <span class=\"n\">vi</span> <span class=\"o\">=</span> <span class=\"n\">T</span><span class=\"o\">.</span><span class=\"n\">axis</span><span class=\"o\">.</span><span class=\"n\">spatial</span><span class=\"p\">(</span><span class=\"mi\">128</span><span class=\"p\">,</span> <span class=\"n\">i</span><span class=\"p\">)</span>\n",
              "                    <span class=\"n\">vj</span> <span class=\"o\">=</span> <span class=\"n\">T</span><span class=\"o\">.</span><span class=\"n\">axis</span><span class=\"o\">.</span><span class=\"n\">spatial</span><span class=\"p\">(</span><span class=\"mi\">128</span><span class=\"p\">,</span> <span class=\"n\">j_0</span> <span class=\"o\">*</span> <span class=\"mi\">16</span> <span class=\"o\">+</span> <span class=\"n\">j_1</span><span class=\"p\">)</span>\n",
              "                    <span class=\"n\">vk</span> <span class=\"o\">=</span> <span class=\"n\">T</span><span class=\"o\">.</span><span class=\"n\">axis</span><span class=\"o\">.</span><span class=\"n\">reduce</span><span class=\"p\">(</span><span class=\"mi\">128</span><span class=\"p\">,</span> <span class=\"n\">k</span><span class=\"p\">)</span>\n",
              "                    <span class=\"n\">T</span><span class=\"o\">.</span><span class=\"n\">reads</span><span class=\"p\">(</span><span class=\"n\">C</span><span class=\"p\">[</span><span class=\"n\">vi</span><span class=\"p\">,</span> <span class=\"n\">vj</span><span class=\"p\">],</span> <span class=\"n\">A</span><span class=\"p\">[</span><span class=\"n\">vi</span><span class=\"p\">,</span> <span class=\"n\">vk</span><span class=\"p\">],</span> <span class=\"n\">B</span><span class=\"p\">[</span><span class=\"n\">vk</span><span class=\"p\">,</span> <span class=\"n\">vj</span><span class=\"p\">])</span>\n",
              "                    <span class=\"n\">T</span><span class=\"o\">.</span><span class=\"n\">writes</span><span class=\"p\">(</span><span class=\"n\">C</span><span class=\"p\">[</span><span class=\"n\">vi</span><span class=\"p\">,</span> <span class=\"n\">vj</span><span class=\"p\">])</span>\n",
              "                    <span class=\"n\">C</span><span class=\"p\">[</span><span class=\"n\">vi</span><span class=\"p\">,</span> <span class=\"n\">vj</span><span class=\"p\">]</span> <span class=\"o\">=</span> <span class=\"n\">C</span><span class=\"p\">[</span><span class=\"n\">vi</span><span class=\"p\">,</span> <span class=\"n\">vj</span><span class=\"p\">]</span> <span class=\"o\">+</span> <span class=\"n\">A</span><span class=\"p\">[</span><span class=\"n\">vi</span><span class=\"p\">,</span> <span class=\"n\">vk</span><span class=\"p\">]</span> <span class=\"o\">*</span> <span class=\"n\">B</span><span class=\"p\">[</span><span class=\"n\">vk</span><span class=\"p\">,</span> <span class=\"n\">vj</span><span class=\"p\">]</span>\n",
              "    \n",
              "</pre></div>\n",
              "\n"
            ]
          },
          "metadata": {},
          "execution_count": 17
        }
      ]
    },
    {
      "cell_type": "code",
      "source": [
        "print(sch.trace)"
      ],
      "metadata": {
        "colab": {
          "base_uri": "https://localhost:8080/"
        },
        "id": "ylHKe4-SmNjX",
        "outputId": "549c88fb-916e-48ce-8bce-b49138ac536d"
      },
      "execution_count": 18,
      "outputs": [
        {
          "output_type": "stream",
          "name": "stdout",
          "text": [
            "b0 = sch.get_block(name=\"C\", func_name=\"main\")\n",
            "l1, l2, l3 = sch.get_loops(block=b0)\n",
            "v4, v5 = sch.sample_perfect_tile(loop=l2, n=2, max_innermost_factor=16, decision=[8, 16])\n",
            "l6, l7 = sch.split(loop=l2, factors=[v4, v5], preserve_unit_iters=True)\n",
            "sch.reorder(l1, l6, l3, l7)\n",
            "b8 = sch.decompose_reduction(block=b0, loop=l3)\n"
          ]
        }
      ]
    },
    {
      "cell_type": "code",
      "source": [
        "sch = tvm.tir.Schedule(MyModule)\n",
        "block_C = sch.get_block(\"C\", \"main\")\n",
        "i, j, k = sch.get_loops(block=block_C)\n",
        "j_factors = sch.sample_perfect_tile(loop=j, n=2)"
      ],
      "metadata": {
        "id": "SDec8RRnmV2i"
      },
      "execution_count": 19,
      "outputs": []
    },
    {
      "cell_type": "code",
      "source": [
        "type(j_factors[0])"
      ],
      "metadata": {
        "colab": {
          "base_uri": "https://localhost:8080/"
        },
        "id": "GulytuFtmp-z",
        "outputId": "cc5a59ea-a05a-44c0-f85b-b8727051ee6c"
      },
      "execution_count": 20,
      "outputs": [
        {
          "output_type": "execute_result",
          "data": {
            "text/plain": [
              "tvm.tir.expr.Var"
            ]
          },
          "metadata": {},
          "execution_count": 20
        }
      ]
    },
    {
      "cell_type": "code",
      "source": [
        "print(sch.trace)"
      ],
      "metadata": {
        "colab": {
          "base_uri": "https://localhost:8080/"
        },
        "id": "97okI_a4ms_N",
        "outputId": "aa9098ea-0ba4-4141-9c84-c0410acff7a4"
      },
      "execution_count": 21,
      "outputs": [
        {
          "output_type": "stream",
          "name": "stdout",
          "text": [
            "b0 = sch.get_block(name=\"C\", func_name=\"main\")\n",
            "l1, l2, l3 = sch.get_loops(block=b0)\n",
            "v4, v5 = sch.sample_perfect_tile(loop=l2, n=2, max_innermost_factor=16, decision=[8, 16])\n"
          ]
        }
      ]
    },
    {
      "cell_type": "code",
      "source": [
        "IPython.display.HTML(code2html(sch.mod.script()))"
      ],
      "metadata": {
        "colab": {
          "base_uri": "https://localhost:8080/",
          "height": 312
        },
        "id": "Jg4pdLw6myBD",
        "outputId": "e9f19a58-5474-4036-de65-503cc35fd9af"
      },
      "execution_count": 22,
      "outputs": [
        {
          "output_type": "execute_result",
          "data": {
            "text/plain": [
              "<IPython.core.display.HTML object>"
            ],
            "text/html": [
              "<style>.highlight .hll { background-color: #ffffcc }\n",
              ".highlight  { background: #f8f8f8; }\n",
              ".highlight .c { color: #408080; font-style: italic } /* Comment */\n",
              ".highlight .err { border: 1px solid #FF0000 } /* Error */\n",
              ".highlight .k { color: #008000; font-weight: bold } /* Keyword */\n",
              ".highlight .o { color: #666666 } /* Operator */\n",
              ".highlight .ch { color: #408080; font-style: italic } /* Comment.Hashbang */\n",
              ".highlight .cm { color: #408080; font-style: italic } /* Comment.Multiline */\n",
              ".highlight .cp { color: #BC7A00 } /* Comment.Preproc */\n",
              ".highlight .cpf { color: #408080; font-style: italic } /* Comment.PreprocFile */\n",
              ".highlight .c1 { color: #408080; font-style: italic } /* Comment.Single */\n",
              ".highlight .cs { color: #408080; font-style: italic } /* Comment.Special */\n",
              ".highlight .gd { color: #A00000 } /* Generic.Deleted */\n",
              ".highlight .ge { font-style: italic } /* Generic.Emph */\n",
              ".highlight .gr { color: #FF0000 } /* Generic.Error */\n",
              ".highlight .gh { color: #000080; font-weight: bold } /* Generic.Heading */\n",
              ".highlight .gi { color: #00A000 } /* Generic.Inserted */\n",
              ".highlight .go { color: #888888 } /* Generic.Output */\n",
              ".highlight .gp { color: #000080; font-weight: bold } /* Generic.Prompt */\n",
              ".highlight .gs { font-weight: bold } /* Generic.Strong */\n",
              ".highlight .gu { color: #800080; font-weight: bold } /* Generic.Subheading */\n",
              ".highlight .gt { color: #0044DD } /* Generic.Traceback */\n",
              ".highlight .kc { color: #008000; font-weight: bold } /* Keyword.Constant */\n",
              ".highlight .kd { color: #008000; font-weight: bold } /* Keyword.Declaration */\n",
              ".highlight .kn { color: #008000; font-weight: bold } /* Keyword.Namespace */\n",
              ".highlight .kp { color: #008000 } /* Keyword.Pseudo */\n",
              ".highlight .kr { color: #008000; font-weight: bold } /* Keyword.Reserved */\n",
              ".highlight .kt { color: #B00040 } /* Keyword.Type */\n",
              ".highlight .m { color: #666666 } /* Literal.Number */\n",
              ".highlight .s { color: #BA2121 } /* Literal.String */\n",
              ".highlight .na { color: #7D9029 } /* Name.Attribute */\n",
              ".highlight .nb { color: #008000 } /* Name.Builtin */\n",
              ".highlight .nc { color: #0000FF; font-weight: bold } /* Name.Class */\n",
              ".highlight .no { color: #880000 } /* Name.Constant */\n",
              ".highlight .nd { color: #AA22FF } /* Name.Decorator */\n",
              ".highlight .ni { color: #999999; font-weight: bold } /* Name.Entity */\n",
              ".highlight .ne { color: #D2413A; font-weight: bold } /* Name.Exception */\n",
              ".highlight .nf { color: #0000FF } /* Name.Function */\n",
              ".highlight .nl { color: #A0A000 } /* Name.Label */\n",
              ".highlight .nn { color: #0000FF; font-weight: bold } /* Name.Namespace */\n",
              ".highlight .nt { color: #008000; font-weight: bold } /* Name.Tag */\n",
              ".highlight .nv { color: #19177C } /* Name.Variable */\n",
              ".highlight .ow { color: #AA22FF; font-weight: bold } /* Operator.Word */\n",
              ".highlight .w { color: #bbbbbb } /* Text.Whitespace */\n",
              ".highlight .mb { color: #666666 } /* Literal.Number.Bin */\n",
              ".highlight .mf { color: #666666 } /* Literal.Number.Float */\n",
              ".highlight .mh { color: #666666 } /* Literal.Number.Hex */\n",
              ".highlight .mi { color: #666666 } /* Literal.Number.Integer */\n",
              ".highlight .mo { color: #666666 } /* Literal.Number.Oct */\n",
              ".highlight .sa { color: #BA2121 } /* Literal.String.Affix */\n",
              ".highlight .sb { color: #BA2121 } /* Literal.String.Backtick */\n",
              ".highlight .sc { color: #BA2121 } /* Literal.String.Char */\n",
              ".highlight .dl { color: #BA2121 } /* Literal.String.Delimiter */\n",
              ".highlight .sd { color: #BA2121; font-style: italic } /* Literal.String.Doc */\n",
              ".highlight .s2 { color: #BA2121 } /* Literal.String.Double */\n",
              ".highlight .se { color: #BB6622; font-weight: bold } /* Literal.String.Escape */\n",
              ".highlight .sh { color: #BA2121 } /* Literal.String.Heredoc */\n",
              ".highlight .si { color: #BB6688; font-weight: bold } /* Literal.String.Interpol */\n",
              ".highlight .sx { color: #008000 } /* Literal.String.Other */\n",
              ".highlight .sr { color: #BB6688 } /* Literal.String.Regex */\n",
              ".highlight .s1 { color: #BA2121 } /* Literal.String.Single */\n",
              ".highlight .ss { color: #19177C } /* Literal.String.Symbol */\n",
              ".highlight .bp { color: #008000 } /* Name.Builtin.Pseudo */\n",
              ".highlight .fm { color: #0000FF } /* Name.Function.Magic */\n",
              ".highlight .vc { color: #19177C } /* Name.Variable.Class */\n",
              ".highlight .vg { color: #19177C } /* Name.Variable.Global */\n",
              ".highlight .vi { color: #19177C } /* Name.Variable.Instance */\n",
              ".highlight .vm { color: #19177C } /* Name.Variable.Magic */\n",
              ".highlight .il { color: #666666 } /* Literal.Number.Integer.Long */</style><div class=\"highlight\"><pre><span></span><span class=\"nd\">@tvm</span><span class=\"o\">.</span><span class=\"n\">script</span><span class=\"o\">.</span><span class=\"n\">ir_module</span>\n",
              "<span class=\"k\">class</span> <span class=\"nc\">Module</span><span class=\"p\">:</span>\n",
              "    <span class=\"nd\">@T</span><span class=\"o\">.</span><span class=\"n\">prim_func</span>\n",
              "    <span class=\"k\">def</span> <span class=\"nf\">main</span><span class=\"p\">(</span><span class=\"n\">A</span><span class=\"p\">:</span> <span class=\"n\">T</span><span class=\"o\">.</span><span class=\"n\">Buffer</span><span class=\"p\">[(</span><span class=\"mi\">128</span><span class=\"p\">,</span> <span class=\"mi\">128</span><span class=\"p\">),</span> <span class=\"s2\">&quot;float32&quot;</span><span class=\"p\">],</span> <span class=\"n\">B</span><span class=\"p\">:</span> <span class=\"n\">T</span><span class=\"o\">.</span><span class=\"n\">Buffer</span><span class=\"p\">[(</span><span class=\"mi\">128</span><span class=\"p\">,</span> <span class=\"mi\">128</span><span class=\"p\">),</span> <span class=\"s2\">&quot;float32&quot;</span><span class=\"p\">],</span> <span class=\"n\">C</span><span class=\"p\">:</span> <span class=\"n\">T</span><span class=\"o\">.</span><span class=\"n\">Buffer</span><span class=\"p\">[(</span><span class=\"mi\">128</span><span class=\"p\">,</span> <span class=\"mi\">128</span><span class=\"p\">),</span> <span class=\"s2\">&quot;float32&quot;</span><span class=\"p\">])</span> <span class=\"o\">-&gt;</span> <span class=\"kc\">None</span><span class=\"p\">:</span>\n",
              "        <span class=\"c1\"># function attr dict</span>\n",
              "        <span class=\"n\">T</span><span class=\"o\">.</span><span class=\"n\">func_attr</span><span class=\"p\">({</span><span class=\"s2\">&quot;global_symbol&quot;</span><span class=\"p\">:</span> <span class=\"s2\">&quot;main&quot;</span><span class=\"p\">,</span> <span class=\"s2\">&quot;tir.noalias&quot;</span><span class=\"p\">:</span> <span class=\"kc\">True</span><span class=\"p\">})</span>\n",
              "        <span class=\"c1\"># body</span>\n",
              "        <span class=\"c1\"># with T.block(&quot;root&quot;)</span>\n",
              "        <span class=\"k\">for</span> <span class=\"n\">i</span><span class=\"p\">,</span> <span class=\"n\">j</span><span class=\"p\">,</span> <span class=\"n\">k</span> <span class=\"ow\">in</span> <span class=\"n\">T</span><span class=\"o\">.</span><span class=\"n\">grid</span><span class=\"p\">(</span><span class=\"mi\">128</span><span class=\"p\">,</span> <span class=\"mi\">128</span><span class=\"p\">,</span> <span class=\"mi\">128</span><span class=\"p\">):</span>\n",
              "            <span class=\"k\">with</span> <span class=\"n\">T</span><span class=\"o\">.</span><span class=\"n\">block</span><span class=\"p\">(</span><span class=\"s2\">&quot;C&quot;</span><span class=\"p\">):</span>\n",
              "                <span class=\"n\">vi</span><span class=\"p\">,</span> <span class=\"n\">vj</span><span class=\"p\">,</span> <span class=\"n\">vk</span> <span class=\"o\">=</span> <span class=\"n\">T</span><span class=\"o\">.</span><span class=\"n\">axis</span><span class=\"o\">.</span><span class=\"n\">remap</span><span class=\"p\">(</span><span class=\"s2\">&quot;SSR&quot;</span><span class=\"p\">,</span> <span class=\"p\">[</span><span class=\"n\">i</span><span class=\"p\">,</span> <span class=\"n\">j</span><span class=\"p\">,</span> <span class=\"n\">k</span><span class=\"p\">])</span>\n",
              "                <span class=\"n\">T</span><span class=\"o\">.</span><span class=\"n\">reads</span><span class=\"p\">(</span><span class=\"n\">A</span><span class=\"p\">[</span><span class=\"n\">vi</span><span class=\"p\">,</span> <span class=\"n\">vk</span><span class=\"p\">],</span> <span class=\"n\">B</span><span class=\"p\">[</span><span class=\"n\">vk</span><span class=\"p\">,</span> <span class=\"n\">vj</span><span class=\"p\">])</span>\n",
              "                <span class=\"n\">T</span><span class=\"o\">.</span><span class=\"n\">writes</span><span class=\"p\">(</span><span class=\"n\">C</span><span class=\"p\">[</span><span class=\"n\">vi</span><span class=\"p\">,</span> <span class=\"n\">vj</span><span class=\"p\">])</span>\n",
              "                <span class=\"k\">with</span> <span class=\"n\">T</span><span class=\"o\">.</span><span class=\"n\">init</span><span class=\"p\">():</span>\n",
              "                    <span class=\"n\">C</span><span class=\"p\">[</span><span class=\"n\">vi</span><span class=\"p\">,</span> <span class=\"n\">vj</span><span class=\"p\">]</span> <span class=\"o\">=</span> <span class=\"n\">T</span><span class=\"o\">.</span><span class=\"n\">float32</span><span class=\"p\">(</span><span class=\"mi\">0</span><span class=\"p\">)</span>\n",
              "                <span class=\"n\">C</span><span class=\"p\">[</span><span class=\"n\">vi</span><span class=\"p\">,</span> <span class=\"n\">vj</span><span class=\"p\">]</span> <span class=\"o\">=</span> <span class=\"n\">C</span><span class=\"p\">[</span><span class=\"n\">vi</span><span class=\"p\">,</span> <span class=\"n\">vj</span><span class=\"p\">]</span> <span class=\"o\">+</span> <span class=\"n\">A</span><span class=\"p\">[</span><span class=\"n\">vi</span><span class=\"p\">,</span> <span class=\"n\">vk</span><span class=\"p\">]</span> <span class=\"o\">*</span> <span class=\"n\">B</span><span class=\"p\">[</span><span class=\"n\">vk</span><span class=\"p\">,</span> <span class=\"n\">vj</span><span class=\"p\">]</span>\n",
              "    \n",
              "</pre></div>\n",
              "\n"
            ]
          },
          "metadata": {},
          "execution_count": 22
        }
      ]
    },
    {
      "cell_type": "code",
      "source": [
        "j_0, j_1 = sch.split(loop=j, factors=j_factors)\n",
        "sch.reorder(i, j_0, k, j_1)"
      ],
      "metadata": {
        "id": "WRCozu0zm26A"
      },
      "execution_count": 23,
      "outputs": []
    },
    {
      "cell_type": "code",
      "source": [
        "print(sch.trace)"
      ],
      "metadata": {
        "colab": {
          "base_uri": "https://localhost:8080/"
        },
        "id": "z5VHxH9CnAw4",
        "outputId": "94243671-7b93-4aa9-bc46-809fdefb27be"
      },
      "execution_count": 24,
      "outputs": [
        {
          "output_type": "stream",
          "name": "stdout",
          "text": [
            "b0 = sch.get_block(name=\"C\", func_name=\"main\")\n",
            "l1, l2, l3 = sch.get_loops(block=b0)\n",
            "v4, v5 = sch.sample_perfect_tile(loop=l2, n=2, max_innermost_factor=16, decision=[8, 16])\n",
            "l6, l7 = sch.split(loop=l2, factors=[v4, v5], preserve_unit_iters=True)\n",
            "sch.reorder(l1, l6, l3, l7)\n"
          ]
        }
      ]
    },
    {
      "cell_type": "code",
      "source": [
        "IPython.display.HTML(code2html(sch.mod.script()))"
      ],
      "metadata": {
        "colab": {
          "base_uri": "https://localhost:8080/",
          "height": 347
        },
        "id": "bv2wcMHMnC9j",
        "outputId": "33e088d9-a88d-4317-9698-4be3fe7b8083"
      },
      "execution_count": 25,
      "outputs": [
        {
          "output_type": "execute_result",
          "data": {
            "text/plain": [
              "<IPython.core.display.HTML object>"
            ],
            "text/html": [
              "<style>.highlight .hll { background-color: #ffffcc }\n",
              ".highlight  { background: #f8f8f8; }\n",
              ".highlight .c { color: #408080; font-style: italic } /* Comment */\n",
              ".highlight .err { border: 1px solid #FF0000 } /* Error */\n",
              ".highlight .k { color: #008000; font-weight: bold } /* Keyword */\n",
              ".highlight .o { color: #666666 } /* Operator */\n",
              ".highlight .ch { color: #408080; font-style: italic } /* Comment.Hashbang */\n",
              ".highlight .cm { color: #408080; font-style: italic } /* Comment.Multiline */\n",
              ".highlight .cp { color: #BC7A00 } /* Comment.Preproc */\n",
              ".highlight .cpf { color: #408080; font-style: italic } /* Comment.PreprocFile */\n",
              ".highlight .c1 { color: #408080; font-style: italic } /* Comment.Single */\n",
              ".highlight .cs { color: #408080; font-style: italic } /* Comment.Special */\n",
              ".highlight .gd { color: #A00000 } /* Generic.Deleted */\n",
              ".highlight .ge { font-style: italic } /* Generic.Emph */\n",
              ".highlight .gr { color: #FF0000 } /* Generic.Error */\n",
              ".highlight .gh { color: #000080; font-weight: bold } /* Generic.Heading */\n",
              ".highlight .gi { color: #00A000 } /* Generic.Inserted */\n",
              ".highlight .go { color: #888888 } /* Generic.Output */\n",
              ".highlight .gp { color: #000080; font-weight: bold } /* Generic.Prompt */\n",
              ".highlight .gs { font-weight: bold } /* Generic.Strong */\n",
              ".highlight .gu { color: #800080; font-weight: bold } /* Generic.Subheading */\n",
              ".highlight .gt { color: #0044DD } /* Generic.Traceback */\n",
              ".highlight .kc { color: #008000; font-weight: bold } /* Keyword.Constant */\n",
              ".highlight .kd { color: #008000; font-weight: bold } /* Keyword.Declaration */\n",
              ".highlight .kn { color: #008000; font-weight: bold } /* Keyword.Namespace */\n",
              ".highlight .kp { color: #008000 } /* Keyword.Pseudo */\n",
              ".highlight .kr { color: #008000; font-weight: bold } /* Keyword.Reserved */\n",
              ".highlight .kt { color: #B00040 } /* Keyword.Type */\n",
              ".highlight .m { color: #666666 } /* Literal.Number */\n",
              ".highlight .s { color: #BA2121 } /* Literal.String */\n",
              ".highlight .na { color: #7D9029 } /* Name.Attribute */\n",
              ".highlight .nb { color: #008000 } /* Name.Builtin */\n",
              ".highlight .nc { color: #0000FF; font-weight: bold } /* Name.Class */\n",
              ".highlight .no { color: #880000 } /* Name.Constant */\n",
              ".highlight .nd { color: #AA22FF } /* Name.Decorator */\n",
              ".highlight .ni { color: #999999; font-weight: bold } /* Name.Entity */\n",
              ".highlight .ne { color: #D2413A; font-weight: bold } /* Name.Exception */\n",
              ".highlight .nf { color: #0000FF } /* Name.Function */\n",
              ".highlight .nl { color: #A0A000 } /* Name.Label */\n",
              ".highlight .nn { color: #0000FF; font-weight: bold } /* Name.Namespace */\n",
              ".highlight .nt { color: #008000; font-weight: bold } /* Name.Tag */\n",
              ".highlight .nv { color: #19177C } /* Name.Variable */\n",
              ".highlight .ow { color: #AA22FF; font-weight: bold } /* Operator.Word */\n",
              ".highlight .w { color: #bbbbbb } /* Text.Whitespace */\n",
              ".highlight .mb { color: #666666 } /* Literal.Number.Bin */\n",
              ".highlight .mf { color: #666666 } /* Literal.Number.Float */\n",
              ".highlight .mh { color: #666666 } /* Literal.Number.Hex */\n",
              ".highlight .mi { color: #666666 } /* Literal.Number.Integer */\n",
              ".highlight .mo { color: #666666 } /* Literal.Number.Oct */\n",
              ".highlight .sa { color: #BA2121 } /* Literal.String.Affix */\n",
              ".highlight .sb { color: #BA2121 } /* Literal.String.Backtick */\n",
              ".highlight .sc { color: #BA2121 } /* Literal.String.Char */\n",
              ".highlight .dl { color: #BA2121 } /* Literal.String.Delimiter */\n",
              ".highlight .sd { color: #BA2121; font-style: italic } /* Literal.String.Doc */\n",
              ".highlight .s2 { color: #BA2121 } /* Literal.String.Double */\n",
              ".highlight .se { color: #BB6622; font-weight: bold } /* Literal.String.Escape */\n",
              ".highlight .sh { color: #BA2121 } /* Literal.String.Heredoc */\n",
              ".highlight .si { color: #BB6688; font-weight: bold } /* Literal.String.Interpol */\n",
              ".highlight .sx { color: #008000 } /* Literal.String.Other */\n",
              ".highlight .sr { color: #BB6688 } /* Literal.String.Regex */\n",
              ".highlight .s1 { color: #BA2121 } /* Literal.String.Single */\n",
              ".highlight .ss { color: #19177C } /* Literal.String.Symbol */\n",
              ".highlight .bp { color: #008000 } /* Name.Builtin.Pseudo */\n",
              ".highlight .fm { color: #0000FF } /* Name.Function.Magic */\n",
              ".highlight .vc { color: #19177C } /* Name.Variable.Class */\n",
              ".highlight .vg { color: #19177C } /* Name.Variable.Global */\n",
              ".highlight .vi { color: #19177C } /* Name.Variable.Instance */\n",
              ".highlight .vm { color: #19177C } /* Name.Variable.Magic */\n",
              ".highlight .il { color: #666666 } /* Literal.Number.Integer.Long */</style><div class=\"highlight\"><pre><span></span><span class=\"nd\">@tvm</span><span class=\"o\">.</span><span class=\"n\">script</span><span class=\"o\">.</span><span class=\"n\">ir_module</span>\n",
              "<span class=\"k\">class</span> <span class=\"nc\">Module</span><span class=\"p\">:</span>\n",
              "    <span class=\"nd\">@T</span><span class=\"o\">.</span><span class=\"n\">prim_func</span>\n",
              "    <span class=\"k\">def</span> <span class=\"nf\">main</span><span class=\"p\">(</span><span class=\"n\">A</span><span class=\"p\">:</span> <span class=\"n\">T</span><span class=\"o\">.</span><span class=\"n\">Buffer</span><span class=\"p\">[(</span><span class=\"mi\">128</span><span class=\"p\">,</span> <span class=\"mi\">128</span><span class=\"p\">),</span> <span class=\"s2\">&quot;float32&quot;</span><span class=\"p\">],</span> <span class=\"n\">B</span><span class=\"p\">:</span> <span class=\"n\">T</span><span class=\"o\">.</span><span class=\"n\">Buffer</span><span class=\"p\">[(</span><span class=\"mi\">128</span><span class=\"p\">,</span> <span class=\"mi\">128</span><span class=\"p\">),</span> <span class=\"s2\">&quot;float32&quot;</span><span class=\"p\">],</span> <span class=\"n\">C</span><span class=\"p\">:</span> <span class=\"n\">T</span><span class=\"o\">.</span><span class=\"n\">Buffer</span><span class=\"p\">[(</span><span class=\"mi\">128</span><span class=\"p\">,</span> <span class=\"mi\">128</span><span class=\"p\">),</span> <span class=\"s2\">&quot;float32&quot;</span><span class=\"p\">])</span> <span class=\"o\">-&gt;</span> <span class=\"kc\">None</span><span class=\"p\">:</span>\n",
              "        <span class=\"c1\"># function attr dict</span>\n",
              "        <span class=\"n\">T</span><span class=\"o\">.</span><span class=\"n\">func_attr</span><span class=\"p\">({</span><span class=\"s2\">&quot;global_symbol&quot;</span><span class=\"p\">:</span> <span class=\"s2\">&quot;main&quot;</span><span class=\"p\">,</span> <span class=\"s2\">&quot;tir.noalias&quot;</span><span class=\"p\">:</span> <span class=\"kc\">True</span><span class=\"p\">})</span>\n",
              "        <span class=\"c1\"># body</span>\n",
              "        <span class=\"c1\"># with T.block(&quot;root&quot;)</span>\n",
              "        <span class=\"k\">for</span> <span class=\"n\">i</span><span class=\"p\">,</span> <span class=\"n\">j_0</span><span class=\"p\">,</span> <span class=\"n\">k</span><span class=\"p\">,</span> <span class=\"n\">j_1</span> <span class=\"ow\">in</span> <span class=\"n\">T</span><span class=\"o\">.</span><span class=\"n\">grid</span><span class=\"p\">(</span><span class=\"mi\">128</span><span class=\"p\">,</span> <span class=\"mi\">8</span><span class=\"p\">,</span> <span class=\"mi\">128</span><span class=\"p\">,</span> <span class=\"mi\">16</span><span class=\"p\">):</span>\n",
              "            <span class=\"k\">with</span> <span class=\"n\">T</span><span class=\"o\">.</span><span class=\"n\">block</span><span class=\"p\">(</span><span class=\"s2\">&quot;C&quot;</span><span class=\"p\">):</span>\n",
              "                <span class=\"n\">vi</span> <span class=\"o\">=</span> <span class=\"n\">T</span><span class=\"o\">.</span><span class=\"n\">axis</span><span class=\"o\">.</span><span class=\"n\">spatial</span><span class=\"p\">(</span><span class=\"mi\">128</span><span class=\"p\">,</span> <span class=\"n\">i</span><span class=\"p\">)</span>\n",
              "                <span class=\"n\">vj</span> <span class=\"o\">=</span> <span class=\"n\">T</span><span class=\"o\">.</span><span class=\"n\">axis</span><span class=\"o\">.</span><span class=\"n\">spatial</span><span class=\"p\">(</span><span class=\"mi\">128</span><span class=\"p\">,</span> <span class=\"n\">j_0</span> <span class=\"o\">*</span> <span class=\"mi\">16</span> <span class=\"o\">+</span> <span class=\"n\">j_1</span><span class=\"p\">)</span>\n",
              "                <span class=\"n\">vk</span> <span class=\"o\">=</span> <span class=\"n\">T</span><span class=\"o\">.</span><span class=\"n\">axis</span><span class=\"o\">.</span><span class=\"n\">reduce</span><span class=\"p\">(</span><span class=\"mi\">128</span><span class=\"p\">,</span> <span class=\"n\">k</span><span class=\"p\">)</span>\n",
              "                <span class=\"n\">T</span><span class=\"o\">.</span><span class=\"n\">reads</span><span class=\"p\">(</span><span class=\"n\">A</span><span class=\"p\">[</span><span class=\"n\">vi</span><span class=\"p\">,</span> <span class=\"n\">vk</span><span class=\"p\">],</span> <span class=\"n\">B</span><span class=\"p\">[</span><span class=\"n\">vk</span><span class=\"p\">,</span> <span class=\"n\">vj</span><span class=\"p\">])</span>\n",
              "                <span class=\"n\">T</span><span class=\"o\">.</span><span class=\"n\">writes</span><span class=\"p\">(</span><span class=\"n\">C</span><span class=\"p\">[</span><span class=\"n\">vi</span><span class=\"p\">,</span> <span class=\"n\">vj</span><span class=\"p\">])</span>\n",
              "                <span class=\"k\">with</span> <span class=\"n\">T</span><span class=\"o\">.</span><span class=\"n\">init</span><span class=\"p\">():</span>\n",
              "                    <span class=\"n\">C</span><span class=\"p\">[</span><span class=\"n\">vi</span><span class=\"p\">,</span> <span class=\"n\">vj</span><span class=\"p\">]</span> <span class=\"o\">=</span> <span class=\"n\">T</span><span class=\"o\">.</span><span class=\"n\">float32</span><span class=\"p\">(</span><span class=\"mi\">0</span><span class=\"p\">)</span>\n",
              "                <span class=\"n\">C</span><span class=\"p\">[</span><span class=\"n\">vi</span><span class=\"p\">,</span> <span class=\"n\">vj</span><span class=\"p\">]</span> <span class=\"o\">=</span> <span class=\"n\">C</span><span class=\"p\">[</span><span class=\"n\">vi</span><span class=\"p\">,</span> <span class=\"n\">vj</span><span class=\"p\">]</span> <span class=\"o\">+</span> <span class=\"n\">A</span><span class=\"p\">[</span><span class=\"n\">vi</span><span class=\"p\">,</span> <span class=\"n\">vk</span><span class=\"p\">]</span> <span class=\"o\">*</span> <span class=\"n\">B</span><span class=\"p\">[</span><span class=\"n\">vk</span><span class=\"p\">,</span> <span class=\"n\">vj</span><span class=\"p\">]</span>\n",
              "    \n",
              "</pre></div>\n",
              "\n"
            ]
          },
          "metadata": {},
          "execution_count": 25
        }
      ]
    },
    {
      "cell_type": "code",
      "source": [
        "sch.reorder(i, j_0, k, j_1)\n",
        "sch.decompose_reduction(block_C, k)"
      ],
      "metadata": {
        "colab": {
          "base_uri": "https://localhost:8080/"
        },
        "id": "bZ5ujVxwnGxF",
        "outputId": "dbe9eb6b-63c2-4fda-b7b3-100de5c7511c"
      },
      "execution_count": 26,
      "outputs": [
        {
          "output_type": "execute_result",
          "data": {
            "text/plain": [
              "tir.BlockRV(0x34cc7b0)"
            ]
          },
          "metadata": {},
          "execution_count": 26
        }
      ]
    },
    {
      "cell_type": "code",
      "source": [
        "IPython.display.HTML(code2html(sch.mod.script()))"
      ],
      "metadata": {
        "colab": {
          "base_uri": "https://localhost:8080/",
          "height": 451
        },
        "id": "4wvc4FqDnL_T",
        "outputId": "fb58b6d7-0b47-4fbe-e390-9e55807fec52"
      },
      "execution_count": 27,
      "outputs": [
        {
          "output_type": "execute_result",
          "data": {
            "text/plain": [
              "<IPython.core.display.HTML object>"
            ],
            "text/html": [
              "<style>.highlight .hll { background-color: #ffffcc }\n",
              ".highlight  { background: #f8f8f8; }\n",
              ".highlight .c { color: #408080; font-style: italic } /* Comment */\n",
              ".highlight .err { border: 1px solid #FF0000 } /* Error */\n",
              ".highlight .k { color: #008000; font-weight: bold } /* Keyword */\n",
              ".highlight .o { color: #666666 } /* Operator */\n",
              ".highlight .ch { color: #408080; font-style: italic } /* Comment.Hashbang */\n",
              ".highlight .cm { color: #408080; font-style: italic } /* Comment.Multiline */\n",
              ".highlight .cp { color: #BC7A00 } /* Comment.Preproc */\n",
              ".highlight .cpf { color: #408080; font-style: italic } /* Comment.PreprocFile */\n",
              ".highlight .c1 { color: #408080; font-style: italic } /* Comment.Single */\n",
              ".highlight .cs { color: #408080; font-style: italic } /* Comment.Special */\n",
              ".highlight .gd { color: #A00000 } /* Generic.Deleted */\n",
              ".highlight .ge { font-style: italic } /* Generic.Emph */\n",
              ".highlight .gr { color: #FF0000 } /* Generic.Error */\n",
              ".highlight .gh { color: #000080; font-weight: bold } /* Generic.Heading */\n",
              ".highlight .gi { color: #00A000 } /* Generic.Inserted */\n",
              ".highlight .go { color: #888888 } /* Generic.Output */\n",
              ".highlight .gp { color: #000080; font-weight: bold } /* Generic.Prompt */\n",
              ".highlight .gs { font-weight: bold } /* Generic.Strong */\n",
              ".highlight .gu { color: #800080; font-weight: bold } /* Generic.Subheading */\n",
              ".highlight .gt { color: #0044DD } /* Generic.Traceback */\n",
              ".highlight .kc { color: #008000; font-weight: bold } /* Keyword.Constant */\n",
              ".highlight .kd { color: #008000; font-weight: bold } /* Keyword.Declaration */\n",
              ".highlight .kn { color: #008000; font-weight: bold } /* Keyword.Namespace */\n",
              ".highlight .kp { color: #008000 } /* Keyword.Pseudo */\n",
              ".highlight .kr { color: #008000; font-weight: bold } /* Keyword.Reserved */\n",
              ".highlight .kt { color: #B00040 } /* Keyword.Type */\n",
              ".highlight .m { color: #666666 } /* Literal.Number */\n",
              ".highlight .s { color: #BA2121 } /* Literal.String */\n",
              ".highlight .na { color: #7D9029 } /* Name.Attribute */\n",
              ".highlight .nb { color: #008000 } /* Name.Builtin */\n",
              ".highlight .nc { color: #0000FF; font-weight: bold } /* Name.Class */\n",
              ".highlight .no { color: #880000 } /* Name.Constant */\n",
              ".highlight .nd { color: #AA22FF } /* Name.Decorator */\n",
              ".highlight .ni { color: #999999; font-weight: bold } /* Name.Entity */\n",
              ".highlight .ne { color: #D2413A; font-weight: bold } /* Name.Exception */\n",
              ".highlight .nf { color: #0000FF } /* Name.Function */\n",
              ".highlight .nl { color: #A0A000 } /* Name.Label */\n",
              ".highlight .nn { color: #0000FF; font-weight: bold } /* Name.Namespace */\n",
              ".highlight .nt { color: #008000; font-weight: bold } /* Name.Tag */\n",
              ".highlight .nv { color: #19177C } /* Name.Variable */\n",
              ".highlight .ow { color: #AA22FF; font-weight: bold } /* Operator.Word */\n",
              ".highlight .w { color: #bbbbbb } /* Text.Whitespace */\n",
              ".highlight .mb { color: #666666 } /* Literal.Number.Bin */\n",
              ".highlight .mf { color: #666666 } /* Literal.Number.Float */\n",
              ".highlight .mh { color: #666666 } /* Literal.Number.Hex */\n",
              ".highlight .mi { color: #666666 } /* Literal.Number.Integer */\n",
              ".highlight .mo { color: #666666 } /* Literal.Number.Oct */\n",
              ".highlight .sa { color: #BA2121 } /* Literal.String.Affix */\n",
              ".highlight .sb { color: #BA2121 } /* Literal.String.Backtick */\n",
              ".highlight .sc { color: #BA2121 } /* Literal.String.Char */\n",
              ".highlight .dl { color: #BA2121 } /* Literal.String.Delimiter */\n",
              ".highlight .sd { color: #BA2121; font-style: italic } /* Literal.String.Doc */\n",
              ".highlight .s2 { color: #BA2121 } /* Literal.String.Double */\n",
              ".highlight .se { color: #BB6622; font-weight: bold } /* Literal.String.Escape */\n",
              ".highlight .sh { color: #BA2121 } /* Literal.String.Heredoc */\n",
              ".highlight .si { color: #BB6688; font-weight: bold } /* Literal.String.Interpol */\n",
              ".highlight .sx { color: #008000 } /* Literal.String.Other */\n",
              ".highlight .sr { color: #BB6688 } /* Literal.String.Regex */\n",
              ".highlight .s1 { color: #BA2121 } /* Literal.String.Single */\n",
              ".highlight .ss { color: #19177C } /* Literal.String.Symbol */\n",
              ".highlight .bp { color: #008000 } /* Name.Builtin.Pseudo */\n",
              ".highlight .fm { color: #0000FF } /* Name.Function.Magic */\n",
              ".highlight .vc { color: #19177C } /* Name.Variable.Class */\n",
              ".highlight .vg { color: #19177C } /* Name.Variable.Global */\n",
              ".highlight .vi { color: #19177C } /* Name.Variable.Instance */\n",
              ".highlight .vm { color: #19177C } /* Name.Variable.Magic */\n",
              ".highlight .il { color: #666666 } /* Literal.Number.Integer.Long */</style><div class=\"highlight\"><pre><span></span><span class=\"nd\">@tvm</span><span class=\"o\">.</span><span class=\"n\">script</span><span class=\"o\">.</span><span class=\"n\">ir_module</span>\n",
              "<span class=\"k\">class</span> <span class=\"nc\">Module</span><span class=\"p\">:</span>\n",
              "    <span class=\"nd\">@T</span><span class=\"o\">.</span><span class=\"n\">prim_func</span>\n",
              "    <span class=\"k\">def</span> <span class=\"nf\">main</span><span class=\"p\">(</span><span class=\"n\">A</span><span class=\"p\">:</span> <span class=\"n\">T</span><span class=\"o\">.</span><span class=\"n\">Buffer</span><span class=\"p\">[(</span><span class=\"mi\">128</span><span class=\"p\">,</span> <span class=\"mi\">128</span><span class=\"p\">),</span> <span class=\"s2\">&quot;float32&quot;</span><span class=\"p\">],</span> <span class=\"n\">B</span><span class=\"p\">:</span> <span class=\"n\">T</span><span class=\"o\">.</span><span class=\"n\">Buffer</span><span class=\"p\">[(</span><span class=\"mi\">128</span><span class=\"p\">,</span> <span class=\"mi\">128</span><span class=\"p\">),</span> <span class=\"s2\">&quot;float32&quot;</span><span class=\"p\">],</span> <span class=\"n\">C</span><span class=\"p\">:</span> <span class=\"n\">T</span><span class=\"o\">.</span><span class=\"n\">Buffer</span><span class=\"p\">[(</span><span class=\"mi\">128</span><span class=\"p\">,</span> <span class=\"mi\">128</span><span class=\"p\">),</span> <span class=\"s2\">&quot;float32&quot;</span><span class=\"p\">])</span> <span class=\"o\">-&gt;</span> <span class=\"kc\">None</span><span class=\"p\">:</span>\n",
              "        <span class=\"c1\"># function attr dict</span>\n",
              "        <span class=\"n\">T</span><span class=\"o\">.</span><span class=\"n\">func_attr</span><span class=\"p\">({</span><span class=\"s2\">&quot;global_symbol&quot;</span><span class=\"p\">:</span> <span class=\"s2\">&quot;main&quot;</span><span class=\"p\">,</span> <span class=\"s2\">&quot;tir.noalias&quot;</span><span class=\"p\">:</span> <span class=\"kc\">True</span><span class=\"p\">})</span>\n",
              "        <span class=\"c1\"># body</span>\n",
              "        <span class=\"c1\"># with T.block(&quot;root&quot;)</span>\n",
              "        <span class=\"k\">for</span> <span class=\"n\">i</span><span class=\"p\">,</span> <span class=\"n\">j_0</span> <span class=\"ow\">in</span> <span class=\"n\">T</span><span class=\"o\">.</span><span class=\"n\">grid</span><span class=\"p\">(</span><span class=\"mi\">128</span><span class=\"p\">,</span> <span class=\"mi\">8</span><span class=\"p\">):</span>\n",
              "            <span class=\"k\">for</span> <span class=\"n\">j_1_init</span> <span class=\"ow\">in</span> <span class=\"n\">T</span><span class=\"o\">.</span><span class=\"n\">serial</span><span class=\"p\">(</span><span class=\"mi\">16</span><span class=\"p\">):</span>\n",
              "                <span class=\"k\">with</span> <span class=\"n\">T</span><span class=\"o\">.</span><span class=\"n\">block</span><span class=\"p\">(</span><span class=\"s2\">&quot;C_init&quot;</span><span class=\"p\">):</span>\n",
              "                    <span class=\"n\">vi</span> <span class=\"o\">=</span> <span class=\"n\">T</span><span class=\"o\">.</span><span class=\"n\">axis</span><span class=\"o\">.</span><span class=\"n\">spatial</span><span class=\"p\">(</span><span class=\"mi\">128</span><span class=\"p\">,</span> <span class=\"n\">i</span><span class=\"p\">)</span>\n",
              "                    <span class=\"n\">vj</span> <span class=\"o\">=</span> <span class=\"n\">T</span><span class=\"o\">.</span><span class=\"n\">axis</span><span class=\"o\">.</span><span class=\"n\">spatial</span><span class=\"p\">(</span><span class=\"mi\">128</span><span class=\"p\">,</span> <span class=\"n\">j_0</span> <span class=\"o\">*</span> <span class=\"mi\">16</span> <span class=\"o\">+</span> <span class=\"n\">j_1_init</span><span class=\"p\">)</span>\n",
              "                    <span class=\"n\">T</span><span class=\"o\">.</span><span class=\"n\">reads</span><span class=\"p\">()</span>\n",
              "                    <span class=\"n\">T</span><span class=\"o\">.</span><span class=\"n\">writes</span><span class=\"p\">(</span><span class=\"n\">C</span><span class=\"p\">[</span><span class=\"n\">vi</span><span class=\"p\">,</span> <span class=\"n\">vj</span><span class=\"p\">])</span>\n",
              "                    <span class=\"n\">C</span><span class=\"p\">[</span><span class=\"n\">vi</span><span class=\"p\">,</span> <span class=\"n\">vj</span><span class=\"p\">]</span> <span class=\"o\">=</span> <span class=\"n\">T</span><span class=\"o\">.</span><span class=\"n\">float32</span><span class=\"p\">(</span><span class=\"mi\">0</span><span class=\"p\">)</span>\n",
              "            <span class=\"k\">for</span> <span class=\"n\">k</span><span class=\"p\">,</span> <span class=\"n\">j_1</span> <span class=\"ow\">in</span> <span class=\"n\">T</span><span class=\"o\">.</span><span class=\"n\">grid</span><span class=\"p\">(</span><span class=\"mi\">128</span><span class=\"p\">,</span> <span class=\"mi\">16</span><span class=\"p\">):</span>\n",
              "                <span class=\"k\">with</span> <span class=\"n\">T</span><span class=\"o\">.</span><span class=\"n\">block</span><span class=\"p\">(</span><span class=\"s2\">&quot;C_update&quot;</span><span class=\"p\">):</span>\n",
              "                    <span class=\"n\">vi</span> <span class=\"o\">=</span> <span class=\"n\">T</span><span class=\"o\">.</span><span class=\"n\">axis</span><span class=\"o\">.</span><span class=\"n\">spatial</span><span class=\"p\">(</span><span class=\"mi\">128</span><span class=\"p\">,</span> <span class=\"n\">i</span><span class=\"p\">)</span>\n",
              "                    <span class=\"n\">vj</span> <span class=\"o\">=</span> <span class=\"n\">T</span><span class=\"o\">.</span><span class=\"n\">axis</span><span class=\"o\">.</span><span class=\"n\">spatial</span><span class=\"p\">(</span><span class=\"mi\">128</span><span class=\"p\">,</span> <span class=\"n\">j_0</span> <span class=\"o\">*</span> <span class=\"mi\">16</span> <span class=\"o\">+</span> <span class=\"n\">j_1</span><span class=\"p\">)</span>\n",
              "                    <span class=\"n\">vk</span> <span class=\"o\">=</span> <span class=\"n\">T</span><span class=\"o\">.</span><span class=\"n\">axis</span><span class=\"o\">.</span><span class=\"n\">reduce</span><span class=\"p\">(</span><span class=\"mi\">128</span><span class=\"p\">,</span> <span class=\"n\">k</span><span class=\"p\">)</span>\n",
              "                    <span class=\"n\">T</span><span class=\"o\">.</span><span class=\"n\">reads</span><span class=\"p\">(</span><span class=\"n\">C</span><span class=\"p\">[</span><span class=\"n\">vi</span><span class=\"p\">,</span> <span class=\"n\">vj</span><span class=\"p\">],</span> <span class=\"n\">A</span><span class=\"p\">[</span><span class=\"n\">vi</span><span class=\"p\">,</span> <span class=\"n\">vk</span><span class=\"p\">],</span> <span class=\"n\">B</span><span class=\"p\">[</span><span class=\"n\">vk</span><span class=\"p\">,</span> <span class=\"n\">vj</span><span class=\"p\">])</span>\n",
              "                    <span class=\"n\">T</span><span class=\"o\">.</span><span class=\"n\">writes</span><span class=\"p\">(</span><span class=\"n\">C</span><span class=\"p\">[</span><span class=\"n\">vi</span><span class=\"p\">,</span> <span class=\"n\">vj</span><span class=\"p\">])</span>\n",
              "                    <span class=\"n\">C</span><span class=\"p\">[</span><span class=\"n\">vi</span><span class=\"p\">,</span> <span class=\"n\">vj</span><span class=\"p\">]</span> <span class=\"o\">=</span> <span class=\"n\">C</span><span class=\"p\">[</span><span class=\"n\">vi</span><span class=\"p\">,</span> <span class=\"n\">vj</span><span class=\"p\">]</span> <span class=\"o\">+</span> <span class=\"n\">A</span><span class=\"p\">[</span><span class=\"n\">vi</span><span class=\"p\">,</span> <span class=\"n\">vk</span><span class=\"p\">]</span> <span class=\"o\">*</span> <span class=\"n\">B</span><span class=\"p\">[</span><span class=\"n\">vk</span><span class=\"p\">,</span> <span class=\"n\">vj</span><span class=\"p\">]</span>\n",
              "    \n",
              "</pre></div>\n",
              "\n"
            ]
          },
          "metadata": {},
          "execution_count": 27
        }
      ]
    },
    {
      "cell_type": "code",
      "source": [
        "def random_search(mod: tvm.IRModule, num_trials=5):\n",
        "    best_result = None\n",
        "    best_sch = None\n",
        "\n",
        "    for i in range(num_trials):\n",
        "        sch = stochastic_schedule_mm(tvm.tir.Schedule(mod))\n",
        "        lib = tvm.build(sch.mod, target=\"llvm\")\n",
        "        f_timer_after = lib.time_evaluator(\"main\", tvm.cpu())\n",
        "        result = f_timer_after(a_nd, b_nd, c_nd).mean\n",
        "\n",
        "        print(\"=====Attempt %d, time-cost: %.3f ms====\" % (i, result * 1000))\n",
        "        print(sch.trace)\n",
        "\n",
        "        # book keep the best result so far\n",
        "        if best_result is None or result < best_result:\n",
        "            best_result = result\n",
        "            best_sch = sch\n",
        "\n",
        "    return best_sch\n",
        "\n",
        "sch = random_search(MyModule)"
      ],
      "metadata": {
        "colab": {
          "base_uri": "https://localhost:8080/"
        },
        "id": "9DCuksATnTi6",
        "outputId": "88c33cee-c0a8-4bdd-8390-82bfb6fc8ebe"
      },
      "execution_count": 28,
      "outputs": [
        {
          "output_type": "stream",
          "name": "stdout",
          "text": [
            "=====Attempt 0, time-cost: 2.013 ms====\n",
            "b0 = sch.get_block(name=\"C\", func_name=\"main\")\n",
            "l1, l2, l3 = sch.get_loops(block=b0)\n",
            "v4, v5 = sch.sample_perfect_tile(loop=l2, n=2, max_innermost_factor=16, decision=[32, 4])\n",
            "l6, l7 = sch.split(loop=l2, factors=[v4, v5], preserve_unit_iters=True)\n",
            "sch.reorder(l1, l6, l3, l7)\n",
            "b8 = sch.decompose_reduction(block=b0, loop=l3)\n",
            "=====Attempt 1, time-cost: 2.012 ms====\n",
            "b0 = sch.get_block(name=\"C\", func_name=\"main\")\n",
            "l1, l2, l3 = sch.get_loops(block=b0)\n",
            "v4, v5 = sch.sample_perfect_tile(loop=l2, n=2, max_innermost_factor=16, decision=[32, 4])\n",
            "l6, l7 = sch.split(loop=l2, factors=[v4, v5], preserve_unit_iters=True)\n",
            "sch.reorder(l1, l6, l3, l7)\n",
            "b8 = sch.decompose_reduction(block=b0, loop=l3)\n",
            "=====Attempt 2, time-cost: 3.549 ms====\n",
            "b0 = sch.get_block(name=\"C\", func_name=\"main\")\n",
            "l1, l2, l3 = sch.get_loops(block=b0)\n",
            "v4, v5 = sch.sample_perfect_tile(loop=l2, n=2, max_innermost_factor=16, decision=[64, 2])\n",
            "l6, l7 = sch.split(loop=l2, factors=[v4, v5], preserve_unit_iters=True)\n",
            "sch.reorder(l1, l6, l3, l7)\n",
            "b8 = sch.decompose_reduction(block=b0, loop=l3)\n",
            "=====Attempt 3, time-cost: 6.092 ms====\n",
            "b0 = sch.get_block(name=\"C\", func_name=\"main\")\n",
            "l1, l2, l3 = sch.get_loops(block=b0)\n",
            "v4, v5 = sch.sample_perfect_tile(loop=l2, n=2, max_innermost_factor=16, decision=[128, 1])\n",
            "l6, l7 = sch.split(loop=l2, factors=[v4, v5], preserve_unit_iters=True)\n",
            "sch.reorder(l1, l6, l3, l7)\n",
            "b8 = sch.decompose_reduction(block=b0, loop=l3)\n",
            "=====Attempt 4, time-cost: 2.483 ms====\n",
            "b0 = sch.get_block(name=\"C\", func_name=\"main\")\n",
            "l1, l2, l3 = sch.get_loops(block=b0)\n",
            "v4, v5 = sch.sample_perfect_tile(loop=l2, n=2, max_innermost_factor=16, decision=[32, 4])\n",
            "l6, l7 = sch.split(loop=l2, factors=[v4, v5], preserve_unit_iters=True)\n",
            "sch.reorder(l1, l6, l3, l7)\n",
            "b8 = sch.decompose_reduction(block=b0, loop=l3)\n"
          ]
        }
      ]
    },
    {
      "cell_type": "code",
      "source": [
        "print(sch.trace)"
      ],
      "metadata": {
        "colab": {
          "base_uri": "https://localhost:8080/"
        },
        "id": "Fr2X9TRKnpLy",
        "outputId": "a0ce9d64-7c83-49b5-836a-73e72981e007"
      },
      "execution_count": 29,
      "outputs": [
        {
          "output_type": "stream",
          "name": "stdout",
          "text": [
            "b0 = sch.get_block(name=\"C\", func_name=\"main\")\n",
            "l1, l2, l3 = sch.get_loops(block=b0)\n",
            "v4, v5 = sch.sample_perfect_tile(loop=l2, n=2, max_innermost_factor=16, decision=[32, 4])\n",
            "l6, l7 = sch.split(loop=l2, factors=[v4, v5], preserve_unit_iters=True)\n",
            "sch.reorder(l1, l6, l3, l7)\n",
            "b8 = sch.decompose_reduction(block=b0, loop=l3)\n"
          ]
        }
      ]
    },
    {
      "cell_type": "code",
      "source": [
        "from tvm import meta_schedule as ms\n",
        "\n",
        "sch_tuned = ms.tune_tir(\n",
        "    mod=MyModule,\n",
        "    target=\"llvm --num-cores=1\",\n",
        "    config=ms.TuneConfig(\n",
        "        max_trials_global=64,\n",
        "        num_trials_per_iter=64,\n",
        "    ),\n",
        "    space=ms.space_generator.ScheduleFn(stochastic_schedule_mm),\n",
        "    work_dir=\"./tune_tmp\",\n",
        "    task_name=\"main\",\n",
        ")"
      ],
      "metadata": {
        "colab": {
          "base_uri": "https://localhost:8080/"
        },
        "id": "TwedlGronyw7",
        "outputId": "dc02d541-066e-41d8-ca70-8423997f10e6"
      },
      "execution_count": 30,
      "outputs": [
        {
          "output_type": "stream",
          "name": "stdout",
          "text": [
            "2022-10-15 12:32:21.977 INFO Logging directory: ./tune_tmp/logs\n",
            "2022-10-15 12:32:21.983 INFO Logging directory: ./tune_tmp/logs\n",
            "2022-10-15 12:32:21.985 INFO Working directory: ./tune_tmp\n",
            "2022-10-15 12:32:21.988 INFO Creating JSONDatabase. Workload at: ./tune_tmp/database_workload.json. Tuning records at: ./tune_tmp/database_tuning_record.json\n",
            "2022-10-15 12:32:21.989 INFO LocalBuilder: max_workers = 1\n",
            "2022-10-15 12:32:22.728 INFO LocalRunner: max_workers = 1\n",
            "2022-10-15 12:32:23.444 INFO Initializing Task #0: \"main\"\n",
            "2022-10-15 12:32:23.458 INFO \n",
            " ID | Name |    FLOP | Weight | Speed (GFLOPS) | Latency (us) | Weighted Latency (us) | Trials | Terminated \n",
            "------------------------------------------------------------------------------------------------------------\n",
            "  0 | main | 4194304 |      1 |            N/A |          N/A |                   N/A |      0 |            \n",
            "------------------------------------------------------------------------------------------------------------\n",
            "Total trials: 0\n",
            "Total latency (us): 0\n",
            "\n",
            "2022-10-15 12:32:23.460 INFO Scheduler picks Task #0: \"main\"\n",
            "2022-10-15 12:32:29.758 INFO Sending 5 sample(s) to builder\n",
            "2022-10-15 12:32:30.802 INFO Sending 5 sample(s) to runner\n",
            "2022-10-15 12:32:32.644 INFO [Updated] Task #0: \"main\"\n",
            " ID | Name |    FLOP | Weight | Speed (GFLOPS) | Latency (us) | Weighted Latency (us) | Trials | Terminated \n",
            "------------------------------------------------------------------------------------------------------------\n",
            "  0 | main | 4194304 |      1 |         3.0141 |    1391.5528 |             1391.5528 |      5 |            \n",
            "------------------------------------------------------------------------------------------------------------\n",
            "Total trials: 5\n",
            "Total latency (us): 1391.55\n",
            "\n",
            "2022-10-15 12:32:32.646 INFO Scheduler picks Task #0: \"main\"\n",
            "2022-10-15 12:32:38.609 INFO Sending 0 sample(s) to builder\n",
            "2022-10-15 12:32:38.614 INFO Sending 0 sample(s) to runner\n",
            "2022-10-15 12:32:38.618 INFO [Updated] Task #0: \"main\"\n",
            " ID | Name |    FLOP | Weight | Speed (GFLOPS) | Latency (us) | Weighted Latency (us) | Trials | Terminated \n",
            "------------------------------------------------------------------------------------------------------------\n",
            "  0 | main | 4194304 |      1 |         3.0141 |    1391.5528 |             1391.5528 |      5 |            \n",
            "------------------------------------------------------------------------------------------------------------\n",
            "Total trials: 5\n",
            "Total latency (us): 1391.55\n",
            "\n",
            "2022-10-15 12:32:38.621 INFO Scheduler picks Task #0: \"main\"\n",
            "2022-10-15 12:32:44.672 INFO Sending 0 sample(s) to builder\n",
            "2022-10-15 12:32:44.675 INFO Sending 0 sample(s) to runner\n",
            "2022-10-15 12:32:44.680 INFO [Updated] Task #0: \"main\"\n",
            " ID | Name |    FLOP | Weight | Speed (GFLOPS) | Latency (us) | Weighted Latency (us) | Trials | Terminated \n",
            "------------------------------------------------------------------------------------------------------------\n",
            "  0 | main | 4194304 |      1 |         3.0141 |    1391.5528 |             1391.5528 |      5 |            \n",
            "------------------------------------------------------------------------------------------------------------\n",
            "Total trials: 5\n",
            "Total latency (us): 1391.55\n",
            "\n",
            "2022-10-15 12:32:44.687 INFO Scheduler picks Task #0: \"main\"\n",
            "2022-10-15 12:32:50.607 INFO Sending 0 sample(s) to builder\n",
            "2022-10-15 12:32:50.609 INFO Sending 0 sample(s) to runner\n",
            "2022-10-15 12:32:50.615 INFO [Updated] Task #0: \"main\"\n",
            " ID | Name |    FLOP | Weight | Speed (GFLOPS) | Latency (us) | Weighted Latency (us) | Trials | Terminated \n",
            "------------------------------------------------------------------------------------------------------------\n",
            "  0 | main | 4194304 |      1 |         3.0141 |    1391.5528 |             1391.5528 |      5 |            \n",
            "------------------------------------------------------------------------------------------------------------\n",
            "Total trials: 5\n",
            "Total latency (us): 1391.55\n",
            "\n",
            "2022-10-15 12:32:50.618 INFO Scheduler picks Task #0: \"main\"\n",
            "2022-10-15 12:32:56.584 INFO Sending 0 sample(s) to builder\n",
            "2022-10-15 12:32:56.586 INFO Sending 0 sample(s) to runner\n",
            "2022-10-15 12:32:56.592 INFO [Updated] Task #0: \"main\"\n",
            " ID | Name |    FLOP | Weight | Speed (GFLOPS) | Latency (us) | Weighted Latency (us) | Trials | Terminated \n",
            "------------------------------------------------------------------------------------------------------------\n",
            "  0 | main | 4194304 |      1 |         3.0141 |    1391.5528 |             1391.5528 |      5 |            \n",
            "------------------------------------------------------------------------------------------------------------\n",
            "Total trials: 5\n",
            "Total latency (us): 1391.55\n",
            "\n",
            "2022-10-15 12:32:56.595 INFO Scheduler picks Task #0: \"main\"\n",
            "2022-10-15 12:33:03.557 INFO Task #0 has finished. Remaining task(s): 0\n",
            "2022-10-15 12:33:03.588 INFO Saved XGBModel to ./tune_tmp/cost_model.xgb\n"
          ]
        }
      ]
    },
    {
      "cell_type": "code",
      "source": [
        "print(sch_tuned.trace)"
      ],
      "metadata": {
        "colab": {
          "base_uri": "https://localhost:8080/"
        },
        "id": "kP2guJqZoYr5",
        "outputId": "430c7669-f58b-418b-ab62-ff617e2d74a0"
      },
      "execution_count": 31,
      "outputs": [
        {
          "output_type": "stream",
          "name": "stdout",
          "text": [
            "b0 = sch.get_block(name=\"C\", func_name=\"main\")\n",
            "l1, l2, l3 = sch.get_loops(block=b0)\n",
            "v4, v5 = sch.sample_perfect_tile(loop=l2, n=2, max_innermost_factor=16, decision=[8, 16])\n",
            "l6, l7 = sch.split(loop=l2, factors=[v4, v5], preserve_unit_iters=True)\n",
            "sch.reorder(l1, l6, l3, l7)\n",
            "b8 = sch.decompose_reduction(block=b0, loop=l3)\n",
            "sch.enter_postproc()\n"
          ]
        }
      ]
    },
    {
      "cell_type": "code",
      "source": [
        "IPython.display.HTML(code2html(sch_tuned.mod.script()))"
      ],
      "metadata": {
        "colab": {
          "base_uri": "https://localhost:8080/",
          "height": 451
        },
        "id": "LY_ex1hoouvN",
        "outputId": "048f205e-8d0b-4493-dfad-18bc29e48a1f"
      },
      "execution_count": 32,
      "outputs": [
        {
          "output_type": "execute_result",
          "data": {
            "text/plain": [
              "<IPython.core.display.HTML object>"
            ],
            "text/html": [
              "<style>.highlight .hll { background-color: #ffffcc }\n",
              ".highlight  { background: #f8f8f8; }\n",
              ".highlight .c { color: #408080; font-style: italic } /* Comment */\n",
              ".highlight .err { border: 1px solid #FF0000 } /* Error */\n",
              ".highlight .k { color: #008000; font-weight: bold } /* Keyword */\n",
              ".highlight .o { color: #666666 } /* Operator */\n",
              ".highlight .ch { color: #408080; font-style: italic } /* Comment.Hashbang */\n",
              ".highlight .cm { color: #408080; font-style: italic } /* Comment.Multiline */\n",
              ".highlight .cp { color: #BC7A00 } /* Comment.Preproc */\n",
              ".highlight .cpf { color: #408080; font-style: italic } /* Comment.PreprocFile */\n",
              ".highlight .c1 { color: #408080; font-style: italic } /* Comment.Single */\n",
              ".highlight .cs { color: #408080; font-style: italic } /* Comment.Special */\n",
              ".highlight .gd { color: #A00000 } /* Generic.Deleted */\n",
              ".highlight .ge { font-style: italic } /* Generic.Emph */\n",
              ".highlight .gr { color: #FF0000 } /* Generic.Error */\n",
              ".highlight .gh { color: #000080; font-weight: bold } /* Generic.Heading */\n",
              ".highlight .gi { color: #00A000 } /* Generic.Inserted */\n",
              ".highlight .go { color: #888888 } /* Generic.Output */\n",
              ".highlight .gp { color: #000080; font-weight: bold } /* Generic.Prompt */\n",
              ".highlight .gs { font-weight: bold } /* Generic.Strong */\n",
              ".highlight .gu { color: #800080; font-weight: bold } /* Generic.Subheading */\n",
              ".highlight .gt { color: #0044DD } /* Generic.Traceback */\n",
              ".highlight .kc { color: #008000; font-weight: bold } /* Keyword.Constant */\n",
              ".highlight .kd { color: #008000; font-weight: bold } /* Keyword.Declaration */\n",
              ".highlight .kn { color: #008000; font-weight: bold } /* Keyword.Namespace */\n",
              ".highlight .kp { color: #008000 } /* Keyword.Pseudo */\n",
              ".highlight .kr { color: #008000; font-weight: bold } /* Keyword.Reserved */\n",
              ".highlight .kt { color: #B00040 } /* Keyword.Type */\n",
              ".highlight .m { color: #666666 } /* Literal.Number */\n",
              ".highlight .s { color: #BA2121 } /* Literal.String */\n",
              ".highlight .na { color: #7D9029 } /* Name.Attribute */\n",
              ".highlight .nb { color: #008000 } /* Name.Builtin */\n",
              ".highlight .nc { color: #0000FF; font-weight: bold } /* Name.Class */\n",
              ".highlight .no { color: #880000 } /* Name.Constant */\n",
              ".highlight .nd { color: #AA22FF } /* Name.Decorator */\n",
              ".highlight .ni { color: #999999; font-weight: bold } /* Name.Entity */\n",
              ".highlight .ne { color: #D2413A; font-weight: bold } /* Name.Exception */\n",
              ".highlight .nf { color: #0000FF } /* Name.Function */\n",
              ".highlight .nl { color: #A0A000 } /* Name.Label */\n",
              ".highlight .nn { color: #0000FF; font-weight: bold } /* Name.Namespace */\n",
              ".highlight .nt { color: #008000; font-weight: bold } /* Name.Tag */\n",
              ".highlight .nv { color: #19177C } /* Name.Variable */\n",
              ".highlight .ow { color: #AA22FF; font-weight: bold } /* Operator.Word */\n",
              ".highlight .w { color: #bbbbbb } /* Text.Whitespace */\n",
              ".highlight .mb { color: #666666 } /* Literal.Number.Bin */\n",
              ".highlight .mf { color: #666666 } /* Literal.Number.Float */\n",
              ".highlight .mh { color: #666666 } /* Literal.Number.Hex */\n",
              ".highlight .mi { color: #666666 } /* Literal.Number.Integer */\n",
              ".highlight .mo { color: #666666 } /* Literal.Number.Oct */\n",
              ".highlight .sa { color: #BA2121 } /* Literal.String.Affix */\n",
              ".highlight .sb { color: #BA2121 } /* Literal.String.Backtick */\n",
              ".highlight .sc { color: #BA2121 } /* Literal.String.Char */\n",
              ".highlight .dl { color: #BA2121 } /* Literal.String.Delimiter */\n",
              ".highlight .sd { color: #BA2121; font-style: italic } /* Literal.String.Doc */\n",
              ".highlight .s2 { color: #BA2121 } /* Literal.String.Double */\n",
              ".highlight .se { color: #BB6622; font-weight: bold } /* Literal.String.Escape */\n",
              ".highlight .sh { color: #BA2121 } /* Literal.String.Heredoc */\n",
              ".highlight .si { color: #BB6688; font-weight: bold } /* Literal.String.Interpol */\n",
              ".highlight .sx { color: #008000 } /* Literal.String.Other */\n",
              ".highlight .sr { color: #BB6688 } /* Literal.String.Regex */\n",
              ".highlight .s1 { color: #BA2121 } /* Literal.String.Single */\n",
              ".highlight .ss { color: #19177C } /* Literal.String.Symbol */\n",
              ".highlight .bp { color: #008000 } /* Name.Builtin.Pseudo */\n",
              ".highlight .fm { color: #0000FF } /* Name.Function.Magic */\n",
              ".highlight .vc { color: #19177C } /* Name.Variable.Class */\n",
              ".highlight .vg { color: #19177C } /* Name.Variable.Global */\n",
              ".highlight .vi { color: #19177C } /* Name.Variable.Instance */\n",
              ".highlight .vm { color: #19177C } /* Name.Variable.Magic */\n",
              ".highlight .il { color: #666666 } /* Literal.Number.Integer.Long */</style><div class=\"highlight\"><pre><span></span><span class=\"nd\">@tvm</span><span class=\"o\">.</span><span class=\"n\">script</span><span class=\"o\">.</span><span class=\"n\">ir_module</span>\n",
              "<span class=\"k\">class</span> <span class=\"nc\">Module</span><span class=\"p\">:</span>\n",
              "    <span class=\"nd\">@T</span><span class=\"o\">.</span><span class=\"n\">prim_func</span>\n",
              "    <span class=\"k\">def</span> <span class=\"nf\">main</span><span class=\"p\">(</span><span class=\"n\">A</span><span class=\"p\">:</span> <span class=\"n\">T</span><span class=\"o\">.</span><span class=\"n\">Buffer</span><span class=\"p\">[(</span><span class=\"mi\">128</span><span class=\"p\">,</span> <span class=\"mi\">128</span><span class=\"p\">),</span> <span class=\"s2\">&quot;float32&quot;</span><span class=\"p\">],</span> <span class=\"n\">B</span><span class=\"p\">:</span> <span class=\"n\">T</span><span class=\"o\">.</span><span class=\"n\">Buffer</span><span class=\"p\">[(</span><span class=\"mi\">128</span><span class=\"p\">,</span> <span class=\"mi\">128</span><span class=\"p\">),</span> <span class=\"s2\">&quot;float32&quot;</span><span class=\"p\">],</span> <span class=\"n\">C</span><span class=\"p\">:</span> <span class=\"n\">T</span><span class=\"o\">.</span><span class=\"n\">Buffer</span><span class=\"p\">[(</span><span class=\"mi\">128</span><span class=\"p\">,</span> <span class=\"mi\">128</span><span class=\"p\">),</span> <span class=\"s2\">&quot;float32&quot;</span><span class=\"p\">])</span> <span class=\"o\">-&gt;</span> <span class=\"kc\">None</span><span class=\"p\">:</span>\n",
              "        <span class=\"c1\"># function attr dict</span>\n",
              "        <span class=\"n\">T</span><span class=\"o\">.</span><span class=\"n\">func_attr</span><span class=\"p\">({</span><span class=\"s2\">&quot;global_symbol&quot;</span><span class=\"p\">:</span> <span class=\"s2\">&quot;main&quot;</span><span class=\"p\">,</span> <span class=\"s2\">&quot;tir.noalias&quot;</span><span class=\"p\">:</span> <span class=\"kc\">True</span><span class=\"p\">})</span>\n",
              "        <span class=\"c1\"># body</span>\n",
              "        <span class=\"c1\"># with T.block(&quot;root&quot;)</span>\n",
              "        <span class=\"k\">for</span> <span class=\"n\">i</span><span class=\"p\">,</span> <span class=\"n\">j_0</span> <span class=\"ow\">in</span> <span class=\"n\">T</span><span class=\"o\">.</span><span class=\"n\">grid</span><span class=\"p\">(</span><span class=\"mi\">128</span><span class=\"p\">,</span> <span class=\"mi\">8</span><span class=\"p\">):</span>\n",
              "            <span class=\"k\">for</span> <span class=\"n\">j_1_init</span> <span class=\"ow\">in</span> <span class=\"n\">T</span><span class=\"o\">.</span><span class=\"n\">serial</span><span class=\"p\">(</span><span class=\"mi\">16</span><span class=\"p\">):</span>\n",
              "                <span class=\"k\">with</span> <span class=\"n\">T</span><span class=\"o\">.</span><span class=\"n\">block</span><span class=\"p\">(</span><span class=\"s2\">&quot;C_init&quot;</span><span class=\"p\">):</span>\n",
              "                    <span class=\"n\">vi</span> <span class=\"o\">=</span> <span class=\"n\">T</span><span class=\"o\">.</span><span class=\"n\">axis</span><span class=\"o\">.</span><span class=\"n\">spatial</span><span class=\"p\">(</span><span class=\"mi\">128</span><span class=\"p\">,</span> <span class=\"n\">i</span><span class=\"p\">)</span>\n",
              "                    <span class=\"n\">vj</span> <span class=\"o\">=</span> <span class=\"n\">T</span><span class=\"o\">.</span><span class=\"n\">axis</span><span class=\"o\">.</span><span class=\"n\">spatial</span><span class=\"p\">(</span><span class=\"mi\">128</span><span class=\"p\">,</span> <span class=\"n\">j_0</span> <span class=\"o\">*</span> <span class=\"mi\">16</span> <span class=\"o\">+</span> <span class=\"n\">j_1_init</span><span class=\"p\">)</span>\n",
              "                    <span class=\"n\">T</span><span class=\"o\">.</span><span class=\"n\">reads</span><span class=\"p\">()</span>\n",
              "                    <span class=\"n\">T</span><span class=\"o\">.</span><span class=\"n\">writes</span><span class=\"p\">(</span><span class=\"n\">C</span><span class=\"p\">[</span><span class=\"n\">vi</span><span class=\"p\">,</span> <span class=\"n\">vj</span><span class=\"p\">])</span>\n",
              "                    <span class=\"n\">C</span><span class=\"p\">[</span><span class=\"n\">vi</span><span class=\"p\">,</span> <span class=\"n\">vj</span><span class=\"p\">]</span> <span class=\"o\">=</span> <span class=\"n\">T</span><span class=\"o\">.</span><span class=\"n\">float32</span><span class=\"p\">(</span><span class=\"mi\">0</span><span class=\"p\">)</span>\n",
              "            <span class=\"k\">for</span> <span class=\"n\">k</span><span class=\"p\">,</span> <span class=\"n\">j_1</span> <span class=\"ow\">in</span> <span class=\"n\">T</span><span class=\"o\">.</span><span class=\"n\">grid</span><span class=\"p\">(</span><span class=\"mi\">128</span><span class=\"p\">,</span> <span class=\"mi\">16</span><span class=\"p\">):</span>\n",
              "                <span class=\"k\">with</span> <span class=\"n\">T</span><span class=\"o\">.</span><span class=\"n\">block</span><span class=\"p\">(</span><span class=\"s2\">&quot;C_update&quot;</span><span class=\"p\">):</span>\n",
              "                    <span class=\"n\">vi</span> <span class=\"o\">=</span> <span class=\"n\">T</span><span class=\"o\">.</span><span class=\"n\">axis</span><span class=\"o\">.</span><span class=\"n\">spatial</span><span class=\"p\">(</span><span class=\"mi\">128</span><span class=\"p\">,</span> <span class=\"n\">i</span><span class=\"p\">)</span>\n",
              "                    <span class=\"n\">vj</span> <span class=\"o\">=</span> <span class=\"n\">T</span><span class=\"o\">.</span><span class=\"n\">axis</span><span class=\"o\">.</span><span class=\"n\">spatial</span><span class=\"p\">(</span><span class=\"mi\">128</span><span class=\"p\">,</span> <span class=\"n\">j_0</span> <span class=\"o\">*</span> <span class=\"mi\">16</span> <span class=\"o\">+</span> <span class=\"n\">j_1</span><span class=\"p\">)</span>\n",
              "                    <span class=\"n\">vk</span> <span class=\"o\">=</span> <span class=\"n\">T</span><span class=\"o\">.</span><span class=\"n\">axis</span><span class=\"o\">.</span><span class=\"n\">reduce</span><span class=\"p\">(</span><span class=\"mi\">128</span><span class=\"p\">,</span> <span class=\"n\">k</span><span class=\"p\">)</span>\n",
              "                    <span class=\"n\">T</span><span class=\"o\">.</span><span class=\"n\">reads</span><span class=\"p\">(</span><span class=\"n\">C</span><span class=\"p\">[</span><span class=\"n\">vi</span><span class=\"p\">,</span> <span class=\"n\">vj</span><span class=\"p\">],</span> <span class=\"n\">A</span><span class=\"p\">[</span><span class=\"n\">vi</span><span class=\"p\">,</span> <span class=\"n\">vk</span><span class=\"p\">],</span> <span class=\"n\">B</span><span class=\"p\">[</span><span class=\"n\">vk</span><span class=\"p\">,</span> <span class=\"n\">vj</span><span class=\"p\">])</span>\n",
              "                    <span class=\"n\">T</span><span class=\"o\">.</span><span class=\"n\">writes</span><span class=\"p\">(</span><span class=\"n\">C</span><span class=\"p\">[</span><span class=\"n\">vi</span><span class=\"p\">,</span> <span class=\"n\">vj</span><span class=\"p\">])</span>\n",
              "                    <span class=\"n\">C</span><span class=\"p\">[</span><span class=\"n\">vi</span><span class=\"p\">,</span> <span class=\"n\">vj</span><span class=\"p\">]</span> <span class=\"o\">=</span> <span class=\"n\">C</span><span class=\"p\">[</span><span class=\"n\">vi</span><span class=\"p\">,</span> <span class=\"n\">vj</span><span class=\"p\">]</span> <span class=\"o\">+</span> <span class=\"n\">A</span><span class=\"p\">[</span><span class=\"n\">vi</span><span class=\"p\">,</span> <span class=\"n\">vk</span><span class=\"p\">]</span> <span class=\"o\">*</span> <span class=\"n\">B</span><span class=\"p\">[</span><span class=\"n\">vk</span><span class=\"p\">,</span> <span class=\"n\">vj</span><span class=\"p\">]</span>\n",
              "    \n",
              "</pre></div>\n",
              "\n"
            ]
          },
          "metadata": {},
          "execution_count": 32
        }
      ]
    },
    {
      "cell_type": "code",
      "source": [
        "lib = tvm.build(sch_tuned.mod, target=\"llvm\")\n",
        "f_timer_after = lib.time_evaluator(\"main\", tvm.cpu())\n",
        "print(\"Time cost of MyModule after tuning: %.3f ms\" % (f_timer_after(a_nd, b_nd, c_nd).mean * 1000))"
      ],
      "metadata": {
        "colab": {
          "base_uri": "https://localhost:8080/"
        },
        "id": "SwDlqyHtoxU-",
        "outputId": "ccaba344-6016-4e88-bd21-cb386c4b64fc"
      },
      "execution_count": 33,
      "outputs": [
        {
          "output_type": "stream",
          "name": "stdout",
          "text": [
            "Time cost of MyModule after tuning: 1.388 ms\n"
          ]
        }
      ]
    },
    {
      "cell_type": "code",
      "source": [
        "sch_tuned = ms.tune_tir(\n",
        "    mod=MyModule,\n",
        "    target=\"llvm --num-cores=1\",\n",
        "    config=ms.TuneConfig(\n",
        "        max_trials_global=64,\n",
        "        num_trials_per_iter=64,\n",
        "    ),\n",
        "    # space=ms.space_generator.ScheduleFn(stochastic_schedule_mm),\n",
        "    work_dir=\"./tune_tmp\",\n",
        "    task_name=\"main\",\n",
        ")"
      ],
      "metadata": {
        "colab": {
          "base_uri": "https://localhost:8080/"
        },
        "id": "8m3Nx6Fko1Eu",
        "outputId": "98c4cacc-a17b-4021-8d1c-0ac13e1a2363"
      },
      "execution_count": 34,
      "outputs": [
        {
          "output_type": "stream",
          "name": "stdout",
          "text": [
            "2022-10-15 12:35:19.449 INFO Logging directory: ./tune_tmp/logs\n",
            "2022-10-15 12:35:19.455 INFO Logging directory: ./tune_tmp/logs\n",
            "2022-10-15 12:35:19.458 INFO Working directory: ./tune_tmp\n",
            "2022-10-15 12:35:19.459 INFO Creating JSONDatabase. Workload at: ./tune_tmp/database_workload.json. Tuning records at: ./tune_tmp/database_tuning_record.json\n",
            "2022-10-15 12:35:19.471 INFO LocalBuilder: max_workers = 1\n",
            "2022-10-15 12:35:20.431 INFO LocalRunner: max_workers = 1\n",
            "2022-10-15 12:35:21.151 INFO Initializing Task #0: \"main\"\n",
            "2022-10-15 12:35:21.167 INFO \n",
            " ID | Name |    FLOP | Weight | Speed (GFLOPS) | Latency (us) | Weighted Latency (us) | Trials | Terminated \n",
            "------------------------------------------------------------------------------------------------------------\n",
            "  0 | main | 4194304 |      1 |            N/A |          N/A |                   N/A |      0 |            \n",
            "------------------------------------------------------------------------------------------------------------\n",
            "Total trials: 0\n",
            "Total latency (us): 0\n",
            "\n",
            "2022-10-15 12:35:21.170 INFO Scheduler picks Task #0: \"main\"\n",
            "2022-10-15 12:35:49.549 INFO Sending 64 sample(s) to builder\n",
            "2022-10-15 12:36:51.557 INFO Sending 64 sample(s) to runner\n",
            "2022-10-15 12:37:09.470 INFO [Updated] Task #0: \"main\"\n",
            " ID | Name |    FLOP | Weight | Speed (GFLOPS) | Latency (us) | Weighted Latency (us) | Trials | Terminated \n",
            "------------------------------------------------------------------------------------------------------------\n",
            "  0 | main | 4194304 |      1 |        20.3006 |     206.6097 |              206.6097 |     64 |            \n",
            "------------------------------------------------------------------------------------------------------------\n",
            "Total trials: 64\n",
            "Total latency (us): 206.61\n",
            "\n",
            "2022-10-15 12:37:09.471 INFO Task #0 has finished. Remaining task(s): 0\n",
            "2022-10-15 12:37:09.519 INFO Saved XGBModel to ./tune_tmp/cost_model.xgb\n"
          ]
        }
      ]
    },
    {
      "cell_type": "code",
      "source": [
        "lib = tvm.build(sch_tuned.mod, target=\"llvm\")\n",
        "f_timer_after = lib.time_evaluator(\"main\", tvm.cpu())\n",
        "print(\"Time cost of MyModule after tuning: %.3f ms\" % (f_timer_after(a_nd, b_nd, c_nd).mean * 1000))"
      ],
      "metadata": {
        "colab": {
          "base_uri": "https://localhost:8080/"
        },
        "id": "v-kBwZ0YpEFy",
        "outputId": "9d98ec43-ef2e-4e8a-f37f-259e1630b613"
      },
      "execution_count": 35,
      "outputs": [
        {
          "output_type": "stream",
          "name": "stdout",
          "text": [
            "Time cost of MyModule after tuning: 0.246 ms\n"
          ]
        }
      ]
    },
    {
      "cell_type": "code",
      "source": [
        "sch_tuned.trace"
      ],
      "metadata": {
        "colab": {
          "base_uri": "https://localhost:8080/"
        },
        "id": "5wzetEzmpjsv",
        "outputId": "bd48eecd-e662-4ec8-b90d-7e2f7ef4f861"
      },
      "execution_count": 36,
      "outputs": [
        {
          "output_type": "execute_result",
          "data": {
            "text/plain": [
              "b0 = sch.get_block(name=\"C\", func_name=\"main\")\n",
              "b1 = sch.get_block(name=\"root\", func_name=\"main\")\n",
              "sch.annotate(block_or_loop=b0, ann_key=\"meta_schedule.tiling_structure\", ann_val=\"SSRSRS\")\n",
              "l2, l3, l4 = sch.get_loops(block=b0)\n",
              "v5, v6, v7, v8 = sch.sample_perfect_tile(loop=l2, n=4, max_innermost_factor=64, decision=[1, 2, 64, 1])\n",
              "l9, l10, l11, l12 = sch.split(loop=l2, factors=[v5, v6, v7, v8], preserve_unit_iters=True)\n",
              "v13, v14, v15, v16 = sch.sample_perfect_tile(loop=l3, n=4, max_innermost_factor=64, decision=[1, 4, 1, 32])\n",
              "l17, l18, l19, l20 = sch.split(loop=l3, factors=[v13, v14, v15, v16], preserve_unit_iters=True)\n",
              "v21, v22 = sch.sample_perfect_tile(loop=l4, n=2, max_innermost_factor=64, decision=[16, 8])\n",
              "l23, l24 = sch.split(loop=l4, factors=[v21, v22], preserve_unit_iters=True)\n",
              "sch.reorder(l9, l17, l10, l18, l23, l11, l19, l24, l12, l20)\n",
              "sch.annotate(block_or_loop=b1, ann_key=\"meta_schedule.parallel\", ann_val=16)\n",
              "sch.annotate(block_or_loop=b1, ann_key=\"meta_schedule.vectorize\", ann_val=64)\n",
              "v25 = sch.sample_categorical(candidates=[0, 16, 64, 512], probs=[0.25, 0.25, 0.25, 0.25], decision=1)\n",
              "sch.annotate(block_or_loop=b1, ann_key=\"meta_schedule.unroll_explicit\", ann_val=v25)\n",
              "sch.enter_postproc()\n",
              "b26 = sch.get_block(name=\"root\", func_name=\"main\")\n",
              "sch.unannotate(block_or_loop=b26, ann_key=\"meta_schedule.parallel\")\n",
              "sch.unannotate(block_or_loop=b26, ann_key=\"meta_schedule.vectorize\")\n",
              "sch.unannotate(block_or_loop=b26, ann_key=\"meta_schedule.unroll_explicit\")\n",
              "b27, = sch.get_child_blocks(b26)\n",
              "l28, l29, l30, l31, l32, l33, l34, l35, l36, l37 = sch.get_loops(block=b27)\n",
              "l38 = sch.fuse(l28, l29, l30, l31, preserve_unit_iters=True)\n",
              "sch.parallel(loop=l38)\n",
              "l39 = sch.fuse(l37, preserve_unit_iters=True)\n",
              "sch.vectorize(loop=l39)\n",
              "sch.annotate(block_or_loop=l38, ann_key=\"pragma_auto_unroll_max_step\", ann_val=16)\n",
              "sch.annotate(block_or_loop=l38, ann_key=\"pragma_unroll_explicit\", ann_val=1)\n",
              "b40 = sch.get_block(name=\"C\", func_name=\"main\")\n",
              "l41, l42, l43, l44, l45, l46, l47 = sch.get_loops(block=b40)\n",
              "b48 = sch.decompose_reduction(block=b40, loop=l42)"
            ]
          },
          "metadata": {},
          "execution_count": 36
        }
      ]
    },
    {
      "cell_type": "code",
      "source": [
        "IPython.display.HTML(code2html(sch_tuned.mod.script()))"
      ],
      "metadata": {
        "colab": {
          "base_uri": "https://localhost:8080/",
          "height": 520
        },
        "id": "Zi1BBlmCpl5H",
        "outputId": "f276cdcd-ce06-4418-cad9-50d423c4a2d8"
      },
      "execution_count": 37,
      "outputs": [
        {
          "output_type": "execute_result",
          "data": {
            "text/plain": [
              "<IPython.core.display.HTML object>"
            ],
            "text/html": [
              "<style>.highlight .hll { background-color: #ffffcc }\n",
              ".highlight  { background: #f8f8f8; }\n",
              ".highlight .c { color: #408080; font-style: italic } /* Comment */\n",
              ".highlight .err { border: 1px solid #FF0000 } /* Error */\n",
              ".highlight .k { color: #008000; font-weight: bold } /* Keyword */\n",
              ".highlight .o { color: #666666 } /* Operator */\n",
              ".highlight .ch { color: #408080; font-style: italic } /* Comment.Hashbang */\n",
              ".highlight .cm { color: #408080; font-style: italic } /* Comment.Multiline */\n",
              ".highlight .cp { color: #BC7A00 } /* Comment.Preproc */\n",
              ".highlight .cpf { color: #408080; font-style: italic } /* Comment.PreprocFile */\n",
              ".highlight .c1 { color: #408080; font-style: italic } /* Comment.Single */\n",
              ".highlight .cs { color: #408080; font-style: italic } /* Comment.Special */\n",
              ".highlight .gd { color: #A00000 } /* Generic.Deleted */\n",
              ".highlight .ge { font-style: italic } /* Generic.Emph */\n",
              ".highlight .gr { color: #FF0000 } /* Generic.Error */\n",
              ".highlight .gh { color: #000080; font-weight: bold } /* Generic.Heading */\n",
              ".highlight .gi { color: #00A000 } /* Generic.Inserted */\n",
              ".highlight .go { color: #888888 } /* Generic.Output */\n",
              ".highlight .gp { color: #000080; font-weight: bold } /* Generic.Prompt */\n",
              ".highlight .gs { font-weight: bold } /* Generic.Strong */\n",
              ".highlight .gu { color: #800080; font-weight: bold } /* Generic.Subheading */\n",
              ".highlight .gt { color: #0044DD } /* Generic.Traceback */\n",
              ".highlight .kc { color: #008000; font-weight: bold } /* Keyword.Constant */\n",
              ".highlight .kd { color: #008000; font-weight: bold } /* Keyword.Declaration */\n",
              ".highlight .kn { color: #008000; font-weight: bold } /* Keyword.Namespace */\n",
              ".highlight .kp { color: #008000 } /* Keyword.Pseudo */\n",
              ".highlight .kr { color: #008000; font-weight: bold } /* Keyword.Reserved */\n",
              ".highlight .kt { color: #B00040 } /* Keyword.Type */\n",
              ".highlight .m { color: #666666 } /* Literal.Number */\n",
              ".highlight .s { color: #BA2121 } /* Literal.String */\n",
              ".highlight .na { color: #7D9029 } /* Name.Attribute */\n",
              ".highlight .nb { color: #008000 } /* Name.Builtin */\n",
              ".highlight .nc { color: #0000FF; font-weight: bold } /* Name.Class */\n",
              ".highlight .no { color: #880000 } /* Name.Constant */\n",
              ".highlight .nd { color: #AA22FF } /* Name.Decorator */\n",
              ".highlight .ni { color: #999999; font-weight: bold } /* Name.Entity */\n",
              ".highlight .ne { color: #D2413A; font-weight: bold } /* Name.Exception */\n",
              ".highlight .nf { color: #0000FF } /* Name.Function */\n",
              ".highlight .nl { color: #A0A000 } /* Name.Label */\n",
              ".highlight .nn { color: #0000FF; font-weight: bold } /* Name.Namespace */\n",
              ".highlight .nt { color: #008000; font-weight: bold } /* Name.Tag */\n",
              ".highlight .nv { color: #19177C } /* Name.Variable */\n",
              ".highlight .ow { color: #AA22FF; font-weight: bold } /* Operator.Word */\n",
              ".highlight .w { color: #bbbbbb } /* Text.Whitespace */\n",
              ".highlight .mb { color: #666666 } /* Literal.Number.Bin */\n",
              ".highlight .mf { color: #666666 } /* Literal.Number.Float */\n",
              ".highlight .mh { color: #666666 } /* Literal.Number.Hex */\n",
              ".highlight .mi { color: #666666 } /* Literal.Number.Integer */\n",
              ".highlight .mo { color: #666666 } /* Literal.Number.Oct */\n",
              ".highlight .sa { color: #BA2121 } /* Literal.String.Affix */\n",
              ".highlight .sb { color: #BA2121 } /* Literal.String.Backtick */\n",
              ".highlight .sc { color: #BA2121 } /* Literal.String.Char */\n",
              ".highlight .dl { color: #BA2121 } /* Literal.String.Delimiter */\n",
              ".highlight .sd { color: #BA2121; font-style: italic } /* Literal.String.Doc */\n",
              ".highlight .s2 { color: #BA2121 } /* Literal.String.Double */\n",
              ".highlight .se { color: #BB6622; font-weight: bold } /* Literal.String.Escape */\n",
              ".highlight .sh { color: #BA2121 } /* Literal.String.Heredoc */\n",
              ".highlight .si { color: #BB6688; font-weight: bold } /* Literal.String.Interpol */\n",
              ".highlight .sx { color: #008000 } /* Literal.String.Other */\n",
              ".highlight .sr { color: #BB6688 } /* Literal.String.Regex */\n",
              ".highlight .s1 { color: #BA2121 } /* Literal.String.Single */\n",
              ".highlight .ss { color: #19177C } /* Literal.String.Symbol */\n",
              ".highlight .bp { color: #008000 } /* Name.Builtin.Pseudo */\n",
              ".highlight .fm { color: #0000FF } /* Name.Function.Magic */\n",
              ".highlight .vc { color: #19177C } /* Name.Variable.Class */\n",
              ".highlight .vg { color: #19177C } /* Name.Variable.Global */\n",
              ".highlight .vi { color: #19177C } /* Name.Variable.Instance */\n",
              ".highlight .vm { color: #19177C } /* Name.Variable.Magic */\n",
              ".highlight .il { color: #666666 } /* Literal.Number.Integer.Long */</style><div class=\"highlight\"><pre><span></span><span class=\"nd\">@tvm</span><span class=\"o\">.</span><span class=\"n\">script</span><span class=\"o\">.</span><span class=\"n\">ir_module</span>\n",
              "<span class=\"k\">class</span> <span class=\"nc\">Module</span><span class=\"p\">:</span>\n",
              "    <span class=\"nd\">@T</span><span class=\"o\">.</span><span class=\"n\">prim_func</span>\n",
              "    <span class=\"k\">def</span> <span class=\"nf\">main</span><span class=\"p\">(</span><span class=\"n\">A</span><span class=\"p\">:</span> <span class=\"n\">T</span><span class=\"o\">.</span><span class=\"n\">Buffer</span><span class=\"p\">[(</span><span class=\"mi\">128</span><span class=\"p\">,</span> <span class=\"mi\">128</span><span class=\"p\">),</span> <span class=\"s2\">&quot;float32&quot;</span><span class=\"p\">],</span> <span class=\"n\">B</span><span class=\"p\">:</span> <span class=\"n\">T</span><span class=\"o\">.</span><span class=\"n\">Buffer</span><span class=\"p\">[(</span><span class=\"mi\">128</span><span class=\"p\">,</span> <span class=\"mi\">128</span><span class=\"p\">),</span> <span class=\"s2\">&quot;float32&quot;</span><span class=\"p\">],</span> <span class=\"n\">C</span><span class=\"p\">:</span> <span class=\"n\">T</span><span class=\"o\">.</span><span class=\"n\">Buffer</span><span class=\"p\">[(</span><span class=\"mi\">128</span><span class=\"p\">,</span> <span class=\"mi\">128</span><span class=\"p\">),</span> <span class=\"s2\">&quot;float32&quot;</span><span class=\"p\">])</span> <span class=\"o\">-&gt;</span> <span class=\"kc\">None</span><span class=\"p\">:</span>\n",
              "        <span class=\"c1\"># function attr dict</span>\n",
              "        <span class=\"n\">T</span><span class=\"o\">.</span><span class=\"n\">func_attr</span><span class=\"p\">({</span><span class=\"s2\">&quot;global_symbol&quot;</span><span class=\"p\">:</span> <span class=\"s2\">&quot;main&quot;</span><span class=\"p\">,</span> <span class=\"s2\">&quot;tir.noalias&quot;</span><span class=\"p\">:</span> <span class=\"kc\">True</span><span class=\"p\">})</span>\n",
              "        <span class=\"c1\"># body</span>\n",
              "        <span class=\"c1\"># with T.block(&quot;root&quot;)</span>\n",
              "        <span class=\"k\">for</span> <span class=\"n\">i_0_j_0_i_1_j_1_fused</span> <span class=\"ow\">in</span> <span class=\"n\">T</span><span class=\"o\">.</span><span class=\"n\">parallel</span><span class=\"p\">(</span><span class=\"mi\">8</span><span class=\"p\">,</span> <span class=\"n\">annotations</span><span class=\"o\">=</span><span class=\"p\">{</span><span class=\"s2\">&quot;pragma_auto_unroll_max_step&quot;</span><span class=\"p\">:</span><span class=\"mi\">16</span><span class=\"p\">,</span> <span class=\"s2\">&quot;pragma_unroll_explicit&quot;</span><span class=\"p\">:</span><span class=\"mi\">1</span><span class=\"p\">}):</span>\n",
              "            <span class=\"k\">for</span> <span class=\"n\">i_2_init</span><span class=\"p\">,</span> <span class=\"n\">j_2_init</span><span class=\"p\">,</span> <span class=\"n\">i_3_init</span> <span class=\"ow\">in</span> <span class=\"n\">T</span><span class=\"o\">.</span><span class=\"n\">grid</span><span class=\"p\">(</span><span class=\"mi\">64</span><span class=\"p\">,</span> <span class=\"mi\">1</span><span class=\"p\">,</span> <span class=\"mi\">1</span><span class=\"p\">):</span>\n",
              "                <span class=\"k\">for</span> <span class=\"n\">j_3_fused_init</span> <span class=\"ow\">in</span> <span class=\"n\">T</span><span class=\"o\">.</span><span class=\"n\">vectorized</span><span class=\"p\">(</span><span class=\"mi\">32</span><span class=\"p\">):</span>\n",
              "                    <span class=\"k\">with</span> <span class=\"n\">T</span><span class=\"o\">.</span><span class=\"n\">block</span><span class=\"p\">(</span><span class=\"s2\">&quot;C_init&quot;</span><span class=\"p\">):</span>\n",
              "                        <span class=\"n\">vi</span> <span class=\"o\">=</span> <span class=\"n\">T</span><span class=\"o\">.</span><span class=\"n\">axis</span><span class=\"o\">.</span><span class=\"n\">spatial</span><span class=\"p\">(</span><span class=\"mi\">128</span><span class=\"p\">,</span> <span class=\"n\">i_3_init</span> <span class=\"o\">+</span> <span class=\"n\">i_0_j_0_i_1_j_1_fused</span> <span class=\"o\">//</span> <span class=\"mi\">4</span> <span class=\"o\">*</span> <span class=\"mi\">64</span> <span class=\"o\">+</span> <span class=\"n\">i_2_init</span><span class=\"p\">)</span>\n",
              "                        <span class=\"n\">vj</span> <span class=\"o\">=</span> <span class=\"n\">T</span><span class=\"o\">.</span><span class=\"n\">axis</span><span class=\"o\">.</span><span class=\"n\">spatial</span><span class=\"p\">(</span><span class=\"mi\">128</span><span class=\"p\">,</span> <span class=\"n\">i_0_j_0_i_1_j_1_fused</span> <span class=\"o\">%</span> <span class=\"mi\">4</span> <span class=\"o\">*</span> <span class=\"mi\">32</span> <span class=\"o\">+</span> <span class=\"n\">j_2_init</span> <span class=\"o\">*</span> <span class=\"mi\">32</span> <span class=\"o\">+</span> <span class=\"n\">j_3_fused_init</span><span class=\"p\">)</span>\n",
              "                        <span class=\"n\">T</span><span class=\"o\">.</span><span class=\"n\">reads</span><span class=\"p\">()</span>\n",
              "                        <span class=\"n\">T</span><span class=\"o\">.</span><span class=\"n\">writes</span><span class=\"p\">(</span><span class=\"n\">C</span><span class=\"p\">[</span><span class=\"n\">vi</span><span class=\"p\">,</span> <span class=\"n\">vj</span><span class=\"p\">])</span>\n",
              "                        <span class=\"n\">T</span><span class=\"o\">.</span><span class=\"n\">block_attr</span><span class=\"p\">({</span><span class=\"s2\">&quot;meta_schedule.tiling_structure&quot;</span><span class=\"p\">:</span><span class=\"s2\">&quot;SSRSRS&quot;</span><span class=\"p\">})</span>\n",
              "                        <span class=\"n\">C</span><span class=\"p\">[</span><span class=\"n\">vi</span><span class=\"p\">,</span> <span class=\"n\">vj</span><span class=\"p\">]</span> <span class=\"o\">=</span> <span class=\"n\">T</span><span class=\"o\">.</span><span class=\"n\">float32</span><span class=\"p\">(</span><span class=\"mi\">0</span><span class=\"p\">)</span>\n",
              "            <span class=\"k\">for</span> <span class=\"n\">k_0</span><span class=\"p\">,</span> <span class=\"n\">i_2</span><span class=\"p\">,</span> <span class=\"n\">j_2</span><span class=\"p\">,</span> <span class=\"n\">k_1</span><span class=\"p\">,</span> <span class=\"n\">i_3</span> <span class=\"ow\">in</span> <span class=\"n\">T</span><span class=\"o\">.</span><span class=\"n\">grid</span><span class=\"p\">(</span><span class=\"mi\">16</span><span class=\"p\">,</span> <span class=\"mi\">64</span><span class=\"p\">,</span> <span class=\"mi\">1</span><span class=\"p\">,</span> <span class=\"mi\">8</span><span class=\"p\">,</span> <span class=\"mi\">1</span><span class=\"p\">):</span>\n",
              "                <span class=\"k\">for</span> <span class=\"n\">j_3_fused</span> <span class=\"ow\">in</span> <span class=\"n\">T</span><span class=\"o\">.</span><span class=\"n\">vectorized</span><span class=\"p\">(</span><span class=\"mi\">32</span><span class=\"p\">):</span>\n",
              "                    <span class=\"k\">with</span> <span class=\"n\">T</span><span class=\"o\">.</span><span class=\"n\">block</span><span class=\"p\">(</span><span class=\"s2\">&quot;C_update&quot;</span><span class=\"p\">):</span>\n",
              "                        <span class=\"n\">vi</span> <span class=\"o\">=</span> <span class=\"n\">T</span><span class=\"o\">.</span><span class=\"n\">axis</span><span class=\"o\">.</span><span class=\"n\">spatial</span><span class=\"p\">(</span><span class=\"mi\">128</span><span class=\"p\">,</span> <span class=\"n\">i_3</span> <span class=\"o\">+</span> <span class=\"n\">i_0_j_0_i_1_j_1_fused</span> <span class=\"o\">//</span> <span class=\"mi\">4</span> <span class=\"o\">*</span> <span class=\"mi\">64</span> <span class=\"o\">+</span> <span class=\"n\">i_2</span><span class=\"p\">)</span>\n",
              "                        <span class=\"n\">vj</span> <span class=\"o\">=</span> <span class=\"n\">T</span><span class=\"o\">.</span><span class=\"n\">axis</span><span class=\"o\">.</span><span class=\"n\">spatial</span><span class=\"p\">(</span><span class=\"mi\">128</span><span class=\"p\">,</span> <span class=\"n\">i_0_j_0_i_1_j_1_fused</span> <span class=\"o\">%</span> <span class=\"mi\">4</span> <span class=\"o\">*</span> <span class=\"mi\">32</span> <span class=\"o\">+</span> <span class=\"n\">j_2</span> <span class=\"o\">*</span> <span class=\"mi\">32</span> <span class=\"o\">+</span> <span class=\"n\">j_3_fused</span><span class=\"p\">)</span>\n",
              "                        <span class=\"n\">vk</span> <span class=\"o\">=</span> <span class=\"n\">T</span><span class=\"o\">.</span><span class=\"n\">axis</span><span class=\"o\">.</span><span class=\"n\">reduce</span><span class=\"p\">(</span><span class=\"mi\">128</span><span class=\"p\">,</span> <span class=\"n\">k_0</span> <span class=\"o\">*</span> <span class=\"mi\">8</span> <span class=\"o\">+</span> <span class=\"n\">k_1</span><span class=\"p\">)</span>\n",
              "                        <span class=\"n\">T</span><span class=\"o\">.</span><span class=\"n\">reads</span><span class=\"p\">(</span><span class=\"n\">C</span><span class=\"p\">[</span><span class=\"n\">vi</span><span class=\"p\">,</span> <span class=\"n\">vj</span><span class=\"p\">],</span> <span class=\"n\">A</span><span class=\"p\">[</span><span class=\"n\">vi</span><span class=\"p\">,</span> <span class=\"n\">vk</span><span class=\"p\">],</span> <span class=\"n\">B</span><span class=\"p\">[</span><span class=\"n\">vk</span><span class=\"p\">,</span> <span class=\"n\">vj</span><span class=\"p\">])</span>\n",
              "                        <span class=\"n\">T</span><span class=\"o\">.</span><span class=\"n\">writes</span><span class=\"p\">(</span><span class=\"n\">C</span><span class=\"p\">[</span><span class=\"n\">vi</span><span class=\"p\">,</span> <span class=\"n\">vj</span><span class=\"p\">])</span>\n",
              "                        <span class=\"n\">T</span><span class=\"o\">.</span><span class=\"n\">block_attr</span><span class=\"p\">({</span><span class=\"s2\">&quot;meta_schedule.tiling_structure&quot;</span><span class=\"p\">:</span><span class=\"s2\">&quot;SSRSRS&quot;</span><span class=\"p\">})</span>\n",
              "                        <span class=\"n\">C</span><span class=\"p\">[</span><span class=\"n\">vi</span><span class=\"p\">,</span> <span class=\"n\">vj</span><span class=\"p\">]</span> <span class=\"o\">=</span> <span class=\"n\">C</span><span class=\"p\">[</span><span class=\"n\">vi</span><span class=\"p\">,</span> <span class=\"n\">vj</span><span class=\"p\">]</span> <span class=\"o\">+</span> <span class=\"n\">A</span><span class=\"p\">[</span><span class=\"n\">vi</span><span class=\"p\">,</span> <span class=\"n\">vk</span><span class=\"p\">]</span> <span class=\"o\">*</span> <span class=\"n\">B</span><span class=\"p\">[</span><span class=\"n\">vk</span><span class=\"p\">,</span> <span class=\"n\">vj</span><span class=\"p\">]</span>\n",
              "    \n",
              "</pre></div>\n",
              "\n"
            ]
          },
          "metadata": {},
          "execution_count": 37
        }
      ]
    },
    {
      "cell_type": "markdown",
      "source": [
        "## 回到端到端模型执行"
      ],
      "metadata": {
        "id": "t7STHhwyp350"
      }
    },
    {
      "cell_type": "code",
      "source": [
        "import torch\n",
        "import torchvision\n",
        "\n",
        "test_data = torchvision.datasets.FashionMNIST(\n",
        "    root=\"data\",\n",
        "    train=False,\n",
        "    download=True,\n",
        "    transform=torchvision.transforms.ToTensor()\n",
        ")\n",
        "test_loader = torch.utils.data.DataLoader(test_data, batch_size=1, shuffle=True)\n",
        "class_names = ['T-shirt/top', 'Trouser', 'Pullover', 'Dress', 'Coat',\n",
        "               'Sandal', 'Shirt', 'Sneaker', 'Bag', 'Ankle boot']\n",
        "\n",
        "img, label = next(iter(test_loader))\n",
        "img = img.reshape(1, 28, 28).numpy()"
      ],
      "metadata": {
        "colab": {
          "base_uri": "https://localhost:8080/",
          "height": 423,
          "referenced_widgets": [
            "83612dcf1ee14339b83459e1716c01ec",
            "709a8536d84943dd9769e5aef27d1ead",
            "79598fc1ac024c5eb807fef6abac3aac",
            "59651582efb340cc968ef6b8f81f8b61",
            "1be3cc48eef64afc9b1ad3625bac9dfc",
            "b6b9baadd916427aad8510a70fe97659",
            "4d24675cc8284c7ab1fc977f110c1203",
            "e952b3f93dda4026a856ed3daeea32ef",
            "fb60cd6edf07457ab6fca2ca80cef6ad",
            "a8846e20ec3d41c5ba9cd38c86b8d233",
            "fc9fc4475af9475e8e4027e3be1a02ac",
            "522c15ea084147a8b9c48ec73f240b56",
            "f0051ec8e1f34b6890e1588f1efea3af",
            "67d3ca0aad8d4ba48c33922aeeec6ca6",
            "31f278d77356434fb9b8026077b76527",
            "cf3d4fd4966a45fda51eeae32f7742a3",
            "db10bcda76664eaab0c79f540f7a0cd9",
            "1deb984e5dae4560a312f09e3e01f2eb",
            "0a6bd2cb7fe94d82a7464830e77397d1",
            "efcd14543fbd4193a740642ca8110837",
            "25aa34690b714ee58ddda0363acd4973",
            "b896a34d15bd4160a706f7687cb53cde",
            "9609c05696e147e1a4baf64f36272094",
            "bb7ae42f4f2b4754866672f670e36f5c",
            "7f08e2f5aa2c49d2ab7358d29b43adcf",
            "44b349403eb04c669b43921e516f2aa3",
            "ec0b985639a54929a4a3ee5578de2070",
            "1cd069392b99400d9307ed498219ee44",
            "01c4363875f44091bb1fe16b18f404ec",
            "ef13a5162bb24679b9a30eb3038bb511",
            "3cb18e4b9a0a49be89aa6ebfcfd5f03c",
            "c71137c906d3452f9f7f07609b8e1c0a",
            "af7c0099b21b442d9a6fe2fc7c24ebfd",
            "3065bd597b0f4fd4a90e5cdf85509c16",
            "fe689d72185c4a428c13af013ba1fec1",
            "ec52f9990b5f4b3095a803e0c2162d52",
            "cc5e4984d6c74d56803452f1afd21f7d",
            "d8a1b1a2a4fb4ae190fc9a3ad2338a47",
            "f8e60d68711d4663ba5a86d80b0c8678",
            "cdbb0aa34f5f4d2f8d874470bb966818",
            "fab5af694ee044d3a6fd919b10302a17",
            "8b90523a75f34beba1b3c2843e188b8f",
            "53f8f5737f744edba6a83851165fb085",
            "e7df80bba4754da7a83650f8367c7b77"
          ]
        },
        "id": "7UAcO3eLpr2I",
        "outputId": "a235ca87-2503-4076-9a37-f7ba074345a8"
      },
      "execution_count": 38,
      "outputs": [
        {
          "output_type": "stream",
          "name": "stdout",
          "text": [
            "Downloading http://fashion-mnist.s3-website.eu-central-1.amazonaws.com/train-images-idx3-ubyte.gz\n",
            "Downloading http://fashion-mnist.s3-website.eu-central-1.amazonaws.com/train-images-idx3-ubyte.gz to data/FashionMNIST/raw/train-images-idx3-ubyte.gz\n"
          ]
        },
        {
          "output_type": "display_data",
          "data": {
            "text/plain": [
              "  0%|          | 0/26421880 [00:00<?, ?it/s]"
            ],
            "application/vnd.jupyter.widget-view+json": {
              "version_major": 2,
              "version_minor": 0,
              "model_id": "83612dcf1ee14339b83459e1716c01ec"
            }
          },
          "metadata": {}
        },
        {
          "output_type": "stream",
          "name": "stdout",
          "text": [
            "Extracting data/FashionMNIST/raw/train-images-idx3-ubyte.gz to data/FashionMNIST/raw\n",
            "\n",
            "Downloading http://fashion-mnist.s3-website.eu-central-1.amazonaws.com/train-labels-idx1-ubyte.gz\n",
            "Downloading http://fashion-mnist.s3-website.eu-central-1.amazonaws.com/train-labels-idx1-ubyte.gz to data/FashionMNIST/raw/train-labels-idx1-ubyte.gz\n"
          ]
        },
        {
          "output_type": "display_data",
          "data": {
            "text/plain": [
              "  0%|          | 0/29515 [00:00<?, ?it/s]"
            ],
            "application/vnd.jupyter.widget-view+json": {
              "version_major": 2,
              "version_minor": 0,
              "model_id": "522c15ea084147a8b9c48ec73f240b56"
            }
          },
          "metadata": {}
        },
        {
          "output_type": "stream",
          "name": "stdout",
          "text": [
            "Extracting data/FashionMNIST/raw/train-labels-idx1-ubyte.gz to data/FashionMNIST/raw\n",
            "\n",
            "Downloading http://fashion-mnist.s3-website.eu-central-1.amazonaws.com/t10k-images-idx3-ubyte.gz\n",
            "Downloading http://fashion-mnist.s3-website.eu-central-1.amazonaws.com/t10k-images-idx3-ubyte.gz to data/FashionMNIST/raw/t10k-images-idx3-ubyte.gz\n"
          ]
        },
        {
          "output_type": "display_data",
          "data": {
            "text/plain": [
              "  0%|          | 0/4422102 [00:00<?, ?it/s]"
            ],
            "application/vnd.jupyter.widget-view+json": {
              "version_major": 2,
              "version_minor": 0,
              "model_id": "9609c05696e147e1a4baf64f36272094"
            }
          },
          "metadata": {}
        },
        {
          "output_type": "stream",
          "name": "stdout",
          "text": [
            "Extracting data/FashionMNIST/raw/t10k-images-idx3-ubyte.gz to data/FashionMNIST/raw\n",
            "\n",
            "Downloading http://fashion-mnist.s3-website.eu-central-1.amazonaws.com/t10k-labels-idx1-ubyte.gz\n",
            "Downloading http://fashion-mnist.s3-website.eu-central-1.amazonaws.com/t10k-labels-idx1-ubyte.gz to data/FashionMNIST/raw/t10k-labels-idx1-ubyte.gz\n"
          ]
        },
        {
          "output_type": "display_data",
          "data": {
            "text/plain": [
              "  0%|          | 0/5148 [00:00<?, ?it/s]"
            ],
            "application/vnd.jupyter.widget-view+json": {
              "version_major": 2,
              "version_minor": 0,
              "model_id": "3065bd597b0f4fd4a90e5cdf85509c16"
            }
          },
          "metadata": {}
        },
        {
          "output_type": "stream",
          "name": "stdout",
          "text": [
            "Extracting data/FashionMNIST/raw/t10k-labels-idx1-ubyte.gz to data/FashionMNIST/raw\n",
            "\n"
          ]
        }
      ]
    },
    {
      "cell_type": "code",
      "source": [
        "import matplotlib.pyplot as plt\n",
        "\n",
        "plt.figure()\n",
        "plt.imshow(img[0])\n",
        "plt.colorbar()\n",
        "plt.grid(False)\n",
        "plt.show()\n",
        "\n",
        "print(\"Class:\", class_names[label[0]])"
      ],
      "metadata": {
        "colab": {
          "base_uri": "https://localhost:8080/",
          "height": 286
        },
        "id": "Rs_GuzCZp7yw",
        "outputId": "23102be7-f5f4-49c5-ad92-d5710155bf5b"
      },
      "execution_count": 39,
      "outputs": [
        {
          "output_type": "display_data",
          "data": {
            "text/plain": [
              "<Figure size 432x288 with 2 Axes>"
            ],
            "image/png": "[encoded data removed]"
          },
          "metadata": {
            "needs_background": "light"
          }
        },
        {
          "output_type": "stream",
          "name": "stdout",
          "text": [
            "Class: Sneaker\n"
          ]
        }
      ]
    },
    {
      "cell_type": "code",
      "source": [
        "# Hide outputs\n",
        "!wget -nc https://github.com/mlc-ai/web-data/raw/main/models/fasionmnist_mlp_params.pkl"
      ],
      "metadata": {
        "colab": {
          "base_uri": "https://localhost:8080/"
        },
        "id": "nqPkt6mCqBYg",
        "outputId": "96e0693e-27e9-4e62-bc74-51075cf8cc58"
      },
      "execution_count": 40,
      "outputs": [
        {
          "output_type": "stream",
          "name": "stdout",
          "text": [
            "--2022-10-15 12:39:45--  https://github.com/mlc-ai/web-data/raw/main/models/fasionmnist_mlp_params.pkl\n",
            "Resolving github.com (github.com)... 192.30.255.112\n",
            "Connecting to github.com (github.com)|192.30.255.112|:443... connected.\n",
            "HTTP request sent, awaiting response... 302 Found\n",
            "Location: https://raw.githubusercontent.com/mlc-ai/web-data/main/models/fasionmnist_mlp_params.pkl [following]\n",
            "--2022-10-15 12:39:45--  https://raw.githubusercontent.com/mlc-ai/web-data/main/models/fasionmnist_mlp_params.pkl\n",
            "Resolving raw.githubusercontent.com (raw.githubusercontent.com)... 185.199.108.133, 185.199.109.133, 185.199.110.133, ...\n",
            "Connecting to raw.githubusercontent.com (raw.githubusercontent.com)|185.199.108.133|:443... connected.\n",
            "HTTP request sent, awaiting response... 200 OK\n",
            "Length: 407396 (398K) [application/octet-stream]\n",
            "Saving to: ‘fasionmnist_mlp_params.pkl’\n",
            "\n",
            "fasionmnist_mlp_par 100%[===================>] 397.85K  --.-KB/s    in 0.03s   \n",
            "\n",
            "2022-10-15 12:39:46 (15.3 MB/s) - ‘fasionmnist_mlp_params.pkl’ saved [407396/407396]\n",
            "\n"
          ]
        }
      ]
    },
    {
      "cell_type": "code",
      "source": [
        "import pickle as pkl\n",
        "\n",
        "mlp_params = pkl.load(open(\"fasionmnist_mlp_params.pkl\", \"rb\"))\n",
        "\n",
        "data_nd = tvm.nd.array(img.reshape(1, 784))\n",
        "nd_params = {k: tvm.nd.array(v) for k, v in mlp_params.items()}"
      ],
      "metadata": {
        "id": "fiqTFusJqE8c"
      },
      "execution_count": 41,
      "outputs": []
    },
    {
      "cell_type": "code",
      "source": [
        "@tvm.script.ir_module\n",
        "class MyModuleMixture:\n",
        "    @T.prim_func\n",
        "    def linear0(X: T.Buffer[(1, 784), \"float32\"],\n",
        "                W: T.Buffer[(128, 784), \"float32\"],\n",
        "                B: T.Buffer[(128,), \"float32\"],\n",
        "                Z: T.Buffer[(1, 128), \"float32\"]):\n",
        "        T.func_attr({\"global_symbol\": \"linear0\", \"tir.noalias\": True})\n",
        "        Y = T.alloc_buffer((1, 128), \"float32\")\n",
        "        for i, j, k in T.grid(1, 128, 784):\n",
        "            with T.block(\"Y\"):\n",
        "                vi, vj, vk = T.axis.remap(\"SSR\", [i, j, k])\n",
        "                with T.init():\n",
        "                    Y[vi, vj] = T.float32(0)\n",
        "                Y[vi, vj] = Y[vi, vj] + X[vi, vk] * W[vj, vk]\n",
        "\n",
        "        for i, j in T.grid(1, 128):\n",
        "            with T.block(\"Z\"):\n",
        "                vi, vj = T.axis.remap(\"SS\", [i, j])\n",
        "                Z[vi, vj] =  Y[vi, vj] + B[vj]\n",
        "\n",
        "    @R.function\n",
        "    def main(x: Tensor((1, 784), \"float32\"),\n",
        "             w0: Tensor((128, 784), \"float32\"),\n",
        "             b0: Tensor((128,), \"float32\"),\n",
        "             w1: Tensor((10, 128), \"float32\"),\n",
        "             b1: Tensor((10,), \"float32\")):\n",
        "        with R.dataflow():\n",
        "            lv0 = R.call_tir(linear0, (x, w0, b0), (1, 128), dtype=\"float32\")\n",
        "            lv1 = R.call_tir(\"env.relu\", (lv0,), (1, 128), dtype=\"float32\")\n",
        "            out = R.call_tir(\"env.linear\", (lv1, w1, b1), (1, 10), dtype=\"float32\")\n",
        "            R.output(out)\n",
        "        return out"
      ],
      "metadata": {
        "id": "u_Ey57SsqKIU"
      },
      "execution_count": 42,
      "outputs": []
    },
    {
      "cell_type": "code",
      "source": [
        "@tvm.register_func(\"env.linear\", override=True)\n",
        "def torch_linear(x: tvm.nd.NDArray,\n",
        "                 w: tvm.nd.NDArray,\n",
        "                 b: tvm.nd.NDArray,\n",
        "                 out: tvm.nd.NDArray):\n",
        "    x_torch = torch.from_dlpack(x)\n",
        "    w_torch = torch.from_dlpack(w)\n",
        "    b_torch = torch.from_dlpack(b)\n",
        "    out_torch = torch.from_dlpack(out)\n",
        "    torch.mm(x_torch, w_torch.T, out=out_torch)\n",
        "    torch.add(out_torch, b_torch, out=out_torch)\n",
        "\n",
        "@tvm.register_func(\"env.relu\", override=True)\n",
        "def lnumpy_relu(x: tvm.nd.NDArray,\n",
        "                out: tvm.nd.NDArray):\n",
        "    x_torch = torch.from_dlpack(x)\n",
        "    out_torch = torch.from_dlpack(out)\n",
        "    torch.maximum(x_torch, torch.Tensor([0.0]), out=out_torch)"
      ],
      "metadata": {
        "id": "YdNr-RiXqNfY"
      },
      "execution_count": 43,
      "outputs": []
    },
    {
      "cell_type": "code",
      "source": [
        "MyModuleWithParams = relax.transform.BindParams(\"main\", nd_params)(MyModuleMixture)"
      ],
      "metadata": {
        "id": "kz8o8dMnqQCL"
      },
      "execution_count": 44,
      "outputs": []
    },
    {
      "cell_type": "code",
      "source": [
        "ex = relax.vm.build(MyModuleWithParams, target=\"llvm\")\n",
        "vm = relax.VirtualMachine(ex, tvm.cpu())\n",
        "\n",
        "nd_res = vm[\"main\"](data_nd)\n",
        "\n",
        "pred_kind = np.argmax(nd_res.numpy(), axis=1)\n",
        "print(\"MyModuleWithParams Prediction:\", class_names[pred_kind[0]])"
      ],
      "metadata": {
        "colab": {
          "base_uri": "https://localhost:8080/"
        },
        "id": "huAtZF2dqTCx",
        "outputId": "124a1964-56d9-40d8-b654-fa52a56ea146"
      },
      "execution_count": 45,
      "outputs": [
        {
          "output_type": "stream",
          "name": "stdout",
          "text": [
            "MyModuleWithParams Prediction: Sneaker\n"
          ]
        }
      ]
    },
    {
      "cell_type": "code",
      "source": [
        "ftimer = vm.module.time_evaluator(\"main\", tvm.cpu(), number=100)\n",
        "\n",
        "print(\"MyModuleWithParams time-cost: %g ms\" % (ftimer(data_nd).mean * 1000))"
      ],
      "metadata": {
        "colab": {
          "base_uri": "https://localhost:8080/"
        },
        "id": "sWAmfOW1qZoN",
        "outputId": "9ca902f9-3677-46c3-dcdf-9c44fc9b542b"
      },
      "execution_count": 46,
      "outputs": [
        {
          "output_type": "stream",
          "name": "stdout",
          "text": [
            "MyModuleWithParams time-cost: 0.459154 ms\n"
          ]
        }
      ]
    },
    {
      "cell_type": "code",
      "source": [
        "mod_linear = tvm.IRModule.from_expr(MyModuleMixture[\"linear0\"].with_attr(\"global_symbol\", \"main\"))\n",
        "IPython.display.HTML(code2html(mod_linear.script()))"
      ],
      "metadata": {
        "colab": {
          "base_uri": "https://localhost:8080/",
          "height": 434
        },
        "id": "sBZdOeTNqcJI",
        "outputId": "596f7e70-a18d-4af6-e336-4937aaaacc24"
      },
      "execution_count": 47,
      "outputs": [
        {
          "output_type": "execute_result",
          "data": {
            "text/plain": [
              "<IPython.core.display.HTML object>"
            ],
            "text/html": [
              "<style>.highlight .hll { background-color: #ffffcc }\n",
              ".highlight  { background: #f8f8f8; }\n",
              ".highlight .c { color: #408080; font-style: italic } /* Comment */\n",
              ".highlight .err { border: 1px solid #FF0000 } /* Error */\n",
              ".highlight .k { color: #008000; font-weight: bold } /* Keyword */\n",
              ".highlight .o { color: #666666 } /* Operator */\n",
              ".highlight .ch { color: #408080; font-style: italic } /* Comment.Hashbang */\n",
              ".highlight .cm { color: #408080; font-style: italic } /* Comment.Multiline */\n",
              ".highlight .cp { color: #BC7A00 } /* Comment.Preproc */\n",
              ".highlight .cpf { color: #408080; font-style: italic } /* Comment.PreprocFile */\n",
              ".highlight .c1 { color: #408080; font-style: italic } /* Comment.Single */\n",
              ".highlight .cs { color: #408080; font-style: italic } /* Comment.Special */\n",
              ".highlight .gd { color: #A00000 } /* Generic.Deleted */\n",
              ".highlight .ge { font-style: italic } /* Generic.Emph */\n",
              ".highlight .gr { color: #FF0000 } /* Generic.Error */\n",
              ".highlight .gh { color: #000080; font-weight: bold } /* Generic.Heading */\n",
              ".highlight .gi { color: #00A000 } /* Generic.Inserted */\n",
              ".highlight .go { color: #888888 } /* Generic.Output */\n",
              ".highlight .gp { color: #000080; font-weight: bold } /* Generic.Prompt */\n",
              ".highlight .gs { font-weight: bold } /* Generic.Strong */\n",
              ".highlight .gu { color: #800080; font-weight: bold } /* Generic.Subheading */\n",
              ".highlight .gt { color: #0044DD } /* Generic.Traceback */\n",
              ".highlight .kc { color: #008000; font-weight: bold } /* Keyword.Constant */\n",
              ".highlight .kd { color: #008000; font-weight: bold } /* Keyword.Declaration */\n",
              ".highlight .kn { color: #008000; font-weight: bold } /* Keyword.Namespace */\n",
              ".highlight .kp { color: #008000 } /* Keyword.Pseudo */\n",
              ".highlight .kr { color: #008000; font-weight: bold } /* Keyword.Reserved */\n",
              ".highlight .kt { color: #B00040 } /* Keyword.Type */\n",
              ".highlight .m { color: #666666 } /* Literal.Number */\n",
              ".highlight .s { color: #BA2121 } /* Literal.String */\n",
              ".highlight .na { color: #7D9029 } /* Name.Attribute */\n",
              ".highlight .nb { color: #008000 } /* Name.Builtin */\n",
              ".highlight .nc { color: #0000FF; font-weight: bold } /* Name.Class */\n",
              ".highlight .no { color: #880000 } /* Name.Constant */\n",
              ".highlight .nd { color: #AA22FF } /* Name.Decorator */\n",
              ".highlight .ni { color: #999999; font-weight: bold } /* Name.Entity */\n",
              ".highlight .ne { color: #D2413A; font-weight: bold } /* Name.Exception */\n",
              ".highlight .nf { color: #0000FF } /* Name.Function */\n",
              ".highlight .nl { color: #A0A000 } /* Name.Label */\n",
              ".highlight .nn { color: #0000FF; font-weight: bold } /* Name.Namespace */\n",
              ".highlight .nt { color: #008000; font-weight: bold } /* Name.Tag */\n",
              ".highlight .nv { color: #19177C } /* Name.Variable */\n",
              ".highlight .ow { color: #AA22FF; font-weight: bold } /* Operator.Word */\n",
              ".highlight .w { color: #bbbbbb } /* Text.Whitespace */\n",
              ".highlight .mb { color: #666666 } /* Literal.Number.Bin */\n",
              ".highlight .mf { color: #666666 } /* Literal.Number.Float */\n",
              ".highlight .mh { color: #666666 } /* Literal.Number.Hex */\n",
              ".highlight .mi { color: #666666 } /* Literal.Number.Integer */\n",
              ".highlight .mo { color: #666666 } /* Literal.Number.Oct */\n",
              ".highlight .sa { color: #BA2121 } /* Literal.String.Affix */\n",
              ".highlight .sb { color: #BA2121 } /* Literal.String.Backtick */\n",
              ".highlight .sc { color: #BA2121 } /* Literal.String.Char */\n",
              ".highlight .dl { color: #BA2121 } /* Literal.String.Delimiter */\n",
              ".highlight .sd { color: #BA2121; font-style: italic } /* Literal.String.Doc */\n",
              ".highlight .s2 { color: #BA2121 } /* Literal.String.Double */\n",
              ".highlight .se { color: #BB6622; font-weight: bold } /* Literal.String.Escape */\n",
              ".highlight .sh { color: #BA2121 } /* Literal.String.Heredoc */\n",
              ".highlight .si { color: #BB6688; font-weight: bold } /* Literal.String.Interpol */\n",
              ".highlight .sx { color: #008000 } /* Literal.String.Other */\n",
              ".highlight .sr { color: #BB6688 } /* Literal.String.Regex */\n",
              ".highlight .s1 { color: #BA2121 } /* Literal.String.Single */\n",
              ".highlight .ss { color: #19177C } /* Literal.String.Symbol */\n",
              ".highlight .bp { color: #008000 } /* Name.Builtin.Pseudo */\n",
              ".highlight .fm { color: #0000FF } /* Name.Function.Magic */\n",
              ".highlight .vc { color: #19177C } /* Name.Variable.Class */\n",
              ".highlight .vg { color: #19177C } /* Name.Variable.Global */\n",
              ".highlight .vi { color: #19177C } /* Name.Variable.Instance */\n",
              ".highlight .vm { color: #19177C } /* Name.Variable.Magic */\n",
              ".highlight .il { color: #666666 } /* Literal.Number.Integer.Long */</style><div class=\"highlight\"><pre><span></span><span class=\"nd\">@tvm</span><span class=\"o\">.</span><span class=\"n\">script</span><span class=\"o\">.</span><span class=\"n\">ir_module</span>\n",
              "<span class=\"k\">class</span> <span class=\"nc\">Module</span><span class=\"p\">:</span>\n",
              "    <span class=\"nd\">@T</span><span class=\"o\">.</span><span class=\"n\">prim_func</span>\n",
              "    <span class=\"k\">def</span> <span class=\"nf\">main</span><span class=\"p\">(</span><span class=\"n\">X</span><span class=\"p\">:</span> <span class=\"n\">T</span><span class=\"o\">.</span><span class=\"n\">Buffer</span><span class=\"p\">[(</span><span class=\"mi\">1</span><span class=\"p\">,</span> <span class=\"mi\">784</span><span class=\"p\">),</span> <span class=\"s2\">&quot;float32&quot;</span><span class=\"p\">],</span> <span class=\"n\">W</span><span class=\"p\">:</span> <span class=\"n\">T</span><span class=\"o\">.</span><span class=\"n\">Buffer</span><span class=\"p\">[(</span><span class=\"mi\">128</span><span class=\"p\">,</span> <span class=\"mi\">784</span><span class=\"p\">),</span> <span class=\"s2\">&quot;float32&quot;</span><span class=\"p\">],</span> <span class=\"n\">B</span><span class=\"p\">:</span> <span class=\"n\">T</span><span class=\"o\">.</span><span class=\"n\">Buffer</span><span class=\"p\">[</span><span class=\"mi\">128</span><span class=\"p\">,</span> <span class=\"s2\">&quot;float32&quot;</span><span class=\"p\">],</span> <span class=\"n\">Z</span><span class=\"p\">:</span> <span class=\"n\">T</span><span class=\"o\">.</span><span class=\"n\">Buffer</span><span class=\"p\">[(</span><span class=\"mi\">1</span><span class=\"p\">,</span> <span class=\"mi\">128</span><span class=\"p\">),</span> <span class=\"s2\">&quot;float32&quot;</span><span class=\"p\">])</span> <span class=\"o\">-&gt;</span> <span class=\"kc\">None</span><span class=\"p\">:</span>\n",
              "        <span class=\"c1\"># function attr dict</span>\n",
              "        <span class=\"n\">T</span><span class=\"o\">.</span><span class=\"n\">func_attr</span><span class=\"p\">({</span><span class=\"s2\">&quot;global_symbol&quot;</span><span class=\"p\">:</span> <span class=\"s2\">&quot;main&quot;</span><span class=\"p\">,</span> <span class=\"s2\">&quot;tir.noalias&quot;</span><span class=\"p\">:</span> <span class=\"kc\">True</span><span class=\"p\">})</span>\n",
              "        <span class=\"c1\"># body</span>\n",
              "        <span class=\"c1\"># with T.block(&quot;root&quot;)</span>\n",
              "        <span class=\"n\">Y</span> <span class=\"o\">=</span> <span class=\"n\">T</span><span class=\"o\">.</span><span class=\"n\">alloc_buffer</span><span class=\"p\">([</span><span class=\"mi\">1</span><span class=\"p\">,</span> <span class=\"mi\">128</span><span class=\"p\">],</span> <span class=\"n\">dtype</span><span class=\"o\">=</span><span class=\"s2\">&quot;float32&quot;</span><span class=\"p\">)</span>\n",
              "        <span class=\"k\">for</span> <span class=\"n\">i</span><span class=\"p\">,</span> <span class=\"n\">j</span><span class=\"p\">,</span> <span class=\"n\">k</span> <span class=\"ow\">in</span> <span class=\"n\">T</span><span class=\"o\">.</span><span class=\"n\">grid</span><span class=\"p\">(</span><span class=\"mi\">1</span><span class=\"p\">,</span> <span class=\"mi\">128</span><span class=\"p\">,</span> <span class=\"mi\">784</span><span class=\"p\">):</span>\n",
              "            <span class=\"k\">with</span> <span class=\"n\">T</span><span class=\"o\">.</span><span class=\"n\">block</span><span class=\"p\">(</span><span class=\"s2\">&quot;Y&quot;</span><span class=\"p\">):</span>\n",
              "                <span class=\"n\">vi</span><span class=\"p\">,</span> <span class=\"n\">vj</span><span class=\"p\">,</span> <span class=\"n\">vk</span> <span class=\"o\">=</span> <span class=\"n\">T</span><span class=\"o\">.</span><span class=\"n\">axis</span><span class=\"o\">.</span><span class=\"n\">remap</span><span class=\"p\">(</span><span class=\"s2\">&quot;SSR&quot;</span><span class=\"p\">,</span> <span class=\"p\">[</span><span class=\"n\">i</span><span class=\"p\">,</span> <span class=\"n\">j</span><span class=\"p\">,</span> <span class=\"n\">k</span><span class=\"p\">])</span>\n",
              "                <span class=\"n\">T</span><span class=\"o\">.</span><span class=\"n\">reads</span><span class=\"p\">(</span><span class=\"n\">X</span><span class=\"p\">[</span><span class=\"n\">vi</span><span class=\"p\">,</span> <span class=\"n\">vk</span><span class=\"p\">],</span> <span class=\"n\">W</span><span class=\"p\">[</span><span class=\"n\">vj</span><span class=\"p\">,</span> <span class=\"n\">vk</span><span class=\"p\">])</span>\n",
              "                <span class=\"n\">T</span><span class=\"o\">.</span><span class=\"n\">writes</span><span class=\"p\">(</span><span class=\"n\">Y</span><span class=\"p\">[</span><span class=\"n\">vi</span><span class=\"p\">,</span> <span class=\"n\">vj</span><span class=\"p\">])</span>\n",
              "                <span class=\"k\">with</span> <span class=\"n\">T</span><span class=\"o\">.</span><span class=\"n\">init</span><span class=\"p\">():</span>\n",
              "                    <span class=\"n\">Y</span><span class=\"p\">[</span><span class=\"n\">vi</span><span class=\"p\">,</span> <span class=\"n\">vj</span><span class=\"p\">]</span> <span class=\"o\">=</span> <span class=\"n\">T</span><span class=\"o\">.</span><span class=\"n\">float32</span><span class=\"p\">(</span><span class=\"mi\">0</span><span class=\"p\">)</span>\n",
              "                <span class=\"n\">Y</span><span class=\"p\">[</span><span class=\"n\">vi</span><span class=\"p\">,</span> <span class=\"n\">vj</span><span class=\"p\">]</span> <span class=\"o\">=</span> <span class=\"n\">Y</span><span class=\"p\">[</span><span class=\"n\">vi</span><span class=\"p\">,</span> <span class=\"n\">vj</span><span class=\"p\">]</span> <span class=\"o\">+</span> <span class=\"n\">X</span><span class=\"p\">[</span><span class=\"n\">vi</span><span class=\"p\">,</span> <span class=\"n\">vk</span><span class=\"p\">]</span> <span class=\"o\">*</span> <span class=\"n\">W</span><span class=\"p\">[</span><span class=\"n\">vj</span><span class=\"p\">,</span> <span class=\"n\">vk</span><span class=\"p\">]</span>\n",
              "        <span class=\"k\">for</span> <span class=\"n\">i</span><span class=\"p\">,</span> <span class=\"n\">j</span> <span class=\"ow\">in</span> <span class=\"n\">T</span><span class=\"o\">.</span><span class=\"n\">grid</span><span class=\"p\">(</span><span class=\"mi\">1</span><span class=\"p\">,</span> <span class=\"mi\">128</span><span class=\"p\">):</span>\n",
              "            <span class=\"k\">with</span> <span class=\"n\">T</span><span class=\"o\">.</span><span class=\"n\">block</span><span class=\"p\">(</span><span class=\"s2\">&quot;Z&quot;</span><span class=\"p\">):</span>\n",
              "                <span class=\"n\">vi</span><span class=\"p\">,</span> <span class=\"n\">vj</span> <span class=\"o\">=</span> <span class=\"n\">T</span><span class=\"o\">.</span><span class=\"n\">axis</span><span class=\"o\">.</span><span class=\"n\">remap</span><span class=\"p\">(</span><span class=\"s2\">&quot;SS&quot;</span><span class=\"p\">,</span> <span class=\"p\">[</span><span class=\"n\">i</span><span class=\"p\">,</span> <span class=\"n\">j</span><span class=\"p\">])</span>\n",
              "                <span class=\"n\">T</span><span class=\"o\">.</span><span class=\"n\">reads</span><span class=\"p\">(</span><span class=\"n\">Y</span><span class=\"p\">[</span><span class=\"n\">vi</span><span class=\"p\">,</span> <span class=\"n\">vj</span><span class=\"p\">],</span> <span class=\"n\">B</span><span class=\"p\">[</span><span class=\"n\">vj</span><span class=\"p\">])</span>\n",
              "                <span class=\"n\">T</span><span class=\"o\">.</span><span class=\"n\">writes</span><span class=\"p\">(</span><span class=\"n\">Z</span><span class=\"p\">[</span><span class=\"n\">vi</span><span class=\"p\">,</span> <span class=\"n\">vj</span><span class=\"p\">])</span>\n",
              "                <span class=\"n\">Z</span><span class=\"p\">[</span><span class=\"n\">vi</span><span class=\"p\">,</span> <span class=\"n\">vj</span><span class=\"p\">]</span> <span class=\"o\">=</span> <span class=\"n\">Y</span><span class=\"p\">[</span><span class=\"n\">vi</span><span class=\"p\">,</span> <span class=\"n\">vj</span><span class=\"p\">]</span> <span class=\"o\">+</span> <span class=\"n\">B</span><span class=\"p\">[</span><span class=\"n\">vj</span><span class=\"p\">]</span>\n",
              "    \n",
              "</pre></div>\n",
              "\n"
            ]
          },
          "metadata": {},
          "execution_count": 47
        }
      ]
    },
    {
      "cell_type": "code",
      "source": [
        "sch_tuned_linear = ms.tune_tir(\n",
        "    mod=mod_linear,\n",
        "    target=\"llvm --num-cores=1\",\n",
        "    config=ms.TuneConfig(\n",
        "      max_trials_global=64,\n",
        "      num_trials_per_iter=64,\n",
        "    ),\n",
        "    work_dir=\"./tune_tmp\",\n",
        "    task_name=\"main\",\n",
        ")"
      ],
      "metadata": {
        "colab": {
          "base_uri": "https://localhost:8080/"
        },
        "id": "KS2GwLBdq4QV",
        "outputId": "798bf714-aa7d-4ebc-d782-5182651ceb4b"
      },
      "execution_count": 48,
      "outputs": [
        {
          "output_type": "stream",
          "name": "stdout",
          "text": [
            "2022-10-15 12:43:27.644 INFO Logging directory: ./tune_tmp/logs\n",
            "2022-10-15 12:43:27.651 INFO Logging directory: ./tune_tmp/logs\n",
            "2022-10-15 12:43:27.655 INFO Working directory: ./tune_tmp\n",
            "2022-10-15 12:43:27.659 INFO Creating JSONDatabase. Workload at: ./tune_tmp/database_workload.json. Tuning records at: ./tune_tmp/database_tuning_record.json\n",
            "2022-10-15 12:43:27.780 INFO LocalBuilder: max_workers = 1\n",
            "2022-10-15 12:43:28.863 INFO LocalRunner: max_workers = 1\n",
            "2022-10-15 12:43:29.559 INFO Initializing Task #0: \"main\"\n",
            "2022-10-15 12:43:29.580 INFO \n",
            " ID | Name |   FLOP | Weight | Speed (GFLOPS) | Latency (us) | Weighted Latency (us) | Trials | Terminated \n",
            "-----------------------------------------------------------------------------------------------------------\n",
            "  0 | main | 200832 |      1 |            N/A |          N/A |                   N/A |      0 |            \n",
            "-----------------------------------------------------------------------------------------------------------\n",
            "Total trials: 0\n",
            "Total latency (us): 0\n",
            "\n",
            "2022-10-15 12:43:29.583 INFO Scheduler picks Task #0: \"main\"\n",
            "2022-10-15 12:43:55.481 INFO Sending 64 sample(s) to builder\n",
            "2022-10-15 12:44:27.615 INFO Sending 64 sample(s) to runner\n",
            "2022-10-15 12:44:42.490 INFO [Updated] Task #0: \"main\"\n",
            " ID | Name |   FLOP | Weight | Speed (GFLOPS) | Latency (us) | Weighted Latency (us) | Trials | Terminated \n",
            "-----------------------------------------------------------------------------------------------------------\n",
            "  0 | main | 200832 |      1 |         7.0687 |      28.4116 |               28.4116 |     64 |            \n",
            "-----------------------------------------------------------------------------------------------------------\n",
            "Total trials: 64\n",
            "Total latency (us): 28.4116\n",
            "\n",
            "2022-10-15 12:44:42.492 INFO Task #0 has finished. Remaining task(s): 0\n",
            "2022-10-15 12:44:42.542 INFO Saved XGBModel to ./tune_tmp/cost_model.xgb\n"
          ]
        }
      ]
    },
    {
      "cell_type": "code",
      "source": [
        "MyModuleWithParams2 = relax.transform.BindParams(\"main\", nd_params)(MyModuleMixture)\n",
        "new_func = sch_tuned_linear.mod[\"main\"].with_attr(\"global_symbol\", \"linear0\")\n",
        "gv = MyModuleWithParams2.get_global_var(\"linear0\")\n",
        "MyModuleWithParams2.update_func(gv, new_func)\n",
        "IPython.display.HTML(code2html(MyModuleWithParams2.script()))"
      ],
      "metadata": {
        "colab": {
          "base_uri": "https://localhost:8080/",
          "height": 833
        },
        "id": "nZ80XwD4q7Wl",
        "outputId": "dceedab1-d79b-4c45-eddb-0fdfaa8650e9"
      },
      "execution_count": 49,
      "outputs": [
        {
          "output_type": "execute_result",
          "data": {
            "text/plain": [
              "<IPython.core.display.HTML object>"
            ],
            "text/html": [
              "<style>.highlight .hll { background-color: #ffffcc }\n",
              ".highlight  { background: #f8f8f8; }\n",
              ".highlight .c { color: #408080; font-style: italic } /* Comment */\n",
              ".highlight .err { border: 1px solid #FF0000 } /* Error */\n",
              ".highlight .k { color: #008000; font-weight: bold } /* Keyword */\n",
              ".highlight .o { color: #666666 } /* Operator */\n",
              ".highlight .ch { color: #408080; font-style: italic } /* Comment.Hashbang */\n",
              ".highlight .cm { color: #408080; font-style: italic } /* Comment.Multiline */\n",
              ".highlight .cp { color: #BC7A00 } /* Comment.Preproc */\n",
              ".highlight .cpf { color: #408080; font-style: italic } /* Comment.PreprocFile */\n",
              ".highlight .c1 { color: #408080; font-style: italic } /* Comment.Single */\n",
              ".highlight .cs { color: #408080; font-style: italic } /* Comment.Special */\n",
              ".highlight .gd { color: #A00000 } /* Generic.Deleted */\n",
              ".highlight .ge { font-style: italic } /* Generic.Emph */\n",
              ".highlight .gr { color: #FF0000 } /* Generic.Error */\n",
              ".highlight .gh { color: #000080; font-weight: bold } /* Generic.Heading */\n",
              ".highlight .gi { color: #00A000 } /* Generic.Inserted */\n",
              ".highlight .go { color: #888888 } /* Generic.Output */\n",
              ".highlight .gp { color: #000080; font-weight: bold } /* Generic.Prompt */\n",
              ".highlight .gs { font-weight: bold } /* Generic.Strong */\n",
              ".highlight .gu { color: #800080; font-weight: bold } /* Generic.Subheading */\n",
              ".highlight .gt { color: #0044DD } /* Generic.Traceback */\n",
              ".highlight .kc { color: #008000; font-weight: bold } /* Keyword.Constant */\n",
              ".highlight .kd { color: #008000; font-weight: bold } /* Keyword.Declaration */\n",
              ".highlight .kn { color: #008000; font-weight: bold } /* Keyword.Namespace */\n",
              ".highlight .kp { color: #008000 } /* Keyword.Pseudo */\n",
              ".highlight .kr { color: #008000; font-weight: bold } /* Keyword.Reserved */\n",
              ".highlight .kt { color: #B00040 } /* Keyword.Type */\n",
              ".highlight .m { color: #666666 } /* Literal.Number */\n",
              ".highlight .s { color: #BA2121 } /* Literal.String */\n",
              ".highlight .na { color: #7D9029 } /* Name.Attribute */\n",
              ".highlight .nb { color: #008000 } /* Name.Builtin */\n",
              ".highlight .nc { color: #0000FF; font-weight: bold } /* Name.Class */\n",
              ".highlight .no { color: #880000 } /* Name.Constant */\n",
              ".highlight .nd { color: #AA22FF } /* Name.Decorator */\n",
              ".highlight .ni { color: #999999; font-weight: bold } /* Name.Entity */\n",
              ".highlight .ne { color: #D2413A; font-weight: bold } /* Name.Exception */\n",
              ".highlight .nf { color: #0000FF } /* Name.Function */\n",
              ".highlight .nl { color: #A0A000 } /* Name.Label */\n",
              ".highlight .nn { color: #0000FF; font-weight: bold } /* Name.Namespace */\n",
              ".highlight .nt { color: #008000; font-weight: bold } /* Name.Tag */\n",
              ".highlight .nv { color: #19177C } /* Name.Variable */\n",
              ".highlight .ow { color: #AA22FF; font-weight: bold } /* Operator.Word */\n",
              ".highlight .w { color: #bbbbbb } /* Text.Whitespace */\n",
              ".highlight .mb { color: #666666 } /* Literal.Number.Bin */\n",
              ".highlight .mf { color: #666666 } /* Literal.Number.Float */\n",
              ".highlight .mh { color: #666666 } /* Literal.Number.Hex */\n",
              ".highlight .mi { color: #666666 } /* Literal.Number.Integer */\n",
              ".highlight .mo { color: #666666 } /* Literal.Number.Oct */\n",
              ".highlight .sa { color: #BA2121 } /* Literal.String.Affix */\n",
              ".highlight .sb { color: #BA2121 } /* Literal.String.Backtick */\n",
              ".highlight .sc { color: #BA2121 } /* Literal.String.Char */\n",
              ".highlight .dl { color: #BA2121 } /* Literal.String.Delimiter */\n",
              ".highlight .sd { color: #BA2121; font-style: italic } /* Literal.String.Doc */\n",
              ".highlight .s2 { color: #BA2121 } /* Literal.String.Double */\n",
              ".highlight .se { color: #BB6622; font-weight: bold } /* Literal.String.Escape */\n",
              ".highlight .sh { color: #BA2121 } /* Literal.String.Heredoc */\n",
              ".highlight .si { color: #BB6688; font-weight: bold } /* Literal.String.Interpol */\n",
              ".highlight .sx { color: #008000 } /* Literal.String.Other */\n",
              ".highlight .sr { color: #BB6688 } /* Literal.String.Regex */\n",
              ".highlight .s1 { color: #BA2121 } /* Literal.String.Single */\n",
              ".highlight .ss { color: #19177C } /* Literal.String.Symbol */\n",
              ".highlight .bp { color: #008000 } /* Name.Builtin.Pseudo */\n",
              ".highlight .fm { color: #0000FF } /* Name.Function.Magic */\n",
              ".highlight .vc { color: #19177C } /* Name.Variable.Class */\n",
              ".highlight .vg { color: #19177C } /* Name.Variable.Global */\n",
              ".highlight .vi { color: #19177C } /* Name.Variable.Instance */\n",
              ".highlight .vm { color: #19177C } /* Name.Variable.Magic */\n",
              ".highlight .il { color: #666666 } /* Literal.Number.Integer.Long */</style><div class=\"highlight\"><pre><span></span><span class=\"nd\">@tvm</span><span class=\"o\">.</span><span class=\"n\">script</span><span class=\"o\">.</span><span class=\"n\">ir_module</span>\n",
              "<span class=\"k\">class</span> <span class=\"nc\">Module</span><span class=\"p\">:</span>\n",
              "    <span class=\"nd\">@R</span><span class=\"o\">.</span><span class=\"n\">function</span>\n",
              "    <span class=\"k\">def</span> <span class=\"nf\">main</span><span class=\"p\">(</span><span class=\"n\">x</span><span class=\"p\">:</span> <span class=\"n\">Tensor</span><span class=\"p\">((</span><span class=\"mi\">1</span><span class=\"p\">,</span> <span class=\"mi\">784</span><span class=\"p\">),</span> <span class=\"s2\">&quot;float32&quot;</span><span class=\"p\">))</span> <span class=\"o\">-&gt;</span> <span class=\"n\">Tensor</span><span class=\"p\">(</span><span class=\"kc\">None</span><span class=\"p\">,</span> <span class=\"s2\">&quot;float32&quot;</span><span class=\"p\">,</span> <span class=\"n\">ndim</span> <span class=\"o\">=</span> <span class=\"mi\">2</span><span class=\"p\">):</span>\n",
              "        <span class=\"c1\"># block 0</span>\n",
              "        <span class=\"k\">with</span> <span class=\"n\">R</span><span class=\"o\">.</span><span class=\"n\">dataflow</span><span class=\"p\">():</span>\n",
              "            <span class=\"n\">lv0</span> <span class=\"o\">=</span> <span class=\"n\">R</span><span class=\"o\">.</span><span class=\"n\">call_tir</span><span class=\"p\">(</span><span class=\"n\">linear0</span><span class=\"p\">,</span> <span class=\"p\">(</span><span class=\"n\">x</span><span class=\"p\">,</span> <span class=\"n\">meta</span><span class=\"p\">[</span><span class=\"n\">relay</span><span class=\"o\">.</span><span class=\"n\">Constant</span><span class=\"p\">][</span><span class=\"mi\">0</span><span class=\"p\">],</span> <span class=\"n\">meta</span><span class=\"p\">[</span><span class=\"n\">relay</span><span class=\"o\">.</span><span class=\"n\">Constant</span><span class=\"p\">][</span><span class=\"mi\">1</span><span class=\"p\">]),</span> <span class=\"p\">(</span><span class=\"mi\">1</span><span class=\"p\">,</span> <span class=\"mi\">128</span><span class=\"p\">),</span> <span class=\"n\">dtype</span><span class=\"o\">=</span><span class=\"s2\">&quot;float32&quot;</span><span class=\"p\">)</span>\n",
              "            <span class=\"n\">lv1</span> <span class=\"o\">=</span> <span class=\"n\">R</span><span class=\"o\">.</span><span class=\"n\">call_tir</span><span class=\"p\">(</span><span class=\"s2\">&quot;env.relu&quot;</span><span class=\"p\">,</span> <span class=\"p\">(</span><span class=\"n\">lv0</span><span class=\"p\">,),</span> <span class=\"p\">(</span><span class=\"mi\">1</span><span class=\"p\">,</span> <span class=\"mi\">128</span><span class=\"p\">),</span> <span class=\"n\">dtype</span><span class=\"o\">=</span><span class=\"s2\">&quot;float32&quot;</span><span class=\"p\">)</span>\n",
              "            <span class=\"n\">out</span> <span class=\"o\">=</span> <span class=\"n\">R</span><span class=\"o\">.</span><span class=\"n\">call_tir</span><span class=\"p\">(</span><span class=\"s2\">&quot;env.linear&quot;</span><span class=\"p\">,</span> <span class=\"p\">(</span><span class=\"n\">lv1</span><span class=\"p\">,</span> <span class=\"n\">meta</span><span class=\"p\">[</span><span class=\"n\">relay</span><span class=\"o\">.</span><span class=\"n\">Constant</span><span class=\"p\">][</span><span class=\"mi\">2</span><span class=\"p\">],</span> <span class=\"n\">meta</span><span class=\"p\">[</span><span class=\"n\">relay</span><span class=\"o\">.</span><span class=\"n\">Constant</span><span class=\"p\">][</span><span class=\"mi\">3</span><span class=\"p\">]),</span> <span class=\"p\">(</span><span class=\"mi\">1</span><span class=\"p\">,</span> <span class=\"mi\">10</span><span class=\"p\">),</span> <span class=\"n\">dtype</span><span class=\"o\">=</span><span class=\"s2\">&quot;float32&quot;</span><span class=\"p\">)</span>\n",
              "            <span class=\"n\">R</span><span class=\"o\">.</span><span class=\"n\">output</span><span class=\"p\">(</span><span class=\"n\">out</span><span class=\"p\">)</span>\n",
              "        <span class=\"k\">return</span> <span class=\"n\">out</span>\n",
              "    \n",
              "    <span class=\"nd\">@T</span><span class=\"o\">.</span><span class=\"n\">prim_func</span>\n",
              "    <span class=\"k\">def</span> <span class=\"nf\">linear0</span><span class=\"p\">(</span><span class=\"n\">X</span><span class=\"p\">:</span> <span class=\"n\">T</span><span class=\"o\">.</span><span class=\"n\">Buffer</span><span class=\"p\">[(</span><span class=\"mi\">1</span><span class=\"p\">,</span> <span class=\"mi\">784</span><span class=\"p\">),</span> <span class=\"s2\">&quot;float32&quot;</span><span class=\"p\">],</span> <span class=\"n\">W</span><span class=\"p\">:</span> <span class=\"n\">T</span><span class=\"o\">.</span><span class=\"n\">Buffer</span><span class=\"p\">[(</span><span class=\"mi\">128</span><span class=\"p\">,</span> <span class=\"mi\">784</span><span class=\"p\">),</span> <span class=\"s2\">&quot;float32&quot;</span><span class=\"p\">],</span> <span class=\"n\">B</span><span class=\"p\">:</span> <span class=\"n\">T</span><span class=\"o\">.</span><span class=\"n\">Buffer</span><span class=\"p\">[</span><span class=\"mi\">128</span><span class=\"p\">,</span> <span class=\"s2\">&quot;float32&quot;</span><span class=\"p\">],</span> <span class=\"n\">Z</span><span class=\"p\">:</span> <span class=\"n\">T</span><span class=\"o\">.</span><span class=\"n\">Buffer</span><span class=\"p\">[(</span><span class=\"mi\">1</span><span class=\"p\">,</span> <span class=\"mi\">128</span><span class=\"p\">),</span> <span class=\"s2\">&quot;float32&quot;</span><span class=\"p\">])</span> <span class=\"o\">-&gt;</span> <span class=\"kc\">None</span><span class=\"p\">:</span>\n",
              "        <span class=\"c1\"># function attr dict</span>\n",
              "        <span class=\"n\">T</span><span class=\"o\">.</span><span class=\"n\">func_attr</span><span class=\"p\">({</span><span class=\"s2\">&quot;global_symbol&quot;</span><span class=\"p\">:</span> <span class=\"s2\">&quot;linear0&quot;</span><span class=\"p\">,</span> <span class=\"s2\">&quot;tir.noalias&quot;</span><span class=\"p\">:</span> <span class=\"kc\">True</span><span class=\"p\">})</span>\n",
              "        <span class=\"c1\"># body</span>\n",
              "        <span class=\"c1\"># with T.block(&quot;root&quot;)</span>\n",
              "        <span class=\"n\">Y</span> <span class=\"o\">=</span> <span class=\"n\">T</span><span class=\"o\">.</span><span class=\"n\">alloc_buffer</span><span class=\"p\">([</span><span class=\"mi\">1</span><span class=\"p\">,</span> <span class=\"mi\">128</span><span class=\"p\">],</span> <span class=\"n\">dtype</span><span class=\"o\">=</span><span class=\"s2\">&quot;float32&quot;</span><span class=\"p\">)</span>\n",
              "        <span class=\"k\">for</span> <span class=\"n\">i_0_j_0_i_1_j_1_fused</span> <span class=\"ow\">in</span> <span class=\"n\">T</span><span class=\"o\">.</span><span class=\"n\">parallel</span><span class=\"p\">(</span><span class=\"mi\">8</span><span class=\"p\">,</span> <span class=\"n\">annotations</span><span class=\"o\">=</span><span class=\"p\">{</span><span class=\"s2\">&quot;pragma_auto_unroll_max_step&quot;</span><span class=\"p\">:</span><span class=\"mi\">512</span><span class=\"p\">,</span> <span class=\"s2\">&quot;pragma_unroll_explicit&quot;</span><span class=\"p\">:</span><span class=\"mi\">1</span><span class=\"p\">}):</span>\n",
              "            <span class=\"k\">for</span> <span class=\"n\">i_2_init</span><span class=\"p\">,</span> <span class=\"n\">j_2_init</span><span class=\"p\">,</span> <span class=\"n\">i_3_init</span> <span class=\"ow\">in</span> <span class=\"n\">T</span><span class=\"o\">.</span><span class=\"n\">grid</span><span class=\"p\">(</span><span class=\"mi\">1</span><span class=\"p\">,</span> <span class=\"mi\">8</span><span class=\"p\">,</span> <span class=\"mi\">1</span><span class=\"p\">):</span>\n",
              "                <span class=\"k\">for</span> <span class=\"n\">j_3_fused_init</span> <span class=\"ow\">in</span> <span class=\"n\">T</span><span class=\"o\">.</span><span class=\"n\">vectorized</span><span class=\"p\">(</span><span class=\"mi\">2</span><span class=\"p\">):</span>\n",
              "                    <span class=\"k\">with</span> <span class=\"n\">T</span><span class=\"o\">.</span><span class=\"n\">block</span><span class=\"p\">(</span><span class=\"s2\">&quot;Y_init&quot;</span><span class=\"p\">):</span>\n",
              "                        <span class=\"n\">vi</span> <span class=\"o\">=</span> <span class=\"n\">T</span><span class=\"o\">.</span><span class=\"n\">axis</span><span class=\"o\">.</span><span class=\"n\">spatial</span><span class=\"p\">(</span><span class=\"mi\">1</span><span class=\"p\">,</span> <span class=\"n\">i_3_init</span> <span class=\"o\">+</span> <span class=\"n\">i_2_init</span><span class=\"p\">)</span>\n",
              "                        <span class=\"n\">vj</span> <span class=\"o\">=</span> <span class=\"n\">T</span><span class=\"o\">.</span><span class=\"n\">axis</span><span class=\"o\">.</span><span class=\"n\">spatial</span><span class=\"p\">(</span><span class=\"mi\">128</span><span class=\"p\">,</span> <span class=\"n\">i_0_j_0_i_1_j_1_fused</span> <span class=\"o\">*</span> <span class=\"mi\">16</span> <span class=\"o\">+</span> <span class=\"n\">j_2_init</span> <span class=\"o\">*</span> <span class=\"mi\">2</span> <span class=\"o\">+</span> <span class=\"n\">j_3_fused_init</span><span class=\"p\">)</span>\n",
              "                        <span class=\"n\">T</span><span class=\"o\">.</span><span class=\"n\">reads</span><span class=\"p\">()</span>\n",
              "                        <span class=\"n\">T</span><span class=\"o\">.</span><span class=\"n\">writes</span><span class=\"p\">(</span><span class=\"n\">Y</span><span class=\"p\">[</span><span class=\"n\">vi</span><span class=\"p\">,</span> <span class=\"n\">vj</span><span class=\"p\">])</span>\n",
              "                        <span class=\"n\">T</span><span class=\"o\">.</span><span class=\"n\">block_attr</span><span class=\"p\">({</span><span class=\"s2\">&quot;meta_schedule.tiling_structure&quot;</span><span class=\"p\">:</span><span class=\"s2\">&quot;SSRSRS&quot;</span><span class=\"p\">})</span>\n",
              "                        <span class=\"n\">Y</span><span class=\"p\">[</span><span class=\"n\">vi</span><span class=\"p\">,</span> <span class=\"n\">vj</span><span class=\"p\">]</span> <span class=\"o\">=</span> <span class=\"n\">T</span><span class=\"o\">.</span><span class=\"n\">float32</span><span class=\"p\">(</span><span class=\"mi\">0</span><span class=\"p\">)</span>\n",
              "            <span class=\"k\">for</span> <span class=\"n\">k_0</span><span class=\"p\">,</span> <span class=\"n\">i_2</span><span class=\"p\">,</span> <span class=\"n\">j_2</span><span class=\"p\">,</span> <span class=\"n\">k_1</span><span class=\"p\">,</span> <span class=\"n\">i_3</span> <span class=\"ow\">in</span> <span class=\"n\">T</span><span class=\"o\">.</span><span class=\"n\">grid</span><span class=\"p\">(</span><span class=\"mi\">784</span><span class=\"p\">,</span> <span class=\"mi\">1</span><span class=\"p\">,</span> <span class=\"mi\">8</span><span class=\"p\">,</span> <span class=\"mi\">1</span><span class=\"p\">,</span> <span class=\"mi\">1</span><span class=\"p\">):</span>\n",
              "                <span class=\"k\">for</span> <span class=\"n\">j_3_fused</span> <span class=\"ow\">in</span> <span class=\"n\">T</span><span class=\"o\">.</span><span class=\"n\">vectorized</span><span class=\"p\">(</span><span class=\"mi\">2</span><span class=\"p\">):</span>\n",
              "                    <span class=\"k\">with</span> <span class=\"n\">T</span><span class=\"o\">.</span><span class=\"n\">block</span><span class=\"p\">(</span><span class=\"s2\">&quot;Y_update&quot;</span><span class=\"p\">):</span>\n",
              "                        <span class=\"n\">vi</span> <span class=\"o\">=</span> <span class=\"n\">T</span><span class=\"o\">.</span><span class=\"n\">axis</span><span class=\"o\">.</span><span class=\"n\">spatial</span><span class=\"p\">(</span><span class=\"mi\">1</span><span class=\"p\">,</span> <span class=\"n\">i_3</span> <span class=\"o\">+</span> <span class=\"n\">i_2</span><span class=\"p\">)</span>\n",
              "                        <span class=\"n\">vj</span> <span class=\"o\">=</span> <span class=\"n\">T</span><span class=\"o\">.</span><span class=\"n\">axis</span><span class=\"o\">.</span><span class=\"n\">spatial</span><span class=\"p\">(</span><span class=\"mi\">128</span><span class=\"p\">,</span> <span class=\"n\">i_0_j_0_i_1_j_1_fused</span> <span class=\"o\">*</span> <span class=\"mi\">16</span> <span class=\"o\">+</span> <span class=\"n\">j_2</span> <span class=\"o\">*</span> <span class=\"mi\">2</span> <span class=\"o\">+</span> <span class=\"n\">j_3_fused</span><span class=\"p\">)</span>\n",
              "                        <span class=\"n\">vk</span> <span class=\"o\">=</span> <span class=\"n\">T</span><span class=\"o\">.</span><span class=\"n\">axis</span><span class=\"o\">.</span><span class=\"n\">reduce</span><span class=\"p\">(</span><span class=\"mi\">784</span><span class=\"p\">,</span> <span class=\"n\">k_1</span> <span class=\"o\">+</span> <span class=\"n\">k_0</span><span class=\"p\">)</span>\n",
              "                        <span class=\"n\">T</span><span class=\"o\">.</span><span class=\"n\">reads</span><span class=\"p\">(</span><span class=\"n\">Y</span><span class=\"p\">[</span><span class=\"n\">vi</span><span class=\"p\">,</span> <span class=\"n\">vj</span><span class=\"p\">],</span> <span class=\"n\">X</span><span class=\"p\">[</span><span class=\"n\">vi</span><span class=\"p\">,</span> <span class=\"n\">vk</span><span class=\"p\">],</span> <span class=\"n\">W</span><span class=\"p\">[</span><span class=\"n\">vj</span><span class=\"p\">,</span> <span class=\"n\">vk</span><span class=\"p\">])</span>\n",
              "                        <span class=\"n\">T</span><span class=\"o\">.</span><span class=\"n\">writes</span><span class=\"p\">(</span><span class=\"n\">Y</span><span class=\"p\">[</span><span class=\"n\">vi</span><span class=\"p\">,</span> <span class=\"n\">vj</span><span class=\"p\">])</span>\n",
              "                        <span class=\"n\">T</span><span class=\"o\">.</span><span class=\"n\">block_attr</span><span class=\"p\">({</span><span class=\"s2\">&quot;meta_schedule.tiling_structure&quot;</span><span class=\"p\">:</span><span class=\"s2\">&quot;SSRSRS&quot;</span><span class=\"p\">})</span>\n",
              "                        <span class=\"n\">Y</span><span class=\"p\">[</span><span class=\"n\">vi</span><span class=\"p\">,</span> <span class=\"n\">vj</span><span class=\"p\">]</span> <span class=\"o\">=</span> <span class=\"n\">Y</span><span class=\"p\">[</span><span class=\"n\">vi</span><span class=\"p\">,</span> <span class=\"n\">vj</span><span class=\"p\">]</span> <span class=\"o\">+</span> <span class=\"n\">X</span><span class=\"p\">[</span><span class=\"n\">vi</span><span class=\"p\">,</span> <span class=\"n\">vk</span><span class=\"p\">]</span> <span class=\"o\">*</span> <span class=\"n\">W</span><span class=\"p\">[</span><span class=\"n\">vj</span><span class=\"p\">,</span> <span class=\"n\">vk</span><span class=\"p\">]</span>\n",
              "        <span class=\"k\">for</span> <span class=\"n\">i_j_fused</span> <span class=\"ow\">in</span> <span class=\"n\">T</span><span class=\"o\">.</span><span class=\"n\">parallel</span><span class=\"p\">(</span><span class=\"mi\">128</span><span class=\"p\">,</span> <span class=\"n\">annotations</span><span class=\"o\">=</span><span class=\"p\">{</span><span class=\"s2\">&quot;pragma_auto_unroll_max_step&quot;</span><span class=\"p\">:</span><span class=\"mi\">512</span><span class=\"p\">,</span> <span class=\"s2\">&quot;pragma_unroll_explicit&quot;</span><span class=\"p\">:</span><span class=\"mi\">1</span><span class=\"p\">}):</span>\n",
              "            <span class=\"k\">with</span> <span class=\"n\">T</span><span class=\"o\">.</span><span class=\"n\">block</span><span class=\"p\">(</span><span class=\"s2\">&quot;Z&quot;</span><span class=\"p\">):</span>\n",
              "                <span class=\"n\">vi</span> <span class=\"o\">=</span> <span class=\"n\">T</span><span class=\"o\">.</span><span class=\"n\">axis</span><span class=\"o\">.</span><span class=\"n\">spatial</span><span class=\"p\">(</span><span class=\"mi\">1</span><span class=\"p\">,</span> <span class=\"mi\">0</span><span class=\"p\">)</span>\n",
              "                <span class=\"n\">vj</span> <span class=\"o\">=</span> <span class=\"n\">T</span><span class=\"o\">.</span><span class=\"n\">axis</span><span class=\"o\">.</span><span class=\"n\">spatial</span><span class=\"p\">(</span><span class=\"mi\">128</span><span class=\"p\">,</span> <span class=\"n\">i_j_fused</span><span class=\"p\">)</span>\n",
              "                <span class=\"n\">T</span><span class=\"o\">.</span><span class=\"n\">reads</span><span class=\"p\">(</span><span class=\"n\">Y</span><span class=\"p\">[</span><span class=\"n\">vi</span><span class=\"p\">,</span> <span class=\"n\">vj</span><span class=\"p\">],</span> <span class=\"n\">B</span><span class=\"p\">[</span><span class=\"n\">vj</span><span class=\"p\">])</span>\n",
              "                <span class=\"n\">T</span><span class=\"o\">.</span><span class=\"n\">writes</span><span class=\"p\">(</span><span class=\"n\">Z</span><span class=\"p\">[</span><span class=\"n\">vi</span><span class=\"p\">,</span> <span class=\"n\">vj</span><span class=\"p\">])</span>\n",
              "                <span class=\"n\">Z</span><span class=\"p\">[</span><span class=\"n\">vi</span><span class=\"p\">,</span> <span class=\"n\">vj</span><span class=\"p\">]</span> <span class=\"o\">=</span> <span class=\"n\">Y</span><span class=\"p\">[</span><span class=\"n\">vi</span><span class=\"p\">,</span> <span class=\"n\">vj</span><span class=\"p\">]</span> <span class=\"o\">+</span> <span class=\"n\">B</span><span class=\"p\">[</span><span class=\"n\">vj</span><span class=\"p\">]</span>\n",
              "    \n",
              "</pre></div>\n",
              "\n"
            ]
          },
          "metadata": {},
          "execution_count": 49
        }
      ]
    },
    {
      "cell_type": "code",
      "source": [
        "ex = relax.vm.build(MyModuleWithParams2, target=\"llvm\")\n",
        "vm = relax.VirtualMachine(ex, tvm.cpu())\n",
        "\n",
        "nd_res = vm[\"main\"](data_nd)\n",
        "\n",
        "pred_kind = np.argmax(nd_res.numpy(), axis=1)\n",
        "print(\"MyModuleWithParams2 Prediction:\", class_names[pred_kind[0]])"
      ],
      "metadata": {
        "colab": {
          "base_uri": "https://localhost:8080/"
        },
        "id": "m9gV7Zs_sChM",
        "outputId": "f87b85cd-1c32-45ea-9eb3-c2aba27d13c0"
      },
      "execution_count": 50,
      "outputs": [
        {
          "output_type": "stream",
          "name": "stdout",
          "text": [
            "MyModuleWithParams2 Prediction: Sneaker\n"
          ]
        }
      ]
    },
    {
      "cell_type": "code",
      "source": [
        "ftimer = vm.module.time_evaluator(\"main\", tvm.cpu(), number=50)\n",
        "\n",
        "print(\"MyModuleWithParams2 time-cost: %g ms\" % (ftimer(data_nd).mean * 1000))"
      ],
      "metadata": {
        "colab": {
          "base_uri": "https://localhost:8080/"
        },
        "id": "Pk68q-jzsJgw",
        "outputId": "1ba7c26e-c113-4a69-8fe5-ea4a999b128b"
      },
      "execution_count": 51,
      "outputs": [
        {
          "output_type": "stream",
          "name": "stdout",
          "text": [
            "MyModuleWithParams2 time-cost: 0.202655 ms\n"
          ]
        }
      ]
    },
    {
      "cell_type": "code",
      "source": [],
      "metadata": {
        "id": "qfc8I7PksL51"
      },
      "execution_count": null,
      "outputs": []
    }
  ]
}